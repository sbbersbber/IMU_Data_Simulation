{
 "cells": [
  {
   "cell_type": "code",
   "execution_count": 1,
   "metadata": {},
   "outputs": [],
   "source": [
    "import numpy as np\n",
    "import pandas as pd\n",
    "import glob"
   ]
  },
  {
   "cell_type": "markdown",
   "metadata": {},
   "source": [
    "## Table 2 in submission [done]"
   ]
  },
  {
   "cell_type": "code",
   "execution_count": 13,
   "metadata": {},
   "outputs": [],
   "source": [
    "# For individual task\n",
    "root_paths = ['/data/UKBB/SSL/reports/permutation/*csv', '/data/UKBB/SSL/reports/aot/*csv', \n",
    "              '/data/UKBB/SSL/reports/scale/*csv', '/data/UKBB/SSL/reports/time_w/*csv']\n",
    "              \n",
    "master_file_list = []\n",
    "for root_path in root_paths:\n",
    "    current_list = glob.glob(root_path)\n",
    "    master_file_list.extend(current_list)"
   ]
  },
  {
   "cell_type": "code",
   "execution_count": 14,
   "metadata": {},
   "outputs": [],
   "source": [
    "# get the ones with error bar\n",
    "master_df = []\n",
    "for file_path in master_file_list:\n",
    "    file_name = file_path.split('/')[-1]\n",
    "    dataset = file_name.split('_')[0]\n",
    "    \n",
    "    subject_num = file_name.split('_')[-1]\n",
    "    subject_num = int(subject_num.split('.')[0])\n",
    "    model = '_'.join((file_name.split('_')[1:-1]))\n",
    "    task = file_path.split('/')[-2]\n",
    "\n",
    "    # epoch_count = file_name.split('_')[-1][:2]\n",
    "    \n",
    "    current_df = pd.read_csv(file_path)\n",
    "    \n",
    "    current_df['id'] = current_df.index \n",
    "    current_df = pd.melt(current_df, id_vars=['id'])\n",
    "    current_df.drop(['id'], inplace=True, axis=1)\n",
    "\n",
    "    current_df['dataset'] = dataset\n",
    "    current_df['model'] = model\n",
    "    # print(file_path, model, subject_num)\n",
    "    \n",
    "    current_df['subject_num'] = subject_num  \n",
    "    current_df['task'] = task\n",
    "    \n",
    "    if len(master_df) == 0:\n",
    "        master_df = current_df\n",
    "    else:\n",
    "        master_df = pd.concat([master_df, current_df])\n",
    "master_df = master_df.rename(columns={\"variable\": \"metric\"}) \n",
    "#master_df['epoch'] = master_df['epoch'].astype(int)"
   ]
  },
  {
   "cell_type": "code",
   "execution_count": 15,
   "metadata": {},
   "outputs": [],
   "source": [
    "master_df = master_df[['task', 'model', 'metric', 'value', 'dataset']]"
   ]
  },
  {
   "cell_type": "code",
   "execution_count": 16,
   "metadata": {},
   "outputs": [
    {
     "data": {
      "text/plain": [
       "0     permutation\n",
       "1     permutation\n",
       "2     permutation\n",
       "3     permutation\n",
       "4     permutation\n",
       "         ...     \n",
       "15         time_w\n",
       "16         time_w\n",
       "17         time_w\n",
       "18         time_w\n",
       "19         time_w\n",
       "Name: task, Length: 4784, dtype: object"
      ]
     },
     "execution_count": 16,
     "metadata": {},
     "output_type": "execute_result"
    }
   ],
   "source": [
    "master_df['task']"
   ]
  },
  {
   "cell_type": "code",
   "execution_count": 17,
   "metadata": {},
   "outputs": [
    {
     "data": {
      "text/html": [
       "<div>\n",
       "<style scoped>\n",
       "    .dataframe tbody tr th:only-of-type {\n",
       "        vertical-align: middle;\n",
       "    }\n",
       "\n",
       "    .dataframe tbody tr th {\n",
       "        vertical-align: top;\n",
       "    }\n",
       "\n",
       "    .dataframe thead th {\n",
       "        text-align: right;\n",
       "    }\n",
       "</style>\n",
       "<table border=\"1\" class=\"dataframe\">\n",
       "  <thead>\n",
       "    <tr style=\"text-align: right;\">\n",
       "      <th></th>\n",
       "      <th>task</th>\n",
       "      <th>model</th>\n",
       "      <th>metric</th>\n",
       "      <th>value</th>\n",
       "      <th>dataset</th>\n",
       "    </tr>\n",
       "  </thead>\n",
       "  <tbody>\n",
       "    <tr>\n",
       "      <th>0</th>\n",
       "      <td>permutation</td>\n",
       "      <td>flip_net_ft_100_postR60_1500_-1</td>\n",
       "      <td>precision</td>\n",
       "      <td>0.861416</td>\n",
       "      <td>rowlands</td>\n",
       "    </tr>\n",
       "    <tr>\n",
       "      <th>1</th>\n",
       "      <td>permutation</td>\n",
       "      <td>flip_net_ft_100_postR60_1500_-1</td>\n",
       "      <td>precision</td>\n",
       "      <td>0.811094</td>\n",
       "      <td>rowlands</td>\n",
       "    </tr>\n",
       "    <tr>\n",
       "      <th>2</th>\n",
       "      <td>permutation</td>\n",
       "      <td>flip_net_ft_100_postR60_1500_-1</td>\n",
       "      <td>precision</td>\n",
       "      <td>0.924670</td>\n",
       "      <td>rowlands</td>\n",
       "    </tr>\n",
       "    <tr>\n",
       "      <th>3</th>\n",
       "      <td>permutation</td>\n",
       "      <td>flip_net_ft_100_postR60_1500_-1</td>\n",
       "      <td>precision</td>\n",
       "      <td>0.831987</td>\n",
       "      <td>rowlands</td>\n",
       "    </tr>\n",
       "    <tr>\n",
       "      <th>4</th>\n",
       "      <td>permutation</td>\n",
       "      <td>flip_net_ft_100_postR60_1500_-1</td>\n",
       "      <td>precision</td>\n",
       "      <td>0.884477</td>\n",
       "      <td>rowlands</td>\n",
       "    </tr>\n",
       "  </tbody>\n",
       "</table>\n",
       "</div>"
      ],
      "text/plain": [
       "          task                            model     metric     value   dataset\n",
       "0  permutation  flip_net_ft_100_postR60_1500_-1  precision  0.861416  rowlands\n",
       "1  permutation  flip_net_ft_100_postR60_1500_-1  precision  0.811094  rowlands\n",
       "2  permutation  flip_net_ft_100_postR60_1500_-1  precision  0.924670  rowlands\n",
       "3  permutation  flip_net_ft_100_postR60_1500_-1  precision  0.831987  rowlands\n",
       "4  permutation  flip_net_ft_100_postR60_1500_-1  precision  0.884477  rowlands"
      ]
     },
     "execution_count": 17,
     "metadata": {},
     "output_type": "execute_result"
    }
   ],
   "source": [
    "master_df.head()"
   ]
  },
  {
   "cell_type": "code",
   "execution_count": 18,
   "metadata": {},
   "outputs": [],
   "source": [
    "filter_master_df = master_df[(master_df['metric'] == 'f1') | (master_df['metric'] == 'kappa')]"
   ]
  },
  {
   "cell_type": "code",
   "execution_count": 19,
   "metadata": {},
   "outputs": [],
   "source": [
    "key=['dataset', 'metric', 'task']\n",
    "ok = filter_master_df.groupby( key).describe()"
   ]
  },
  {
   "cell_type": "code",
   "execution_count": 22,
   "metadata": {},
   "outputs": [],
   "source": [
    "ok = ok.reset_index(['dataset', 'metric' , 'task' ])"
   ]
  },
  {
   "cell_type": "code",
   "execution_count": 24,
   "metadata": {},
   "outputs": [
    {
     "data": {
      "text/html": [
       "<div>\n",
       "<style scoped>\n",
       "    .dataframe tbody tr th:only-of-type {\n",
       "        vertical-align: middle;\n",
       "    }\n",
       "\n",
       "    .dataframe tbody tr th {\n",
       "        vertical-align: top;\n",
       "    }\n",
       "\n",
       "    .dataframe thead tr th {\n",
       "        text-align: left;\n",
       "    }\n",
       "</style>\n",
       "<table border=\"1\" class=\"dataframe\">\n",
       "  <thead>\n",
       "    <tr>\n",
       "      <th></th>\n",
       "      <th>dataset</th>\n",
       "      <th>metric</th>\n",
       "      <th>task</th>\n",
       "      <th colspan=\"8\" halign=\"left\">value</th>\n",
       "    </tr>\n",
       "    <tr>\n",
       "      <th></th>\n",
       "      <th></th>\n",
       "      <th></th>\n",
       "      <th></th>\n",
       "      <th>count</th>\n",
       "      <th>mean</th>\n",
       "      <th>std</th>\n",
       "      <th>min</th>\n",
       "      <th>25%</th>\n",
       "      <th>50%</th>\n",
       "      <th>75%</th>\n",
       "      <th>max</th>\n",
       "    </tr>\n",
       "  </thead>\n",
       "  <tbody>\n",
       "    <tr>\n",
       "      <th>0</th>\n",
       "      <td>adl</td>\n",
       "      <td>f1</td>\n",
       "      <td>aot</td>\n",
       "      <td>7.0</td>\n",
       "      <td>0.754390</td>\n",
       "      <td>0.157191</td>\n",
       "      <td>0.467779</td>\n",
       "      <td>0.679454</td>\n",
       "      <td>0.820000</td>\n",
       "      <td>0.864641</td>\n",
       "      <td>0.904762</td>\n",
       "    </tr>\n",
       "    <tr>\n",
       "      <th>1</th>\n",
       "      <td>adl</td>\n",
       "      <td>f1</td>\n",
       "      <td>permutation</td>\n",
       "      <td>7.0</td>\n",
       "      <td>0.809835</td>\n",
       "      <td>0.096647</td>\n",
       "      <td>0.660000</td>\n",
       "      <td>0.756569</td>\n",
       "      <td>0.792589</td>\n",
       "      <td>0.880996</td>\n",
       "      <td>0.941127</td>\n",
       "    </tr>\n",
       "    <tr>\n",
       "      <th>2</th>\n",
       "      <td>adl</td>\n",
       "      <td>f1</td>\n",
       "      <td>scale</td>\n",
       "      <td>7.0</td>\n",
       "      <td>0.410983</td>\n",
       "      <td>0.185836</td>\n",
       "      <td>0.105201</td>\n",
       "      <td>0.304262</td>\n",
       "      <td>0.429962</td>\n",
       "      <td>0.556292</td>\n",
       "      <td>0.620612</td>\n",
       "    </tr>\n",
       "    <tr>\n",
       "      <th>3</th>\n",
       "      <td>adl</td>\n",
       "      <td>f1</td>\n",
       "      <td>time_w</td>\n",
       "      <td>7.0</td>\n",
       "      <td>0.764831</td>\n",
       "      <td>0.116905</td>\n",
       "      <td>0.573044</td>\n",
       "      <td>0.702677</td>\n",
       "      <td>0.800578</td>\n",
       "      <td>0.825523</td>\n",
       "      <td>0.923791</td>\n",
       "    </tr>\n",
       "    <tr>\n",
       "      <th>4</th>\n",
       "      <td>adl</td>\n",
       "      <td>kappa</td>\n",
       "      <td>aot</td>\n",
       "      <td>7.0</td>\n",
       "      <td>0.730352</td>\n",
       "      <td>0.209764</td>\n",
       "      <td>0.388446</td>\n",
       "      <td>0.591625</td>\n",
       "      <td>0.814683</td>\n",
       "      <td>0.878970</td>\n",
       "      <td>0.968145</td>\n",
       "    </tr>\n",
       "  </tbody>\n",
       "</table>\n",
       "</div>"
      ],
      "text/plain": [
       "  dataset metric         task value                                          \\\n",
       "                              count      mean       std       min       25%   \n",
       "0     adl     f1          aot   7.0  0.754390  0.157191  0.467779  0.679454   \n",
       "1     adl     f1  permutation   7.0  0.809835  0.096647  0.660000  0.756569   \n",
       "2     adl     f1        scale   7.0  0.410983  0.185836  0.105201  0.304262   \n",
       "3     adl     f1       time_w   7.0  0.764831  0.116905  0.573044  0.702677   \n",
       "4     adl  kappa          aot   7.0  0.730352  0.209764  0.388446  0.591625   \n",
       "\n",
       "                                 \n",
       "        50%       75%       max  \n",
       "0  0.820000  0.864641  0.904762  \n",
       "1  0.792589  0.880996  0.941127  \n",
       "2  0.429962  0.556292  0.620612  \n",
       "3  0.800578  0.825523  0.923791  \n",
       "4  0.814683  0.878970  0.968145  "
      ]
     },
     "execution_count": 24,
     "metadata": {},
     "output_type": "execute_result"
    }
   ],
   "source": [
    "ok.head()"
   ]
  },
  {
   "cell_type": "code",
   "execution_count": null,
   "metadata": {},
   "outputs": [],
   "source": [
    "# read out single task table "
   ]
  },
  {
   "cell_type": "code",
   "execution_count": 35,
   "metadata": {},
   "outputs": [
    {
     "data": {
      "text/plain": [
       "array(['aot', 'permutation', 'scale', 'time_w'], dtype=object)"
      ]
     },
     "execution_count": 35,
     "metadata": {},
     "output_type": "execute_result"
    }
   ],
   "source": [
    "np.unique(ok.task)"
   ]
  },
  {
   "cell_type": "code",
   "execution_count": 25,
   "metadata": {},
   "outputs": [
    {
     "data": {
      "text/plain": [
       "array(['adl', 'capture24', 'oppo', 'pamap', 'realworld', 'rowlands',\n",
       "       'wisdm'], dtype=object)"
      ]
     },
     "execution_count": 25,
     "metadata": {},
     "output_type": "execute_result"
    }
   ],
   "source": [
    "np.unique(ok.dataset)"
   ]
  },
  {
   "cell_type": "code",
   "execution_count": 37,
   "metadata": {},
   "outputs": [],
   "source": [
    "def get_row_str(my_df, task_name):\n",
    "    task_df = my_df[my_df.task == task_name]\n",
    "    data_set_order = ['capture24', 'rowlands', 'wisdm', 'realworld', 'oppo', 'pamap', 'adl']\n",
    "    \n",
    "    res_str = \"\"\n",
    "    for data_set in data_set_order:\n",
    "        mean= task_df[task_df['dataset'] == data_set].iloc[0].value['mean']\n",
    "        std =task_df[task_df['dataset'] == data_set].iloc[0].value['std']\n",
    "        if len(res_str) == 0:\n",
    "            res_str = r'%.3f $ \\pm $ %.3f' % (mean, std)\n",
    "        else:\n",
    "            res_str = res_str + r' & %.3f $ \\pm $ %.3f' % (mean, std)\n",
    "            \n",
    "    print(res_str.replace('0.', '.'))"
   ]
  },
  {
   "cell_type": "code",
   "execution_count": 38,
   "metadata": {},
   "outputs": [
    {
     "name": "stdout",
     "output_type": "stream",
     "text": [
      ".671 $ \\pm $ .094 & .565 $ \\pm $ .120 & .767 $ \\pm $ .124 & .750 $ \\pm $ .084 & .582 $ \\pm $ .054 & .715 $ \\pm $ .036 & .754 $ \\pm $ .157\n"
     ]
    }
   ],
   "source": [
    "get_row_str(ok, 'aot')"
   ]
  },
  {
   "cell_type": "code",
   "execution_count": 39,
   "metadata": {},
   "outputs": [
    {
     "name": "stdout",
     "output_type": "stream",
     "text": [
      ".708 $ \\pm $ .094 & .692 $ \\pm $ .095 & .634 $ \\pm $ .123 & .740 $ \\pm $ .089 & .293 $ \\pm $ .146 & .607 $ \\pm $ .083 & .411 $ \\pm $ .186\n"
     ]
    }
   ],
   "source": [
    "get_row_str(ok, 'scale')"
   ]
  },
  {
   "cell_type": "code",
   "execution_count": 40,
   "metadata": {},
   "outputs": [
    {
     "name": "stdout",
     "output_type": "stream",
     "text": [
      ".721 $ \\pm $ .093 & .783 $ \\pm $ .099 & .778 $ \\pm $ .109 & .766 $ \\pm $ .063 & .588 $ \\pm $ .076 & .750 $ \\pm $ .057 & .810 $ \\pm $ .097\n"
     ]
    }
   ],
   "source": [
    "get_row_str(ok, 'permutation')"
   ]
  },
  {
   "cell_type": "code",
   "execution_count": 41,
   "metadata": {},
   "outputs": [
    {
     "name": "stdout",
     "output_type": "stream",
     "text": [
      ".715 $ \\pm $ .093 & .776 $ \\pm $ .110 & .767 $ \\pm $ .120 & .772 $ \\pm $ .073 & .584 $ \\pm $ .064 & .737 $ \\pm $ .079 & .765 $ \\pm $ .117\n"
     ]
    }
   ],
   "source": [
    "get_row_str(ok, 'time_w')"
   ]
  },
  {
   "cell_type": "markdown",
   "metadata": {},
   "source": [
    "## Table 3 submission [done]"
   ]
  },
  {
   "cell_type": "code",
   "execution_count": 2,
   "metadata": {},
   "outputs": [],
   "source": [
    "root_path = '/data/UKBB/SSL/reports/subject_wise/*'\n",
    "exp_list = glob.glob(root_path)\n",
    "\n",
    "\n",
    "master_file_list = []\n",
    "for my_path in exp_list:\n",
    "    current_list = glob.glob(my_path+'/*csv')\n",
    "    master_file_list.extend(current_list)"
   ]
  },
  {
   "cell_type": "code",
   "execution_count": 65,
   "metadata": {},
   "outputs": [],
   "source": [
    "# For individual task\n",
    "# root_paths = ['/data/UKBB/SSL/reports/aTrue_pTrue_sFalse_tFalse/*csv', '/data/UKBB/SSL/reports/aFalse_pTrue_sTrue_tFalse/*csv', \n",
    "#               '/data/UKBB/SSL/reports/aFalse_pTrue_sTrue_tTrue/*csv', '/data/UKBB/SSL/reports/aFalse_pTrue_sFalse_tTrue/*csv',\n",
    "#              '/data/UKBB/SSL/reports/aTrue_pTrue_sTrue_tFalse/*csv', '/data/UKBB/SSL/reports/aTrue_pTrue_sTrue_tTrue/*csv',\n",
    "#              '/data/UKBB/SSL/reports/aFalse_pFalse_sTrue_tTrue/*csv', '/data/UKBB/SSL/reports/aTrue_pFalse_sTrue_tFalse/*csv',\n",
    "#              '/data/UKBB/SSL/reports/aTrue_pFalse_sFalse_tTrue/*csv',  '/data/UKBB/SSL/reports/aTrue_pTrue_sFalse_tTrue/*csv']\n",
    "              \n",
    "# master_file_list = []\n",
    "# for root_path in root_paths:\n",
    "#     current_list = glob.glob(root_path)\n",
    "#     master_file_list.extend(current_list)"
   ]
  },
  {
   "cell_type": "code",
   "execution_count": 66,
   "metadata": {},
   "outputs": [],
   "source": [
    "mtl_dict = {\n",
    "    'aTrue_pTrue_sFalse_tFalse': 'P+AoT',\n",
    "    'aTrue_pFalse_sTrue_tFalse': 'AoT+S',\n",
    "    'aTrue_pFalse_sFalse_tTrue': 'AoT+TW',\n",
    "    'aFalse_pTrue_sTrue_tFalse': 'P+S',\n",
    "    'aFalse_pTrue_sTrue_tTrue': 'P+S+Tw',\n",
    "    'aFalse_pTrue_sFalse_tTrue': 'P+Tw',\n",
    "    'aTrue_pTrue_sTrue_tTrue': 'P+AoT+S+TW',\n",
    "    'aTrue_pTrue_sTrue_tFalse': 'P+AoT+S',\n",
    "    'aFalse_pFalse_sTrue_tTrue': 'S+TW',\n",
    "    'aTrue_pTrue_sFalse_tTrue': 'AoT+P+TW',\n",
    "    'aTrue_pFalse_sTrue_tTrue': 'AoT+S+TW',\n",
    "    'aot': 'AoT',\n",
    "    'permutation': 'p',\n",
    "    'time_w': 'TW',\n",
    "    'scale': 'scale'\n",
    "}"
   ]
  },
  {
   "cell_type": "code",
   "execution_count": 67,
   "metadata": {},
   "outputs": [],
   "source": [
    "# get the ones with error bar\n",
    "master_df = []\n",
    "for file_path in master_file_list:\n",
    "    file_name = file_path.split('/')[-1]\n",
    "    dataset = file_name.split('_')[0]\n",
    "    \n",
    "    subject_num = file_name.split('_')[-1]\n",
    "    subject_num = int(subject_num.split('.')[0])\n",
    "    task = file_path.split('/')[-2]\n",
    "    mtl_task = mtl_dict[file_path.split('/')[-2]]\n",
    "    \n",
    "    # epoch_count = file_name.split('_')[-1][:2]\n",
    "    \n",
    "    current_df = pd.read_csv(file_path)\n",
    "    \n",
    "    current_df['id'] = current_df.index \n",
    "    current_df = pd.melt(current_df, id_vars=['id'])\n",
    "    current_df.drop(['id'], inplace=True, axis=1)\n",
    "\n",
    "    current_df['dataset'] = dataset\n",
    "    # print(file_path, model, subject_num)\n",
    "    \n",
    "    current_df['subject_num'] = subject_num  \n",
    "    current_df['task'] = task\n",
    "    current_df['mtl_task'] = mtl_task\n",
    "\n",
    "\n",
    "    if len(master_df) == 0:\n",
    "        master_df = current_df\n",
    "    else:\n",
    "        master_df = pd.concat([master_df, current_df])\n",
    "master_df = master_df.rename(columns={\"variable\": \"metric\"}) "
   ]
  },
  {
   "cell_type": "code",
   "execution_count": 68,
   "metadata": {},
   "outputs": [],
   "source": [
    "master_df = master_df[['task', 'mtl_task', 'metric', 'value', 'dataset']]\n",
    "filter_master_df = master_df[(master_df['metric'] == 'f1') | (master_df['metric'] == 'kappa')]"
   ]
  },
  {
   "cell_type": "code",
   "execution_count": 69,
   "metadata": {},
   "outputs": [],
   "source": [
    "key=['dataset', 'metric', 'task']\n",
    "ok = filter_master_df.groupby( key).describe()"
   ]
  },
  {
   "cell_type": "code",
   "execution_count": 70,
   "metadata": {},
   "outputs": [
    {
     "data": {
      "text/html": [
       "<div>\n",
       "<style scoped>\n",
       "    .dataframe tbody tr th:only-of-type {\n",
       "        vertical-align: middle;\n",
       "    }\n",
       "\n",
       "    .dataframe tbody tr th {\n",
       "        vertical-align: top;\n",
       "    }\n",
       "\n",
       "    .dataframe thead tr th {\n",
       "        text-align: left;\n",
       "    }\n",
       "\n",
       "    .dataframe thead tr:last-of-type th {\n",
       "        text-align: right;\n",
       "    }\n",
       "</style>\n",
       "<table border=\"1\" class=\"dataframe\">\n",
       "  <thead>\n",
       "    <tr>\n",
       "      <th></th>\n",
       "      <th></th>\n",
       "      <th></th>\n",
       "      <th colspan=\"8\" halign=\"left\">value</th>\n",
       "    </tr>\n",
       "    <tr>\n",
       "      <th></th>\n",
       "      <th></th>\n",
       "      <th></th>\n",
       "      <th>count</th>\n",
       "      <th>mean</th>\n",
       "      <th>std</th>\n",
       "      <th>min</th>\n",
       "      <th>25%</th>\n",
       "      <th>50%</th>\n",
       "      <th>75%</th>\n",
       "      <th>max</th>\n",
       "    </tr>\n",
       "    <tr>\n",
       "      <th>dataset</th>\n",
       "      <th>metric</th>\n",
       "      <th>task</th>\n",
       "      <th></th>\n",
       "      <th></th>\n",
       "      <th></th>\n",
       "      <th></th>\n",
       "      <th></th>\n",
       "      <th></th>\n",
       "      <th></th>\n",
       "      <th></th>\n",
       "    </tr>\n",
       "  </thead>\n",
       "  <tbody>\n",
       "    <tr>\n",
       "      <th rowspan=\"5\" valign=\"top\">capture24</th>\n",
       "      <th rowspan=\"5\" valign=\"top\">f1</th>\n",
       "      <th>aFalse_pFalse_sTrue_tTrue</th>\n",
       "      <td>155.0</td>\n",
       "      <td>0.707652</td>\n",
       "      <td>0.094510</td>\n",
       "      <td>0.378442</td>\n",
       "      <td>0.633251</td>\n",
       "      <td>0.724155</td>\n",
       "      <td>0.778304</td>\n",
       "      <td>0.893114</td>\n",
       "    </tr>\n",
       "    <tr>\n",
       "      <th>aFalse_pTrue_sFalse_tTrue</th>\n",
       "      <td>155.0</td>\n",
       "      <td>0.714490</td>\n",
       "      <td>0.094406</td>\n",
       "      <td>0.399576</td>\n",
       "      <td>0.644024</td>\n",
       "      <td>0.734623</td>\n",
       "      <td>0.783370</td>\n",
       "      <td>0.900776</td>\n",
       "    </tr>\n",
       "    <tr>\n",
       "      <th>aFalse_pTrue_sTrue_tFalse</th>\n",
       "      <td>155.0</td>\n",
       "      <td>0.696643</td>\n",
       "      <td>0.096855</td>\n",
       "      <td>0.387989</td>\n",
       "      <td>0.617306</td>\n",
       "      <td>0.714469</td>\n",
       "      <td>0.773808</td>\n",
       "      <td>0.877638</td>\n",
       "    </tr>\n",
       "    <tr>\n",
       "      <th>aFalse_pTrue_sTrue_tTrue</th>\n",
       "      <td>155.0</td>\n",
       "      <td>0.710223</td>\n",
       "      <td>0.093890</td>\n",
       "      <td>0.387488</td>\n",
       "      <td>0.646414</td>\n",
       "      <td>0.722340</td>\n",
       "      <td>0.781666</td>\n",
       "      <td>0.887968</td>\n",
       "    </tr>\n",
       "    <tr>\n",
       "      <th>aTrue_pFalse_sFalse_tTrue</th>\n",
       "      <td>155.0</td>\n",
       "      <td>0.718973</td>\n",
       "      <td>0.093533</td>\n",
       "      <td>0.409476</td>\n",
       "      <td>0.648563</td>\n",
       "      <td>0.734550</td>\n",
       "      <td>0.790456</td>\n",
       "      <td>0.896979</td>\n",
       "    </tr>\n",
       "    <tr>\n",
       "      <th>...</th>\n",
       "      <th>...</th>\n",
       "      <th>...</th>\n",
       "      <td>...</td>\n",
       "      <td>...</td>\n",
       "      <td>...</td>\n",
       "      <td>...</td>\n",
       "      <td>...</td>\n",
       "      <td>...</td>\n",
       "      <td>...</td>\n",
       "      <td>...</td>\n",
       "    </tr>\n",
       "    <tr>\n",
       "      <th rowspan=\"3\" valign=\"top\">rowlands</th>\n",
       "      <th rowspan=\"3\" valign=\"top\">kappa</th>\n",
       "      <th>permutation</th>\n",
       "      <td>55.0</td>\n",
       "      <td>0.874980</td>\n",
       "      <td>0.072122</td>\n",
       "      <td>0.691126</td>\n",
       "      <td>0.830284</td>\n",
       "      <td>0.883346</td>\n",
       "      <td>0.928717</td>\n",
       "      <td>0.990690</td>\n",
       "    </tr>\n",
       "    <tr>\n",
       "      <th>scale</th>\n",
       "      <td>55.0</td>\n",
       "      <td>0.801078</td>\n",
       "      <td>0.080509</td>\n",
       "      <td>0.641608</td>\n",
       "      <td>0.751697</td>\n",
       "      <td>0.817109</td>\n",
       "      <td>0.857155</td>\n",
       "      <td>0.941710</td>\n",
       "    </tr>\n",
       "    <tr>\n",
       "      <th>time_w</th>\n",
       "      <td>55.0</td>\n",
       "      <td>0.861312</td>\n",
       "      <td>0.089002</td>\n",
       "      <td>0.624836</td>\n",
       "      <td>0.794210</td>\n",
       "      <td>0.874574</td>\n",
       "      <td>0.931544</td>\n",
       "      <td>0.988371</td>\n",
       "    </tr>\n",
       "    <tr>\n",
       "      <th rowspan=\"2\" valign=\"top\">wisdm</th>\n",
       "      <th>f1</th>\n",
       "      <th>aTrue_pTrue_sFalse_tTrue</th>\n",
       "      <td>50.0</td>\n",
       "      <td>0.576952</td>\n",
       "      <td>0.090907</td>\n",
       "      <td>0.175242</td>\n",
       "      <td>0.564901</td>\n",
       "      <td>0.588655</td>\n",
       "      <td>0.624274</td>\n",
       "      <td>0.672541</td>\n",
       "    </tr>\n",
       "    <tr>\n",
       "      <th>kappa</th>\n",
       "      <th>aTrue_pTrue_sFalse_tTrue</th>\n",
       "      <td>50.0</td>\n",
       "      <td>0.608217</td>\n",
       "      <td>0.099776</td>\n",
       "      <td>0.159933</td>\n",
       "      <td>0.597986</td>\n",
       "      <td>0.630623</td>\n",
       "      <td>0.651246</td>\n",
       "      <td>0.711858</td>\n",
       "    </tr>\n",
       "  </tbody>\n",
       "</table>\n",
       "<p>62 rows × 8 columns</p>\n",
       "</div>"
      ],
      "text/plain": [
       "                                            value                      \\\n",
       "                                            count      mean       std   \n",
       "dataset   metric task                                                   \n",
       "capture24 f1     aFalse_pFalse_sTrue_tTrue  155.0  0.707652  0.094510   \n",
       "                 aFalse_pTrue_sFalse_tTrue  155.0  0.714490  0.094406   \n",
       "                 aFalse_pTrue_sTrue_tFalse  155.0  0.696643  0.096855   \n",
       "                 aFalse_pTrue_sTrue_tTrue   155.0  0.710223  0.093890   \n",
       "                 aTrue_pFalse_sFalse_tTrue  155.0  0.718973  0.093533   \n",
       "...                                           ...       ...       ...   \n",
       "rowlands  kappa  permutation                 55.0  0.874980  0.072122   \n",
       "                 scale                       55.0  0.801078  0.080509   \n",
       "                 time_w                      55.0  0.861312  0.089002   \n",
       "wisdm     f1     aTrue_pTrue_sFalse_tTrue    50.0  0.576952  0.090907   \n",
       "          kappa  aTrue_pTrue_sFalse_tTrue    50.0  0.608217  0.099776   \n",
       "\n",
       "                                                                          \\\n",
       "                                                 min       25%       50%   \n",
       "dataset   metric task                                                      \n",
       "capture24 f1     aFalse_pFalse_sTrue_tTrue  0.378442  0.633251  0.724155   \n",
       "                 aFalse_pTrue_sFalse_tTrue  0.399576  0.644024  0.734623   \n",
       "                 aFalse_pTrue_sTrue_tFalse  0.387989  0.617306  0.714469   \n",
       "                 aFalse_pTrue_sTrue_tTrue   0.387488  0.646414  0.722340   \n",
       "                 aTrue_pFalse_sFalse_tTrue  0.409476  0.648563  0.734550   \n",
       "...                                              ...       ...       ...   \n",
       "rowlands  kappa  permutation                0.691126  0.830284  0.883346   \n",
       "                 scale                      0.641608  0.751697  0.817109   \n",
       "                 time_w                     0.624836  0.794210  0.874574   \n",
       "wisdm     f1     aTrue_pTrue_sFalse_tTrue   0.175242  0.564901  0.588655   \n",
       "          kappa  aTrue_pTrue_sFalse_tTrue   0.159933  0.597986  0.630623   \n",
       "\n",
       "                                                                \n",
       "                                                 75%       max  \n",
       "dataset   metric task                                           \n",
       "capture24 f1     aFalse_pFalse_sTrue_tTrue  0.778304  0.893114  \n",
       "                 aFalse_pTrue_sFalse_tTrue  0.783370  0.900776  \n",
       "                 aFalse_pTrue_sTrue_tFalse  0.773808  0.877638  \n",
       "                 aFalse_pTrue_sTrue_tTrue   0.781666  0.887968  \n",
       "                 aTrue_pFalse_sFalse_tTrue  0.790456  0.896979  \n",
       "...                                              ...       ...  \n",
       "rowlands  kappa  permutation                0.928717  0.990690  \n",
       "                 scale                      0.857155  0.941710  \n",
       "                 time_w                     0.931544  0.988371  \n",
       "wisdm     f1     aTrue_pTrue_sFalse_tTrue   0.624274  0.672541  \n",
       "          kappa  aTrue_pTrue_sFalse_tTrue   0.651246  0.711858  \n",
       "\n",
       "[62 rows x 8 columns]"
      ]
     },
     "execution_count": 70,
     "metadata": {},
     "output_type": "execute_result"
    }
   ],
   "source": [
    "ok"
   ]
  },
  {
   "cell_type": "code",
   "execution_count": 71,
   "metadata": {},
   "outputs": [],
   "source": [
    "ok = ok.reset_index(['dataset', 'metric' , 'task' ])"
   ]
  },
  {
   "cell_type": "code",
   "execution_count": 72,
   "metadata": {},
   "outputs": [
    {
     "data": {
      "text/html": [
       "<div>\n",
       "<style scoped>\n",
       "    .dataframe tbody tr th:only-of-type {\n",
       "        vertical-align: middle;\n",
       "    }\n",
       "\n",
       "    .dataframe tbody tr th {\n",
       "        vertical-align: top;\n",
       "    }\n",
       "\n",
       "    .dataframe thead tr th {\n",
       "        text-align: left;\n",
       "    }\n",
       "</style>\n",
       "<table border=\"1\" class=\"dataframe\">\n",
       "  <thead>\n",
       "    <tr>\n",
       "      <th></th>\n",
       "      <th>dataset</th>\n",
       "      <th>metric</th>\n",
       "      <th>task</th>\n",
       "      <th colspan=\"8\" halign=\"left\">value</th>\n",
       "    </tr>\n",
       "    <tr>\n",
       "      <th></th>\n",
       "      <th></th>\n",
       "      <th></th>\n",
       "      <th></th>\n",
       "      <th>count</th>\n",
       "      <th>mean</th>\n",
       "      <th>std</th>\n",
       "      <th>min</th>\n",
       "      <th>25%</th>\n",
       "      <th>50%</th>\n",
       "      <th>75%</th>\n",
       "      <th>max</th>\n",
       "    </tr>\n",
       "  </thead>\n",
       "  <tbody>\n",
       "  </tbody>\n",
       "</table>\n",
       "</div>"
      ],
      "text/plain": [
       "Empty DataFrame\n",
       "Columns: [(dataset, ), (metric, ), (task, ), (value, count), (value, mean), (value, std), (value, min), (value, 25%), (value, 50%), (value, 75%), (value, max)]\n",
       "Index: []"
      ]
     },
     "execution_count": 72,
     "metadata": {},
     "output_type": "execute_result"
    }
   ],
   "source": [
    "ok[ok['dataset'] == 'oppo']"
   ]
  },
  {
   "cell_type": "code",
   "execution_count": 73,
   "metadata": {},
   "outputs": [],
   "source": [
    "def get_row_str(my_df, task_name):\n",
    "    task_df = my_df[my_df.task == task_name]\n",
    "\n",
    "    mean= task_df[task_df['dataset'] == 'capture24'].iloc[0].value['mean']\n",
    "    std =task_df[task_df['dataset'] == 'capture24'].iloc[0].value['std']\n",
    "    mean_row = task_df[task_df['dataset'] == 'rowlands'].iloc[0].value['mean']\n",
    "    std_row =task_df[task_df['dataset'] == 'rowlands'].iloc[0].value['std']\n",
    "\n",
    "    tmp_str = r'%.3f $ \\pm $ %.3f & %.3f $ \\pm $  %.3f' % (mean, std, mean_row, std_row)\n",
    "    print(tmp_str)"
   ]
  },
  {
   "cell_type": "code",
   "execution_count": 74,
   "metadata": {},
   "outputs": [
    {
     "name": "stdout",
     "output_type": "stream",
     "text": [
      "0.702 $ \\pm $ 0.094 & 0.686 $ \\pm $  0.094\n"
     ]
    }
   ],
   "source": [
    "task_name  = 'aTrue_pFalse_sTrue_tFalse'\n",
    "get_row_str(ok, task_name)\n"
   ]
  },
  {
   "cell_type": "code",
   "execution_count": 75,
   "metadata": {},
   "outputs": [
    {
     "name": "stdout",
     "output_type": "stream",
     "text": [
      "0.718 $ \\pm $ 0.092 & 0.781 $ \\pm $  0.101\n"
     ]
    }
   ],
   "source": [
    "task_name  = 'aTrue_pTrue_sFalse_tFalse'\n",
    "get_row_str(ok, task_name)\n",
    "\n"
   ]
  },
  {
   "cell_type": "code",
   "execution_count": 76,
   "metadata": {},
   "outputs": [
    {
     "name": "stdout",
     "output_type": "stream",
     "text": [
      "0.719 $ \\pm $ 0.094 & 0.762 $ \\pm $  0.102\n"
     ]
    }
   ],
   "source": [
    "task_name  = 'aTrue_pFalse_sFalse_tTrue'\n",
    "get_row_str(ok, task_name)"
   ]
  },
  {
   "cell_type": "code",
   "execution_count": 77,
   "metadata": {},
   "outputs": [
    {
     "name": "stdout",
     "output_type": "stream",
     "text": [
      "0.708 $ \\pm $ 0.095 & 0.731 $ \\pm $  0.106\n"
     ]
    }
   ],
   "source": [
    "task_name  = 'aFalse_pFalse_sTrue_tTrue'\n",
    "get_row_str(ok, task_name)"
   ]
  },
  {
   "cell_type": "code",
   "execution_count": 78,
   "metadata": {},
   "outputs": [
    {
     "name": "stdout",
     "output_type": "stream",
     "text": [
      "0.714 $ \\pm $ 0.094 & 0.755 $ \\pm $  0.103\n"
     ]
    }
   ],
   "source": [
    "task_name  = 'aFalse_pTrue_sFalse_tTrue'\n",
    "get_row_str(ok, task_name)"
   ]
  },
  {
   "cell_type": "code",
   "execution_count": 79,
   "metadata": {},
   "outputs": [
    {
     "name": "stdout",
     "output_type": "stream",
     "text": [
      "0.714 $ \\pm $ 0.094 & 0.755 $ \\pm $  0.103\n"
     ]
    }
   ],
   "source": [
    "task_name  = 'aFalse_pTrue_sFalse_tTrue'\n",
    "get_row_str(ok, task_name)"
   ]
  },
  {
   "cell_type": "code",
   "execution_count": 80,
   "metadata": {},
   "outputs": [
    {
     "name": "stdout",
     "output_type": "stream",
     "text": [
      "0.719 $ \\pm $ 0.094 & 0.762 $ \\pm $  0.102\n"
     ]
    }
   ],
   "source": [
    "task_name  = 'aTrue_pFalse_sFalse_tTrue'\n",
    "get_row_str(ok, task_name)\n"
   ]
  },
  {
   "cell_type": "code",
   "execution_count": 81,
   "metadata": {},
   "outputs": [
    {
     "name": "stdout",
     "output_type": "stream",
     "text": [
      "0.710 $ \\pm $ 0.094 & 0.757 $ \\pm $  0.099\n"
     ]
    }
   ],
   "source": [
    "task_name  = 'aFalse_pTrue_sTrue_tTrue'\n",
    "get_row_str(ok, task_name)\n",
    "\n"
   ]
  },
  {
   "cell_type": "code",
   "execution_count": 82,
   "metadata": {},
   "outputs": [
    {
     "name": "stdout",
     "output_type": "stream",
     "text": [
      "0.718 $ \\pm $ 0.095 & 0.770 $ \\pm $  0.102\n"
     ]
    }
   ],
   "source": [
    "task_name  = 'aTrue_pTrue_sFalse_tTrue'\n",
    "get_row_str(ok, task_name)\n",
    "\n",
    "\n"
   ]
  },
  {
   "cell_type": "code",
   "execution_count": 83,
   "metadata": {},
   "outputs": [
    {
     "name": "stdout",
     "output_type": "stream",
     "text": [
      "0.702 $ \\pm $ 0.095 & 0.779 $ \\pm $  0.099\n"
     ]
    }
   ],
   "source": [
    "task_name  = 'aTrue_pFalse_sTrue_tTrue'\n",
    "get_row_str(ok, task_name)\n"
   ]
  },
  {
   "cell_type": "code",
   "execution_count": 84,
   "metadata": {},
   "outputs": [
    {
     "name": "stdout",
     "output_type": "stream",
     "text": [
      "0.705 $ \\pm $ 0.095 & 0.679 $ \\pm $  0.106\n"
     ]
    }
   ],
   "source": [
    "task_name  = 'aTrue_pTrue_sTrue_tFalse'\n",
    "get_row_str(ok, task_name)"
   ]
  },
  {
   "cell_type": "code",
   "execution_count": 85,
   "metadata": {},
   "outputs": [
    {
     "name": "stdout",
     "output_type": "stream",
     "text": [
      "0.709 $ \\pm $ 0.091 & 0.775 $ \\pm $  0.103\n"
     ]
    }
   ],
   "source": [
    "task_name  = 'aTrue_pTrue_sTrue_tTrue'\n",
    "get_row_str(ok, task_name)"
   ]
  },
  {
   "cell_type": "code",
   "execution_count": 86,
   "metadata": {},
   "outputs": [
    {
     "name": "stdout",
     "output_type": "stream",
     "text": [
      "0.671 $ \\pm $ 0.094 & 0.537 $ \\pm $  0.077\n"
     ]
    }
   ],
   "source": [
    "task_name  = 'aot'\n",
    "get_row_str(ok, task_name)"
   ]
  },
  {
   "cell_type": "code",
   "execution_count": 87,
   "metadata": {},
   "outputs": [
    {
     "name": "stdout",
     "output_type": "stream",
     "text": [
      "0.721 $ \\pm $ 0.093 & 0.775 $ \\pm $  0.098\n"
     ]
    }
   ],
   "source": [
    "task_name  = 'permutation'\n",
    "get_row_str(ok, task_name)"
   ]
  },
  {
   "cell_type": "code",
   "execution_count": 88,
   "metadata": {},
   "outputs": [
    {
     "name": "stdout",
     "output_type": "stream",
     "text": [
      "0.708 $ \\pm $ 0.094 & 0.683 $ \\pm $  0.092\n"
     ]
    }
   ],
   "source": [
    "task_name  = 'scale'\n",
    "get_row_str(ok, task_name)"
   ]
  },
  {
   "cell_type": "code",
   "execution_count": 89,
   "metadata": {},
   "outputs": [
    {
     "name": "stdout",
     "output_type": "stream",
     "text": [
      "0.715 $ \\pm $ 0.093 & 0.767 $ \\pm $  0.111\n"
     ]
    }
   ],
   "source": [
    "task_name  = 'time_w'\n",
    "get_row_str(ok, task_name)"
   ]
  },
  {
   "cell_type": "code",
   "execution_count": 90,
   "metadata": {},
   "outputs": [
    {
     "name": "stdout",
     "output_type": "stream",
     "text": [
      "0.709 $ \\pm $ 0.091 & 0.775 $ \\pm $  0.103\n"
     ]
    }
   ],
   "source": [
    "task_name  = 'aTrue_pTrue_sTrue_tTrue'\n",
    "get_row_str(ok, task_name)"
   ]
  },
  {
   "cell_type": "code",
   "execution_count": null,
   "metadata": {},
   "outputs": [],
   "source": []
  },
  {
   "cell_type": "code",
   "execution_count": null,
   "metadata": {},
   "outputs": [],
   "source": []
  },
  {
   "cell_type": "code",
   "execution_count": 19,
   "metadata": {},
   "outputs": [
    {
     "name": "stdout",
     "output_type": "stream",
     "text": [
      "                                             value                            \\\n",
      "                                             count  mean   std    min    25%   \n",
      "dataset   metric task                                                          \n",
      "adl       f1     aFalse_pTrue_sFalse_tTrue   7.000 0.841 0.072  0.740  0.800   \n",
      "                 aFalse_pTrue_sTrue_tFalse   7.000 0.544 0.123  0.316  0.514   \n",
      "                 aFalse_pTrue_sTrue_tTrue    7.000 0.801 0.089  0.674  0.749   \n",
      "          kappa  aFalse_pTrue_sFalse_tTrue   7.000 0.851 0.078  0.739  0.803   \n",
      "                 aFalse_pTrue_sTrue_tFalse   7.000 0.517 0.131  0.283  0.453   \n",
      "                 aFalse_pTrue_sTrue_tTrue    7.000 0.845 0.094  0.640  0.851   \n",
      "capture24 f1     aFalse_pFalse_sTrue_tTrue 155.000 0.505 0.091  0.287  0.436   \n",
      "                 aFalse_pTrue_sFalse_tTrue 155.000 0.518 0.093  0.303  0.445   \n",
      "                 aFalse_pTrue_sTrue_tFalse 155.000 0.480 0.086  0.286  0.413   \n",
      "                 aFalse_pTrue_sTrue_tTrue    5.000 0.621 0.007  0.612  0.617   \n",
      "                 aTrue_pFalse_sFalse_tTrue 160.000 0.520 0.095  0.309  0.453   \n",
      "                 aTrue_pFalse_sTrue_tFalse 160.000 0.485 0.089  0.267  0.417   \n",
      "                 aTrue_pTrue_sFalse_tFalse 160.000 0.531 0.096  0.295  0.461   \n",
      "                 aTrue_pTrue_sTrue_tFalse    5.000 0.638 0.019  0.605  0.637   \n",
      "                 aTrue_pTrue_sTrue_tTrue     5.000 0.618 0.017  0.598  0.608   \n",
      "          kappa  aFalse_pFalse_sTrue_tTrue 155.000 0.643 0.089  0.340  0.607   \n",
      "                 aFalse_pTrue_sFalse_tTrue 155.000 0.664 0.093  0.358  0.616   \n",
      "                 aFalse_pTrue_sTrue_tFalse 155.000 0.603 0.089  0.319  0.560   \n",
      "                 aFalse_pTrue_sTrue_tTrue    5.000 0.548 0.016  0.519  0.551   \n",
      "                 aTrue_pFalse_sFalse_tTrue 160.000 0.658 0.095  0.361  0.601   \n",
      "                 aTrue_pFalse_sTrue_tFalse 160.000 0.604 0.091  0.311  0.550   \n",
      "                 aTrue_pTrue_sFalse_tFalse 160.000 0.671 0.091  0.344  0.622   \n",
      "                 aTrue_pTrue_sTrue_tFalse    5.000 0.551 0.021  0.519  0.543   \n",
      "                 aTrue_pTrue_sTrue_tTrue     5.000 0.548 0.011  0.537  0.539   \n",
      "oppo      f1     aFalse_pFalse_sTrue_tTrue   4.000 0.564 0.055  0.515  0.519   \n",
      "                 aFalse_pTrue_sFalse_tTrue   4.000 0.586 0.071  0.516  0.534   \n",
      "                 aFalse_pTrue_sTrue_tFalse   4.000 0.317 0.019  0.296  0.303   \n",
      "                 aFalse_pTrue_sTrue_tTrue    4.000 0.614 0.033  0.588  0.591   \n",
      "                 aTrue_pFalse_sFalse_tTrue   4.000 0.602 0.014  0.589  0.592   \n",
      "                 aTrue_pFalse_sTrue_tFalse   4.000 0.398 0.081  0.284  0.374   \n",
      "                 aTrue_pTrue_sFalse_tFalse   4.000 0.594 0.039  0.549  0.577   \n",
      "                 aTrue_pTrue_sTrue_tFalse    4.000 0.243 0.159  0.100  0.163   \n",
      "                 aTrue_pTrue_sTrue_tTrue     4.000 0.524 0.096  0.403  0.471   \n",
      "          kappa  aFalse_pFalse_sTrue_tTrue   4.000 0.447 0.105  0.335  0.372   \n",
      "                 aFalse_pTrue_sFalse_tTrue   4.000 0.467 0.099  0.358  0.407   \n",
      "                 aFalse_pTrue_sTrue_tFalse   4.000 0.115 0.023  0.098  0.103   \n",
      "                 aFalse_pTrue_sTrue_tTrue    4.000 0.489 0.063  0.421  0.461   \n",
      "                 aTrue_pFalse_sFalse_tTrue   4.000 0.481 0.037  0.456  0.459   \n",
      "                 aTrue_pFalse_sTrue_tFalse   4.000 0.207 0.096  0.096  0.155   \n",
      "                 aTrue_pTrue_sFalse_tFalse   4.000 0.454 0.062  0.376  0.425   \n",
      "                 aTrue_pTrue_sTrue_tFalse    4.000 0.073 0.141 -0.035 -0.030   \n",
      "                 aTrue_pTrue_sTrue_tTrue     4.000 0.375 0.133  0.227  0.281   \n",
      "pamap     f1     aFalse_pTrue_sFalse_tTrue   8.000 0.749 0.075  0.647  0.713   \n",
      "                 aFalse_pTrue_sTrue_tFalse   8.000 0.588 0.046  0.547  0.566   \n",
      "                 aFalse_pTrue_sTrue_tTrue    8.000 0.741 0.067  0.636  0.694   \n",
      "          kappa  aFalse_pTrue_sFalse_tTrue   8.000 0.736 0.077  0.651  0.691   \n",
      "                 aFalse_pTrue_sTrue_tFalse   8.000 0.561 0.061  0.467  0.516   \n",
      "                 aFalse_pTrue_sTrue_tTrue    8.000 0.715 0.067  0.620  0.677   \n",
      "realworld f1     aFalse_pTrue_sFalse_tTrue   5.000 0.792 0.026  0.751  0.787   \n",
      "                 aFalse_pTrue_sTrue_tFalse   5.000 0.719 0.048  0.686  0.689   \n",
      "                 aFalse_pTrue_sTrue_tTrue    5.000 0.774 0.032  0.737  0.756   \n",
      "          kappa  aFalse_pTrue_sFalse_tTrue   5.000 0.729 0.036  0.677  0.721   \n",
      "                 aFalse_pTrue_sTrue_tFalse   5.000 0.648 0.063  0.594  0.597   \n",
      "                 aFalse_pTrue_sTrue_tTrue    5.000 0.715 0.032  0.677  0.697   \n",
      "rowlands  f1     aFalse_pFalse_sTrue_tTrue   5.000 0.841 0.053  0.779  0.790   \n",
      "                 aFalse_pTrue_sFalse_tTrue   5.000 0.871 0.024  0.834  0.867   \n",
      "                 aFalse_pTrue_sTrue_tFalse   5.000 0.813 0.033  0.781  0.789   \n",
      "                 aFalse_pTrue_sTrue_tTrue    5.000 0.874 0.020  0.848  0.869   \n",
      "                 aTrue_pFalse_sFalse_tTrue   5.000 0.888 0.018  0.868  0.870   \n",
      "                 aTrue_pFalse_sTrue_tFalse   5.000 0.806 0.050  0.719  0.816   \n",
      "                 aTrue_pTrue_sFalse_tFalse   5.000 0.873 0.031  0.837  0.843   \n",
      "                 aTrue_pTrue_sTrue_tFalse    5.000 0.793 0.031  0.753  0.776   \n",
      "                 aTrue_pTrue_sTrue_tTrue     5.000 0.880 0.028  0.836  0.875   \n",
      "          kappa  aFalse_pFalse_sTrue_tTrue   5.000 0.841 0.050  0.786  0.788   \n",
      "                 aFalse_pTrue_sFalse_tTrue   5.000 0.873 0.022  0.840  0.861   \n",
      "                 aFalse_pTrue_sTrue_tFalse   5.000 0.814 0.026  0.783  0.799   \n",
      "                 aFalse_pTrue_sTrue_tTrue    5.000 0.871 0.016  0.850  0.866   \n",
      "                 aTrue_pFalse_sFalse_tTrue   5.000 0.882 0.018  0.860  0.866   \n",
      "                 aTrue_pFalse_sTrue_tFalse   5.000 0.802 0.046  0.734  0.778   \n",
      "                 aTrue_pTrue_sFalse_tFalse   5.000 0.869 0.027  0.838  0.857   \n",
      "                 aTrue_pTrue_sTrue_tFalse    5.000 0.774 0.043  0.705  0.772   \n",
      "                 aTrue_pTrue_sTrue_tTrue     5.000 0.873 0.021  0.842  0.866   \n",
      "wisdm     f1     aFalse_pTrue_sFalse_tTrue   5.000 0.800 0.041  0.760  0.765   \n",
      "                 aFalse_pTrue_sTrue_tFalse   5.000 0.669 0.036  0.636  0.645   \n",
      "                 aFalse_pTrue_sTrue_tTrue    5.000 0.766 0.041  0.722  0.733   \n",
      "          kappa  aFalse_pTrue_sFalse_tTrue   5.000 0.789 0.045  0.745  0.748   \n",
      "                 aFalse_pTrue_sTrue_tFalse   5.000 0.653 0.038  0.615  0.623   \n",
      "                 aFalse_pTrue_sTrue_tTrue    5.000 0.752 0.044  0.705  0.715   \n",
      "\n",
      "                                                              \n",
      "                                             50%   75%   max  \n",
      "dataset   metric task                                         \n",
      "adl       f1     aFalse_pTrue_sFalse_tTrue 0.837 0.881 0.950  \n",
      "                 aFalse_pTrue_sTrue_tFalse 0.539 0.611 0.705  \n",
      "                 aFalse_pTrue_sTrue_tTrue  0.766 0.889 0.893  \n",
      "          kappa  aFalse_pTrue_sFalse_tTrue 0.840 0.918 0.937  \n",
      "                 aFalse_pTrue_sTrue_tFalse 0.563 0.595 0.674  \n",
      "                 aFalse_pTrue_sTrue_tTrue  0.869 0.891 0.921  \n",
      "capture24 f1     aFalse_pFalse_sTrue_tTrue 0.511 0.568 0.719  \n",
      "                 aFalse_pTrue_sFalse_tTrue 0.521 0.588 0.707  \n",
      "                 aFalse_pTrue_sTrue_tFalse 0.484 0.548 0.682  \n",
      "                 aFalse_pTrue_sTrue_tTrue  0.619 0.624 0.631  \n",
      "                 aTrue_pFalse_sFalse_tTrue 0.522 0.594 0.704  \n",
      "                 aTrue_pFalse_sTrue_tFalse 0.482 0.550 0.708  \n",
      "                 aTrue_pTrue_sFalse_tFalse 0.533 0.605 0.757  \n",
      "                 aTrue_pTrue_sTrue_tFalse  0.646 0.647 0.654  \n",
      "                 aTrue_pTrue_sTrue_tTrue   0.612 0.633 0.637  \n",
      "          kappa  aFalse_pFalse_sTrue_tTrue 0.654 0.696 0.844  \n",
      "                 aFalse_pTrue_sFalse_tTrue 0.678 0.723 0.861  \n",
      "                 aFalse_pTrue_sTrue_tFalse 0.617 0.663 0.794  \n",
      "                 aFalse_pTrue_sTrue_tTrue  0.554 0.556 0.560  \n",
      "                 aTrue_pFalse_sFalse_tTrue 0.670 0.724 0.863  \n",
      "                 aTrue_pFalse_sTrue_tFalse 0.612 0.666 0.803  \n",
      "                 aTrue_pTrue_sFalse_tFalse 0.686 0.734 0.873  \n",
      "                 aTrue_pTrue_sTrue_tFalse  0.555 0.567 0.570  \n",
      "                 aTrue_pTrue_sTrue_tTrue   0.547 0.560 0.560  \n",
      "oppo      f1     aFalse_pFalse_sTrue_tTrue 0.557 0.602 0.628  \n",
      "                 aFalse_pTrue_sFalse_tTrue 0.580 0.633 0.669  \n",
      "                 aFalse_pTrue_sTrue_tFalse 0.318 0.332 0.335  \n",
      "                 aFalse_pTrue_sTrue_tTrue  0.604 0.626 0.659  \n",
      "                 aTrue_pFalse_sFalse_tTrue 0.599 0.608 0.621  \n",
      "                 aTrue_pFalse_sTrue_tFalse 0.419 0.444 0.471  \n",
      "                 aTrue_pTrue_sFalse_tFalse 0.591 0.608 0.644  \n",
      "                 aTrue_pTrue_sTrue_tFalse  0.202 0.282 0.470  \n",
      "                 aTrue_pTrue_sTrue_tTrue   0.542 0.595 0.611  \n",
      "          kappa  aFalse_pFalse_sTrue_tTrue 0.448 0.524 0.558  \n",
      "                 aFalse_pTrue_sFalse_tTrue 0.460 0.520 0.589  \n",
      "                 aFalse_pTrue_sTrue_tFalse 0.107 0.119 0.148  \n",
      "                 aFalse_pTrue_sTrue_tTrue  0.481 0.509 0.573  \n",
      "                 aTrue_pFalse_sFalse_tTrue 0.465 0.488 0.536  \n",
      "                 aTrue_pFalse_sTrue_tFalse 0.204 0.256 0.324  \n",
      "                 aTrue_pTrue_sFalse_tFalse 0.457 0.486 0.526  \n",
      "                 aTrue_pTrue_sTrue_tFalse  0.030 0.133 0.266  \n",
      "                 aTrue_pTrue_sTrue_tTrue   0.392 0.487 0.489  \n",
      "pamap     f1     aFalse_pTrue_sFalse_tTrue 0.740 0.776 0.884  \n",
      "                 aFalse_pTrue_sTrue_tFalse 0.572 0.594 0.694  \n",
      "                 aFalse_pTrue_sTrue_tTrue  0.753 0.800 0.815  \n",
      "          kappa  aFalse_pTrue_sFalse_tTrue 0.728 0.760 0.885  \n",
      "                 aFalse_pTrue_sTrue_tFalse 0.565 0.598 0.659  \n",
      "                 aFalse_pTrue_sTrue_tTrue  0.721 0.768 0.797  \n",
      "realworld f1     aFalse_pTrue_sFalse_tTrue 0.793 0.815 0.815  \n",
      "                 aFalse_pTrue_sTrue_tFalse 0.704 0.715 0.801  \n",
      "                 aFalse_pTrue_sTrue_tTrue  0.767 0.788 0.821  \n",
      "          kappa  aFalse_pTrue_sFalse_tTrue 0.722 0.754 0.773  \n",
      "                 aFalse_pTrue_sTrue_tFalse 0.642 0.659 0.750  \n",
      "                 aFalse_pTrue_sTrue_tTrue  0.719 0.719 0.762  \n",
      "rowlands  f1     aFalse_pFalse_sTrue_tTrue 0.862 0.870 0.902  \n",
      "                 aFalse_pTrue_sFalse_tTrue 0.870 0.884 0.899  \n",
      "                 aFalse_pTrue_sTrue_tFalse 0.797 0.848 0.851  \n",
      "                 aFalse_pTrue_sTrue_tTrue  0.873 0.878 0.905  \n",
      "                 aTrue_pFalse_sFalse_tTrue 0.898 0.900 0.905  \n",
      "                 aTrue_pFalse_sTrue_tFalse 0.825 0.831 0.839  \n",
      "                 aTrue_pTrue_sFalse_tFalse 0.880 0.893 0.910  \n",
      "                 aTrue_pTrue_sTrue_tFalse  0.789 0.814 0.832  \n",
      "                 aTrue_pTrue_sTrue_tTrue   0.887 0.892 0.912  \n",
      "          kappa  aFalse_pFalse_sTrue_tTrue 0.866 0.873 0.891  \n",
      "                 aFalse_pTrue_sFalse_tTrue 0.885 0.889 0.891  \n",
      "                 aFalse_pTrue_sTrue_tFalse 0.809 0.836 0.845  \n",
      "                 aFalse_pTrue_sTrue_tTrue  0.871 0.877 0.893  \n",
      "                 aTrue_pFalse_sFalse_tTrue 0.889 0.892 0.903  \n",
      "                 aTrue_pFalse_sTrue_tFalse 0.824 0.827 0.847  \n",
      "                 aTrue_pTrue_sFalse_tFalse 0.862 0.877 0.909  \n",
      "                 aTrue_pTrue_sTrue_tFalse  0.777 0.795 0.822  \n",
      "                 aTrue_pTrue_sTrue_tTrue   0.880 0.880 0.899  \n",
      "wisdm     f1     aFalse_pTrue_sFalse_tTrue 0.793 0.825 0.857  \n",
      "                 aFalse_pTrue_sTrue_tFalse 0.648 0.707 0.710  \n",
      "                 aFalse_pTrue_sTrue_tTrue  0.765 0.788 0.823  \n",
      "          kappa  aFalse_pTrue_sFalse_tTrue 0.787 0.819 0.848  \n",
      "                 aFalse_pTrue_sTrue_tFalse 0.641 0.690 0.697  \n",
      "                 aFalse_pTrue_sTrue_tTrue  0.756 0.777 0.810  \n"
     ]
    }
   ],
   "source": [
    "with pd.option_context('display.float_format', '{:0.3f}'.format):\n",
    "    print(ok)"
   ]
  },
  {
   "cell_type": "code",
   "execution_count": null,
   "metadata": {},
   "outputs": [],
   "source": []
  }
 ],
 "metadata": {
  "kernelspec": {
   "display_name": "ssw",
   "language": "python",
   "name": "python3"
  },
  "language_info": {
   "codemirror_mode": {
    "name": "ipython",
    "version": 3
   },
   "file_extension": ".py",
   "mimetype": "text/x-python",
   "name": "python",
   "nbconvert_exporter": "python",
   "pygments_lexer": "ipython3",
   "version": "3.7.9"
  }
 },
 "nbformat": 4,
 "nbformat_minor": 4
}
