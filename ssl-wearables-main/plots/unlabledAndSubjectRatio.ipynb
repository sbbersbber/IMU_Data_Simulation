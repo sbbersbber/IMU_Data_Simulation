{
 "cells": [
  {
   "cell_type": "markdown",
   "metadata": {},
   "source": [
    "## Fig 3 b "
   ]
  },
  {
   "cell_type": "code",
   "execution_count": 1,
   "metadata": {},
   "outputs": [],
   "source": [
    "import glob\n",
    "import pandas as pd\n",
    "import seaborn as sns\n",
    "import matplotlib.pyplot as plt\n",
    "import numpy as np"
   ]
  },
  {
   "cell_type": "code",
   "execution_count": 2,
   "metadata": {},
   "outputs": [],
   "source": [
    "results_root = '/data/UKBB/SSL/reports/mtl/100ft/*.csv'\n",
    "file_list = glob.glob(results_root)"
   ]
  },
  {
   "cell_type": "code",
   "execution_count": 3,
   "metadata": {},
   "outputs": [],
   "source": [
    "results_root = '/data/UKBB/SSL/reports/mtl/sub_R/*.csv'\n",
    "sub_r_file_list = glob.glob(results_root)"
   ]
  },
  {
   "cell_type": "code",
   "execution_count": 4,
   "metadata": {},
   "outputs": [
    {
     "data": {
      "text/plain": [
       "['/data/UKBB/SSL/reports/mtl/sub_R/pamap_flip_net_ft_10k_postR50_500_-1_5.csv',\n",
       " '/data/UKBB/SSL/reports/mtl/sub_R/rowlands_flip_net_ft_10k_postR50_500_-1_75.csv',\n",
       " '/data/UKBB/SSL/reports/mtl/sub_R/pamap_flip_net_ft_10k_postR50_500_-1_75.csv',\n",
       " '/data/UKBB/SSL/reports/mtl/sub_R/capture24_flip_net_ft_10k_postR50_500_-1_5.csv',\n",
       " '/data/UKBB/SSL/reports/mtl/sub_R/pamap_flip_net_ft_10k_postR50_500_-1_25.csv',\n",
       " '/data/UKBB/SSL/reports/mtl/sub_R/capture24_flip_net_ft_10k_postR50_500_-1_1.csv',\n",
       " '/data/UKBB/SSL/reports/mtl/sub_R/oppo_flip_net_ft_10k_postR50_500_-1_5.csv',\n",
       " '/data/UKBB/SSL/reports/mtl/sub_R/capture24_flip_net_ft_10k_postR50_500_-1_25.csv',\n",
       " '/data/UKBB/SSL/reports/mtl/sub_R/oppo_flip_net_ft_10k_postR50_500_-1_1.csv',\n",
       " '/data/UKBB/SSL/reports/mtl/sub_R/pamap_flip_net_ft_10k_postR50_500_-1_1.csv',\n",
       " '/data/UKBB/SSL/reports/mtl/sub_R/rowlands_flip_net_ft_10k_postR50_500_-1_5.csv',\n",
       " '/data/UKBB/SSL/reports/mtl/sub_R/capture24_flip_net_ft_10k_postR50_500_-1_75.csv',\n",
       " '/data/UKBB/SSL/reports/mtl/sub_R/rowlands_flip_net_ft_10k_postR50_500_-1_1.csv',\n",
       " '/data/UKBB/SSL/reports/mtl/sub_R/oppo_flip_net_ft_10k_postR50_500_-1_75.csv',\n",
       " '/data/UKBB/SSL/reports/mtl/sub_R/rowlands_flip_net_ft_10k_postR50_500_-1_25.csv',\n",
       " '/data/UKBB/SSL/reports/mtl/sub_R/oppo_flip_net_ft_10k_postR50_500_-1_25.csv']"
      ]
     },
     "execution_count": 4,
     "metadata": {},
     "output_type": "execute_result"
    }
   ],
   "source": [
    "sub_r_file_list"
   ]
  },
  {
   "cell_type": "code",
   "execution_count": 5,
   "metadata": {},
   "outputs": [
    {
     "data": {
      "text/plain": [
       "['/data/UKBB/SSL/reports/mtl/100ft/oppo_flip_net_ft_100k_-1_1.csv',\n",
       " '/data/UKBB/SSL/reports/mtl/100ft/rowlands_flip_net_ft_100k_-1_1.csv',\n",
       " '/data/UKBB/SSL/reports/mtl/100ft/rowlands_flip_net_ft_100_postR60_1500_-1_1.csv',\n",
       " '/data/UKBB/SSL/reports/mtl/100ft/pamap_flip_net_ft_100_postR60_1500_-1_1.csv',\n",
       " '/data/UKBB/SSL/reports/mtl/100ft/capture24_flip_net_ft_10k_postR50_500_-1_1.csv',\n",
       " '/data/UKBB/SSL/reports/mtl/100ft/oppo_flip_net_ft_100_postR60_1500_-1_1.csv',\n",
       " '/data/UKBB/SSL/reports/mtl/100ft/oppo_flip_net_ft_10k_postR50_500_-1_1.csv',\n",
       " '/data/UKBB/SSL/reports/mtl/100ft/capture24_flip_net_ft_1k_postR60_1500_-1_1.csv',\n",
       " '/data/UKBB/SSL/reports/mtl/100ft/pamap_flip_net_ft_10k_postR50_500_-1_1.csv',\n",
       " '/data/UKBB/SSL/reports/mtl/100ft/pamap_flip_net_ft_1k_postR50_500_-1_1.csv',\n",
       " '/data/UKBB/SSL/reports/mtl/100ft/rowlands_flip_net_ft_1k_postR60_1500_-1_1.csv',\n",
       " '/data/UKBB/SSL/reports/mtl/100ft/capture24_flip_net_ft_100k_-1_1.csv',\n",
       " '/data/UKBB/SSL/reports/mtl/100ft/rowlands_flip_net_ft_10k_postR50_500_-1_1.csv',\n",
       " '/data/UKBB/SSL/reports/mtl/100ft/pamap_flip_net_ft_100k_-1_1.csv',\n",
       " '/data/UKBB/SSL/reports/mtl/100ft/capture24_flip_net_ft_100_postR60_1500_-1_1.csv',\n",
       " '/data/UKBB/SSL/reports/mtl/100ft/oppo_flip_net_ft_1k_postR50_500_-1_1.csv']"
      ]
     },
     "execution_count": 5,
     "metadata": {},
     "output_type": "execute_result"
    }
   ],
   "source": [
    "file_list"
   ]
  },
  {
   "cell_type": "code",
   "execution_count": 6,
   "metadata": {},
   "outputs": [
    {
     "data": {
      "text/plain": [
       "16"
      ]
     },
     "execution_count": 6,
     "metadata": {},
     "output_type": "execute_result"
    }
   ],
   "source": [
    "len(sub_r_file_list)"
   ]
  },
  {
   "cell_type": "code",
   "execution_count": 7,
   "metadata": {},
   "outputs": [
    {
     "data": {
      "text/plain": [
       "16"
      ]
     },
     "execution_count": 7,
     "metadata": {},
     "output_type": "execute_result"
    }
   ],
   "source": [
    "len(file_list)"
   ]
  },
  {
   "cell_type": "code",
   "execution_count": 8,
   "metadata": {},
   "outputs": [],
   "source": [
    "def construct_sub_ratio_master_df(my_file_list):\n",
    "    master_df = []\n",
    "    for file_path in my_file_list:\n",
    "        file_name = file_path.split('/')[-1]\n",
    "        dataset = file_name.split('_')[0] \n",
    "        subject_num = file_name.split('_')[4]\n",
    "        sub_ratio = file_name.split('_')[-1]\n",
    "        sub_ratio = sub_ratio.split('.')[0]\n",
    "        if sub_ratio == '5':\n",
    "            sub_ratio = 50\n",
    "        if sub_ratio == '1':\n",
    "            sub_ratio = 100\n",
    "        sub_ratio = int(sub_ratio)\n",
    "        current_df = pd.read_csv(file_path)\n",
    "\n",
    "        current_df['id'] = current_df.index \n",
    "        current_df = pd.melt(current_df, id_vars=['id'])\n",
    "        current_df.drop(['id'], inplace=True, axis=1)\n",
    "\n",
    "        current_df['dataset'] = dataset\n",
    "        current_df['sub_ratio'] = sub_ratio\n",
    "\n",
    "        if len(master_df) == 0:\n",
    "            master_df = current_df\n",
    "        else:\n",
    "            master_df = pd.concat([master_df, current_df])\n",
    "    master_df = master_df.rename(columns={\"variable\": \"metric\"}) \n",
    "    return master_df"
   ]
  },
  {
   "cell_type": "code",
   "execution_count": 9,
   "metadata": {},
   "outputs": [
    {
     "name": "stdout",
     "output_type": "stream",
     "text": [
      "/data/UKBB/SSL/reports/mtl/100ft/oppo_flip_net_ft_100k_-1_1.csv\n",
      "4\n",
      "/data/UKBB/SSL/reports/mtl/100ft/rowlands_flip_net_ft_100k_-1_1.csv\n",
      "55\n",
      "/data/UKBB/SSL/reports/mtl/100ft/rowlands_flip_net_ft_100_postR60_1500_-1_1.csv\n",
      "55\n",
      "/data/UKBB/SSL/reports/mtl/100ft/pamap_flip_net_ft_100_postR60_1500_-1_1.csv\n",
      "8\n",
      "/data/UKBB/SSL/reports/mtl/100ft/capture24_flip_net_ft_10k_postR50_500_-1_1.csv\n",
      "155\n",
      "/data/UKBB/SSL/reports/mtl/100ft/oppo_flip_net_ft_100_postR60_1500_-1_1.csv\n",
      "4\n",
      "/data/UKBB/SSL/reports/mtl/100ft/oppo_flip_net_ft_10k_postR50_500_-1_1.csv\n",
      "4\n",
      "/data/UKBB/SSL/reports/mtl/100ft/capture24_flip_net_ft_1k_postR60_1500_-1_1.csv\n",
      "155\n",
      "/data/UKBB/SSL/reports/mtl/100ft/pamap_flip_net_ft_10k_postR50_500_-1_1.csv\n",
      "8\n",
      "/data/UKBB/SSL/reports/mtl/100ft/pamap_flip_net_ft_1k_postR50_500_-1_1.csv\n",
      "8\n",
      "/data/UKBB/SSL/reports/mtl/100ft/rowlands_flip_net_ft_1k_postR60_1500_-1_1.csv\n",
      "55\n",
      "/data/UKBB/SSL/reports/mtl/100ft/capture24_flip_net_ft_100k_-1_1.csv\n",
      "155\n",
      "/data/UKBB/SSL/reports/mtl/100ft/rowlands_flip_net_ft_10k_postR50_500_-1_1.csv\n",
      "55\n",
      "/data/UKBB/SSL/reports/mtl/100ft/pamap_flip_net_ft_100k_-1_1.csv\n",
      "8\n",
      "/data/UKBB/SSL/reports/mtl/100ft/capture24_flip_net_ft_100_postR60_1500_-1_1.csv\n",
      "155\n",
      "/data/UKBB/SSL/reports/mtl/100ft/oppo_flip_net_ft_1k_postR50_500_-1_1.csv\n",
      "4\n"
     ]
    }
   ],
   "source": [
    "master_df = []\n",
    "for file_path in file_list:\n",
    "    file_name = file_path.split('/')[-1]\n",
    "    dataset = file_name.split('_')[0] \n",
    "    subject_num = file_name.split('_')[4]\n",
    "    if subject_num == 'overall':\n",
    "        subject_num = 10000\n",
    "    elif subject_num == '100.csv':\n",
    "        subject_num = 100\n",
    "    elif subject_num == '1k':\n",
    "        subject_num = 1000\n",
    "    elif subject_num == '10k':\n",
    "        subject_num = 10000\n",
    "    elif subject_num == '100k':\n",
    "        subject_num = 100000\n",
    "    else:\n",
    "        subject_num = int(subject_num)\n",
    "    current_df = pd.read_csv(file_path)\n",
    "    print(file_path)\n",
    "    print(len(current_df))\n",
    "    current_df['id'] = current_df.index \n",
    "    current_df = pd.melt(current_df, id_vars=['id'])\n",
    "    current_df.drop(['id'], inplace=True, axis=1)\n",
    "\n",
    "    current_df['dataset'] = dataset\n",
    "    current_df['subject'] = subject_num\n",
    "    \n",
    "    if len(master_df) == 0:\n",
    "        master_df = current_df\n",
    "    else:\n",
    "        master_df = pd.concat([master_df, current_df])\n",
    "master_df = master_df.rename(columns={\"variable\": \"metric\"}) "
   ]
  },
  {
   "cell_type": "code",
   "execution_count": 10,
   "metadata": {},
   "outputs": [
    {
     "data": {
      "text/plain": [
       "array(['f1', 'kappa', 'precision', 'recall'], dtype=object)"
      ]
     },
     "execution_count": 10,
     "metadata": {},
     "output_type": "execute_result"
    }
   ],
   "source": [
    "np.unique(master_df.metric)"
   ]
  },
  {
   "cell_type": "code",
   "execution_count": 11,
   "metadata": {},
   "outputs": [
    {
     "data": {
      "text/html": [
       "<div>\n",
       "<style scoped>\n",
       "    .dataframe tbody tr th:only-of-type {\n",
       "        vertical-align: middle;\n",
       "    }\n",
       "\n",
       "    .dataframe tbody tr th {\n",
       "        vertical-align: top;\n",
       "    }\n",
       "\n",
       "    .dataframe thead th {\n",
       "        text-align: right;\n",
       "    }\n",
       "</style>\n",
       "<table border=\"1\" class=\"dataframe\">\n",
       "  <thead>\n",
       "    <tr style=\"text-align: right;\">\n",
       "      <th></th>\n",
       "      <th>metric</th>\n",
       "      <th>value</th>\n",
       "      <th>dataset</th>\n",
       "      <th>subject</th>\n",
       "    </tr>\n",
       "  </thead>\n",
       "  <tbody>\n",
       "    <tr>\n",
       "      <th>0</th>\n",
       "      <td>precision</td>\n",
       "      <td>0.650829</td>\n",
       "      <td>oppo</td>\n",
       "      <td>100000</td>\n",
       "    </tr>\n",
       "    <tr>\n",
       "      <th>1</th>\n",
       "      <td>precision</td>\n",
       "      <td>0.499524</td>\n",
       "      <td>oppo</td>\n",
       "      <td>100000</td>\n",
       "    </tr>\n",
       "    <tr>\n",
       "      <th>2</th>\n",
       "      <td>precision</td>\n",
       "      <td>0.703497</td>\n",
       "      <td>oppo</td>\n",
       "      <td>100000</td>\n",
       "    </tr>\n",
       "    <tr>\n",
       "      <th>3</th>\n",
       "      <td>precision</td>\n",
       "      <td>0.590783</td>\n",
       "      <td>oppo</td>\n",
       "      <td>100000</td>\n",
       "    </tr>\n",
       "    <tr>\n",
       "      <th>4</th>\n",
       "      <td>recall</td>\n",
       "      <td>0.760875</td>\n",
       "      <td>oppo</td>\n",
       "      <td>100000</td>\n",
       "    </tr>\n",
       "    <tr>\n",
       "      <th>...</th>\n",
       "      <td>...</td>\n",
       "      <td>...</td>\n",
       "      <td>...</td>\n",
       "      <td>...</td>\n",
       "    </tr>\n",
       "    <tr>\n",
       "      <th>11</th>\n",
       "      <td>f1</td>\n",
       "      <td>0.642032</td>\n",
       "      <td>oppo</td>\n",
       "      <td>1000</td>\n",
       "    </tr>\n",
       "    <tr>\n",
       "      <th>12</th>\n",
       "      <td>kappa</td>\n",
       "      <td>0.480310</td>\n",
       "      <td>oppo</td>\n",
       "      <td>1000</td>\n",
       "    </tr>\n",
       "    <tr>\n",
       "      <th>13</th>\n",
       "      <td>kappa</td>\n",
       "      <td>0.400353</td>\n",
       "      <td>oppo</td>\n",
       "      <td>1000</td>\n",
       "    </tr>\n",
       "    <tr>\n",
       "      <th>14</th>\n",
       "      <td>kappa</td>\n",
       "      <td>0.304376</td>\n",
       "      <td>oppo</td>\n",
       "      <td>1000</td>\n",
       "    </tr>\n",
       "    <tr>\n",
       "      <th>15</th>\n",
       "      <td>kappa</td>\n",
       "      <td>0.511015</td>\n",
       "      <td>oppo</td>\n",
       "      <td>1000</td>\n",
       "    </tr>\n",
       "  </tbody>\n",
       "</table>\n",
       "<p>3552 rows × 4 columns</p>\n",
       "</div>"
      ],
      "text/plain": [
       "       metric     value dataset  subject\n",
       "0   precision  0.650829    oppo   100000\n",
       "1   precision  0.499524    oppo   100000\n",
       "2   precision  0.703497    oppo   100000\n",
       "3   precision  0.590783    oppo   100000\n",
       "4      recall  0.760875    oppo   100000\n",
       "..        ...       ...     ...      ...\n",
       "11         f1  0.642032    oppo     1000\n",
       "12      kappa  0.480310    oppo     1000\n",
       "13      kappa  0.400353    oppo     1000\n",
       "14      kappa  0.304376    oppo     1000\n",
       "15      kappa  0.511015    oppo     1000\n",
       "\n",
       "[3552 rows x 4 columns]"
      ]
     },
     "execution_count": 11,
     "metadata": {},
     "output_type": "execute_result"
    }
   ],
   "source": [
    "master_df"
   ]
  },
  {
   "cell_type": "code",
   "execution_count": 12,
   "metadata": {},
   "outputs": [],
   "source": [
    "sub_ratio_df = construct_sub_ratio_master_df(sub_r_file_list)"
   ]
  },
  {
   "cell_type": "code",
   "execution_count": 13,
   "metadata": {},
   "outputs": [
    {
     "name": "stderr",
     "output_type": "stream",
     "text": [
      "/home/cxx579/anaconda3/envs/ssw_env/lib/python3.7/site-packages/pandas/core/indexing.py:1676: SettingWithCopyWarning: \n",
      "A value is trying to be set on a copy of a slice from a DataFrame.\n",
      "Try using .loc[row_indexer,col_indexer] = value instead\n",
      "\n",
      "See the caveats in the documentation: https://pandas.pydata.org/pandas-docs/stable/user_guide/indexing.html#returning-a-view-versus-a-copy\n",
      "  self._setitem_single_column(ilocs[0], value, pi)\n"
     ]
    }
   ],
   "source": [
    "f1_sub_ratio_df = sub_ratio_df[sub_ratio_df['metric'] == 'f1']\n",
    "f1_sub_ratio_df.loc[f1_sub_ratio_df.metric=='f1', 'sub_ratio'] = f1_sub_ratio_df['sub_ratio'].to_numpy() / 100\n"
   ]
  },
  {
   "cell_type": "code",
   "execution_count": 14,
   "metadata": {},
   "outputs": [
    {
     "data": {
      "text/html": [
       "<div>\n",
       "<style scoped>\n",
       "    .dataframe tbody tr th:only-of-type {\n",
       "        vertical-align: middle;\n",
       "    }\n",
       "\n",
       "    .dataframe tbody tr th {\n",
       "        vertical-align: top;\n",
       "    }\n",
       "\n",
       "    .dataframe thead th {\n",
       "        text-align: right;\n",
       "    }\n",
       "</style>\n",
       "<table border=\"1\" class=\"dataframe\">\n",
       "  <thead>\n",
       "    <tr style=\"text-align: right;\">\n",
       "      <th></th>\n",
       "      <th>metric</th>\n",
       "      <th>value</th>\n",
       "      <th>dataset</th>\n",
       "      <th>sub_ratio</th>\n",
       "    </tr>\n",
       "  </thead>\n",
       "  <tbody>\n",
       "    <tr>\n",
       "      <th>16</th>\n",
       "      <td>f1</td>\n",
       "      <td>0.777131</td>\n",
       "      <td>pamap</td>\n",
       "      <td>0.50</td>\n",
       "    </tr>\n",
       "    <tr>\n",
       "      <th>17</th>\n",
       "      <td>f1</td>\n",
       "      <td>0.795815</td>\n",
       "      <td>pamap</td>\n",
       "      <td>0.50</td>\n",
       "    </tr>\n",
       "    <tr>\n",
       "      <th>18</th>\n",
       "      <td>f1</td>\n",
       "      <td>0.786550</td>\n",
       "      <td>pamap</td>\n",
       "      <td>0.50</td>\n",
       "    </tr>\n",
       "    <tr>\n",
       "      <th>19</th>\n",
       "      <td>f1</td>\n",
       "      <td>0.771621</td>\n",
       "      <td>pamap</td>\n",
       "      <td>0.50</td>\n",
       "    </tr>\n",
       "    <tr>\n",
       "      <th>20</th>\n",
       "      <td>f1</td>\n",
       "      <td>0.754058</td>\n",
       "      <td>pamap</td>\n",
       "      <td>0.50</td>\n",
       "    </tr>\n",
       "    <tr>\n",
       "      <th>...</th>\n",
       "      <td>...</td>\n",
       "      <td>...</td>\n",
       "      <td>...</td>\n",
       "      <td>...</td>\n",
       "    </tr>\n",
       "    <tr>\n",
       "      <th>164</th>\n",
       "      <td>f1</td>\n",
       "      <td>0.880444</td>\n",
       "      <td>rowlands</td>\n",
       "      <td>0.25</td>\n",
       "    </tr>\n",
       "    <tr>\n",
       "      <th>8</th>\n",
       "      <td>f1</td>\n",
       "      <td>0.643121</td>\n",
       "      <td>oppo</td>\n",
       "      <td>0.25</td>\n",
       "    </tr>\n",
       "    <tr>\n",
       "      <th>9</th>\n",
       "      <td>f1</td>\n",
       "      <td>0.540094</td>\n",
       "      <td>oppo</td>\n",
       "      <td>0.25</td>\n",
       "    </tr>\n",
       "    <tr>\n",
       "      <th>10</th>\n",
       "      <td>f1</td>\n",
       "      <td>0.488924</td>\n",
       "      <td>oppo</td>\n",
       "      <td>0.25</td>\n",
       "    </tr>\n",
       "    <tr>\n",
       "      <th>11</th>\n",
       "      <td>f1</td>\n",
       "      <td>0.691278</td>\n",
       "      <td>oppo</td>\n",
       "      <td>0.25</td>\n",
       "    </tr>\n",
       "  </tbody>\n",
       "</table>\n",
       "<p>888 rows × 4 columns</p>\n",
       "</div>"
      ],
      "text/plain": [
       "    metric     value   dataset  sub_ratio\n",
       "16      f1  0.777131     pamap       0.50\n",
       "17      f1  0.795815     pamap       0.50\n",
       "18      f1  0.786550     pamap       0.50\n",
       "19      f1  0.771621     pamap       0.50\n",
       "20      f1  0.754058     pamap       0.50\n",
       "..     ...       ...       ...        ...\n",
       "164     f1  0.880444  rowlands       0.25\n",
       "8       f1  0.643121      oppo       0.25\n",
       "9       f1  0.540094      oppo       0.25\n",
       "10      f1  0.488924      oppo       0.25\n",
       "11      f1  0.691278      oppo       0.25\n",
       "\n",
       "[888 rows x 4 columns]"
      ]
     },
     "execution_count": 14,
     "metadata": {},
     "output_type": "execute_result"
    }
   ],
   "source": [
    "f1_sub_ratio_df"
   ]
  },
  {
   "cell_type": "code",
   "execution_count": 15,
   "metadata": {},
   "outputs": [],
   "source": [
    "df2plot = master_df[(master_df['metric'] == 'f1') |  (master_df['metric'] == 'kappa') ]\n",
    "recall_df = master_df[master_df['metric'] == 'recall']\n",
    "f1_df = master_df[master_df['metric'] == 'f1']\n",
    "kappa_df = master_df[master_df['metric'] == 'kappa']"
   ]
  },
  {
   "cell_type": "code",
   "execution_count": 16,
   "metadata": {},
   "outputs": [],
   "source": [
    "sns.set_palette('colorblind')"
   ]
  },
  {
   "cell_type": "code",
   "execution_count": 17,
   "metadata": {},
   "outputs": [],
   "source": [
    "df2plot = df2plot[df2plot['metric'] == 'f1']"
   ]
  },
  {
   "cell_type": "code",
   "execution_count": 18,
   "metadata": {},
   "outputs": [],
   "source": [
    "from matplotlib import rcParams\n",
    "\n",
    "# figure size in inches\n",
    "rcParams['figure.figsize'] = 10, 4"
   ]
  },
  {
   "cell_type": "code",
   "execution_count": 19,
   "metadata": {},
   "outputs": [],
   "source": [
    "from matplotlib.ticker import FormatStrFormatter\n",
    "import matplotlib\n",
    "\n",
    "matplotlib.rcParams.update({'font.size': 13.})\n",
    "\n"
   ]
  },
  {
   "cell_type": "code",
   "execution_count": 20,
   "metadata": {},
   "outputs": [
    {
     "data": {
      "text/html": [
       "<svg  width=\"385\" height=\"55\"><rect x=\"0\" y=\"0\" width=\"55\" height=\"55\" style=\"fill:#000000;stroke-width:2;stroke:rgb(255,255,255)\"/><rect x=\"55\" y=\"0\" width=\"55\" height=\"55\" style=\"fill:#2271b2;stroke-width:2;stroke:rgb(255,255,255)\"/><rect x=\"110\" y=\"0\" width=\"55\" height=\"55\" style=\"fill:#3db7e9;stroke-width:2;stroke:rgb(255,255,255)\"/><rect x=\"165\" y=\"0\" width=\"55\" height=\"55\" style=\"fill:#f748a5;stroke-width:2;stroke:rgb(255,255,255)\"/><rect x=\"220\" y=\"0\" width=\"55\" height=\"55\" style=\"fill:#359b73;stroke-width:2;stroke:rgb(255,255,255)\"/><rect x=\"275\" y=\"0\" width=\"55\" height=\"55\" style=\"fill:#d55e00;stroke-width:2;stroke:rgb(255,255,255)\"/><rect x=\"330\" y=\"0\" width=\"55\" height=\"55\" style=\"fill:#e69f00;stroke-width:2;stroke:rgb(255,255,255)\"/></svg>"
      ],
      "text/plain": [
       "[(0.0, 0.0, 0.0),\n",
       " (0.13333333333333333, 0.44313725490196076, 0.6980392156862745),\n",
       " (0.23921568627450981, 0.7176470588235294, 0.9137254901960784),\n",
       " (0.9686274509803922, 0.2823529411764706, 0.6470588235294118),\n",
       " (0.20784313725490197, 0.6078431372549019, 0.45098039215686275),\n",
       " (0.8352941176470589, 0.3686274509803922, 0.0),\n",
       " (0.9019607843137255, 0.6235294117647059, 0.0)]"
      ]
     },
     "execution_count": 20,
     "metadata": {},
     "output_type": "execute_result"
    }
   ],
   "source": [
    "ibm_platter = [\"#000000\", \"#2271B2\", \"#3DB7E9\", \"#F748A5\", \"#359B73\", \"#D55E00\", \"#E69F00\"]\n",
    "sns.set_palette(sns.color_palette(ibm_platter))\n",
    "\n",
    "sns.color_palette()\n"
   ]
  },
  {
   "cell_type": "code",
   "execution_count": 21,
   "metadata": {},
   "outputs": [],
   "source": [
    "#0d0887,#41049d,#6a00a8,#8f0da4,#b12a90,#cc4778,#e16462,#f2844b,#fca636,#fcce25,#f0f921"
   ]
  },
  {
   "cell_type": "code",
   "execution_count": 22,
   "metadata": {},
   "outputs": [
    {
     "data": {
      "text/html": [
       "<svg  width=\"220\" height=\"55\"><rect x=\"0\" y=\"0\" width=\"55\" height=\"55\" style=\"fill:#b12a90;stroke-width:2;stroke:rgb(255,255,255)\"/><rect x=\"55\" y=\"0\" width=\"55\" height=\"55\" style=\"fill:#e16462;stroke-width:2;stroke:rgb(255,255,255)\"/><rect x=\"110\" y=\"0\" width=\"55\" height=\"55\" style=\"fill:#fca636;stroke-width:2;stroke:rgb(255,255,255)\"/><rect x=\"165\" y=\"0\" width=\"55\" height=\"55\" style=\"fill:#fcce25;stroke-width:2;stroke:rgb(255,255,255)\"/></svg>"
      ],
      "text/plain": [
       "[(0.6941176470588235, 0.16470588235294117, 0.5647058823529412),\n",
       " (0.8823529411764706, 0.39215686274509803, 0.3843137254901961),\n",
       " (0.9882352941176471, 0.6509803921568628, 0.21176470588235294),\n",
       " (0.9882352941176471, 0.807843137254902, 0.1450980392156863)]"
      ]
     },
     "execution_count": 22,
     "metadata": {},
     "output_type": "execute_result"
    }
   ],
   "source": [
    "ibm_platter = [\"#0d0887\", \"#5302a3\", \"#8b0aa5\", \"#b83289\", \"#db5c68\", \"#f48849\", \"#febd2a\"]\n",
    "ibm_platter = [\"#b12a90\",  \"#e16462\", \"#fca636\", \"#fcce25\",]\n",
    "\n",
    "\n",
    "sns.set_palette(sns.color_palette(ibm_platter))\n",
    "\n",
    "sns.color_palette()\n",
    "\n",
    "\n",
    "\n"
   ]
  },
  {
   "cell_type": "code",
   "execution_count": 36,
   "metadata": {},
   "outputs": [
    {
     "data": {
      "image/png": "[encoded data removed]",
      "text/plain": [
       "<Figure size 720x288 with 2 Axes>"
      ]
     },
     "metadata": {
      "needs_background": "light"
     },
     "output_type": "display_data"
    }
   ],
   "source": [
    "fig, (ax1, ax2) = plt.subplots(1, 2)\n",
    "\n",
    "plot_ordering=['capture24', 'pamap', 'rowlands', 'oppo']\n",
    "sns.lineplot(data=df2plot, x='subject', \n",
    "             y='value', hue='dataset', style='dataset', markersize=9,\n",
    "             hue_order=plot_ordering, style_order=plot_ordering, dashes=False,\n",
    "             markers=[\"o\", \"D\", \"s\", '<'], ax=ax1)\n",
    "ax1.set_title('Varying unlabelled subject')\n",
    "ax1.set(xscale='log')\n",
    "ax1.set(ylabel='F1')\n",
    "ax1.set_ylim([.3, .85])\n",
    "ax1.yaxis.set_major_formatter(FormatStrFormatter('%.1f'))\n",
    "\n",
    "\n",
    "ax1.set(xlabel='#unlabelled subject')\n",
    "\n",
    "ax1.grid()\n",
    "# ax1.legend(bbox_to_anchor=(1, -.25), loc='lower center', ncol=6)\n",
    "ax1.legend(bbox_to_anchor=(1, -.35), loc='lower center', ncol=4)\n",
    "\n",
    "\n",
    "sns.lineplot(data=f1_sub_ratio_df, x='sub_ratio', y='value', legend=False, markersize=9,\n",
    "             hue='dataset', style='dataset', style_order=plot_ordering, hue_order=plot_ordering, dashes=False,\n",
    "             markers=[\"o\", \"D\", \"s\", '<'], ax=ax2)\n",
    "\n",
    "ax2.set(xlabel='subject data ratio')\n",
    "ax2.set(ylabel='F1')\n",
    "ax2.set_title('Varying the subject data ratio in SSL')\n",
    "ax2.xaxis.set_ticks([.25, .5, .75, 1])\n",
    "ax2.yaxis.set_ticks([.4, .5, .6, .7, .8])\n",
    "ax2.set_ylim([.45, .85])\n",
    "\n",
    "\n",
    "ax2.yaxis.set_major_formatter(FormatStrFormatter('%.1f'))\n",
    "\n",
    "\n",
    "ax2.grid()\n",
    "# plt.tight_layout()\n",
    "\n",
    "\n",
    "plt.savefig('pretrain_exp.pdf',  dpi=600, bbox_inches = 'tight')\n",
    "# plt.savefig('imgs/subject_epoch.png', dpi=600)"
   ]
  },
  {
   "cell_type": "code",
   "execution_count": 24,
   "metadata": {},
   "outputs": [],
   "source": [
    "results_root = '/home/cxx579/ssw/reports/epoch_exp/*.csv'\n",
    "file_list = glob.glob(results_root)\n",
    "\n",
    "results_root = '/home/cxx579/ssw/reports/epoch_exp/*.csv'\n",
    "file_list = glob.glob(results_root)\n",
    "master_df = []\n",
    "for file_path in file_list:\n",
    "    file_name = file_path.split('/')[-1]\n",
    "    dataset = file_name.split('_')[0]\n",
    "    epoch_count = file_name.split('_')[-1][:2]\n",
    "    if epoch_count == '5.':\n",
    "        epoch_count = '5'\n",
    "    elif epoch_count == '1.':\n",
    "        epoch_count = '1'\n",
    "    elif epoch_count == '0.':\n",
    "        continue\n",
    "    current_df = pd.read_csv(file_path)\n",
    "    \n",
    "    current_df['id'] = current_df.index \n",
    "    current_df = pd.melt(current_df, id_vars=['id'])\n",
    "    current_df.drop(['id'], inplace=True, axis=1)\n",
    "\n",
    "    current_df['dataset'] = dataset\n",
    "    current_df['epoch'] = epoch_count\n",
    "    \n",
    "    if len(master_df) == 0:\n",
    "        master_df = current_df\n",
    "    else:\n",
    "        master_df = pd.concat([master_df, current_df])\n"
   ]
  },
  {
   "cell_type": "code",
   "execution_count": 25,
   "metadata": {},
   "outputs": [
    {
     "data": {
      "text/html": [
       "<div>\n",
       "<style scoped>\n",
       "    .dataframe tbody tr th:only-of-type {\n",
       "        vertical-align: middle;\n",
       "    }\n",
       "\n",
       "    .dataframe tbody tr th {\n",
       "        vertical-align: top;\n",
       "    }\n",
       "\n",
       "    .dataframe thead th {\n",
       "        text-align: right;\n",
       "    }\n",
       "</style>\n",
       "<table border=\"1\" class=\"dataframe\">\n",
       "  <thead>\n",
       "    <tr style=\"text-align: right;\">\n",
       "      <th></th>\n",
       "      <th>metric</th>\n",
       "      <th>value</th>\n",
       "      <th>dataset</th>\n",
       "      <th>epoch</th>\n",
       "    </tr>\n",
       "  </thead>\n",
       "  <tbody>\n",
       "    <tr>\n",
       "      <th>0</th>\n",
       "      <td>precision</td>\n",
       "      <td>0.772126</td>\n",
       "      <td>pamap</td>\n",
       "      <td>30</td>\n",
       "    </tr>\n",
       "    <tr>\n",
       "      <th>1</th>\n",
       "      <td>precision</td>\n",
       "      <td>0.789920</td>\n",
       "      <td>pamap</td>\n",
       "      <td>30</td>\n",
       "    </tr>\n",
       "    <tr>\n",
       "      <th>2</th>\n",
       "      <td>precision</td>\n",
       "      <td>0.777375</td>\n",
       "      <td>pamap</td>\n",
       "      <td>30</td>\n",
       "    </tr>\n",
       "    <tr>\n",
       "      <th>3</th>\n",
       "      <td>precision</td>\n",
       "      <td>0.807608</td>\n",
       "      <td>pamap</td>\n",
       "      <td>30</td>\n",
       "    </tr>\n",
       "    <tr>\n",
       "      <th>4</th>\n",
       "      <td>precision</td>\n",
       "      <td>0.787416</td>\n",
       "      <td>pamap</td>\n",
       "      <td>30</td>\n",
       "    </tr>\n",
       "    <tr>\n",
       "      <th>...</th>\n",
       "      <td>...</td>\n",
       "      <td>...</td>\n",
       "      <td>...</td>\n",
       "      <td>...</td>\n",
       "    </tr>\n",
       "    <tr>\n",
       "      <th>15</th>\n",
       "      <td>kappa</td>\n",
       "      <td>0.573811</td>\n",
       "      <td>capture24</td>\n",
       "      <td>50</td>\n",
       "    </tr>\n",
       "    <tr>\n",
       "      <th>16</th>\n",
       "      <td>kappa</td>\n",
       "      <td>0.587690</td>\n",
       "      <td>capture24</td>\n",
       "      <td>50</td>\n",
       "    </tr>\n",
       "    <tr>\n",
       "      <th>17</th>\n",
       "      <td>kappa</td>\n",
       "      <td>0.596397</td>\n",
       "      <td>capture24</td>\n",
       "      <td>50</td>\n",
       "    </tr>\n",
       "    <tr>\n",
       "      <th>18</th>\n",
       "      <td>kappa</td>\n",
       "      <td>0.559775</td>\n",
       "      <td>capture24</td>\n",
       "      <td>50</td>\n",
       "    </tr>\n",
       "    <tr>\n",
       "      <th>19</th>\n",
       "      <td>kappa</td>\n",
       "      <td>0.588234</td>\n",
       "      <td>capture24</td>\n",
       "      <td>50</td>\n",
       "    </tr>\n",
       "  </tbody>\n",
       "</table>\n",
       "<p>616 rows × 4 columns</p>\n",
       "</div>"
      ],
      "text/plain": [
       "       metric     value    dataset  epoch\n",
       "0   precision  0.772126      pamap     30\n",
       "1   precision  0.789920      pamap     30\n",
       "2   precision  0.777375      pamap     30\n",
       "3   precision  0.807608      pamap     30\n",
       "4   precision  0.787416      pamap     30\n",
       "..        ...       ...        ...    ...\n",
       "15      kappa  0.573811  capture24     50\n",
       "16      kappa  0.587690  capture24     50\n",
       "17      kappa  0.596397  capture24     50\n",
       "18      kappa  0.559775  capture24     50\n",
       "19      kappa  0.588234  capture24     50\n",
       "\n",
       "[616 rows x 4 columns]"
      ]
     },
     "execution_count": 25,
     "metadata": {},
     "output_type": "execute_result"
    }
   ],
   "source": [
    "master_df = master_df.rename(columns={\"variable\": \"metric\"}) \n",
    "master_df['epoch'] = master_df['epoch'].astype(int)\n",
    "\n",
    "master_df"
   ]
  },
  {
   "cell_type": "code",
   "execution_count": 28,
   "metadata": {},
   "outputs": [],
   "source": [
    "master_df = master_df.rename(columns={\"variable\": \"metric\"}) \n",
    "master_df['epoch'] = master_df['epoch'].astype(int)\n",
    "\n",
    "df2plot_epoch = master_df[(master_df['metric'] == 'f1') |  (master_df['metric'] == 'kappa') ]\n",
    "recall_df = master_df[master_df['metric'] == 'recall']\n",
    "f1_df = master_df[master_df['metric'] == 'f1']\n",
    "kappa_df = master_df[master_df['metric'] == 'kappa']"
   ]
  },
  {
   "cell_type": "code",
   "execution_count": 29,
   "metadata": {},
   "outputs": [
    {
     "data": {
      "image/png": "[encoded data removed]",
      "text/plain": [
       "<Figure size 720x288 with 1 Axes>"
      ]
     },
     "metadata": {
      "needs_background": "light"
     },
     "output_type": "display_data"
    }
   ],
   "source": [
    "ax = plt.axes()\n",
    "\n",
    "sns.lineplot(data=df2plot_epoch, x='epoch', y='value', hue='dataset', style='metric')\n",
    "\n",
    "ax.set_title('Downstream performance vs pre-training epoch count')\n",
    "plt.legend(bbox_to_anchor=(1.05, 1.0), loc='upper left')\n",
    "plt.tight_layout()\n",
    "plt.grid()\n",
    "\n",
    "\n",
    "# plt.savefig('imgs/epoch.png', dpi=600)"
   ]
  },
  {
   "cell_type": "code",
   "execution_count": null,
   "metadata": {},
   "outputs": [],
   "source": []
  },
  {
   "cell_type": "code",
   "execution_count": null,
   "metadata": {},
   "outputs": [],
   "source": []
  }
 ],
 "metadata": {
  "kernelspec": {
   "display_name": "Python 3 (ipykernel)",
   "language": "python",
   "name": "python3"
  },
  "language_info": {
   "codemirror_mode": {
    "name": "ipython",
    "version": 3
   },
   "file_extension": ".py",
   "mimetype": "text/x-python",
   "name": "python",
   "nbconvert_exporter": "python",
   "pygments_lexer": "ipython3",
   "version": "3.9.7"
  }
 },
 "nbformat": 4,
 "nbformat_minor": 4
}
