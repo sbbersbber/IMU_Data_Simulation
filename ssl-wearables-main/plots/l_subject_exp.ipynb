{
 "cells": [
  {
   "cell_type": "markdown",
   "metadata": {},
   "source": [
    "## Plot figure 3.a official [done]"
   ]
  },
  {
   "cell_type": "code",
   "execution_count": 4,
   "metadata": {},
   "outputs": [],
   "source": [
    "import numpy as np\n",
    "import pandas as pd\n",
    "import glob"
   ]
  },
  {
   "cell_type": "code",
   "execution_count": 5,
   "metadata": {},
   "outputs": [],
   "source": [
    "file_path = '/home/cxx579/ssw/reports/lsubject_exp/*csv'"
   ]
  },
  {
   "cell_type": "code",
   "execution_count": 6,
   "metadata": {},
   "outputs": [],
   "source": [
    "file_list = glob.glob(file_path)"
   ]
  },
  {
   "cell_type": "code",
   "execution_count": 7,
   "metadata": {},
   "outputs": [
    {
     "data": {
      "text/plain": [
       "40"
      ]
     },
     "execution_count": 7,
     "metadata": {},
     "output_type": "execute_result"
    }
   ],
   "source": [
    "len(file_list)"
   ]
  },
  {
   "cell_type": "code",
   "execution_count": 8,
   "metadata": {},
   "outputs": [
    {
     "data": {
      "text/plain": [
       "['/home/cxx579/ssw/reports/lsubject_exp/rowlands_hand_crafted_10_1.csv',\n",
       " '/home/cxx579/ssw/reports/lsubject_exp/capture24_flip_net_random_mlp_90_1.csv',\n",
       " '/home/cxx579/ssw/reports/lsubject_exp/rowlands_flip_net_ft_100k_freeze_30_1.csv',\n",
       " '/home/cxx579/ssw/reports/lsubject_exp/capture24_flip_net_ft_100k_freeze_10_1.csv',\n",
       " '/home/cxx579/ssw/reports/lsubject_exp/rowlands_flip_net_ft_100k_freeze_20_1.csv',\n",
       " '/home/cxx579/ssw/reports/lsubject_exp/rowlands_hand_crafted_40_1.csv',\n",
       " '/home/cxx579/ssw/reports/lsubject_exp/rowlands_flip_net_ft_100k_freeze_10_1.csv',\n",
       " '/home/cxx579/ssw/reports/lsubject_exp/capture24_flip_net_ft_100k_freeze_50_1.csv',\n",
       " '/home/cxx579/ssw/reports/lsubject_exp/rowlands_flip_net_ft_100k_20_1.csv',\n",
       " '/home/cxx579/ssw/reports/lsubject_exp/rowlands_flip_net_random_mlp_40_1.csv',\n",
       " '/home/cxx579/ssw/reports/lsubject_exp/capture24_hand_crafted_10_1.csv',\n",
       " '/home/cxx579/ssw/reports/lsubject_exp/capture24_flip_net_random_mlp_10_1.csv',\n",
       " '/home/cxx579/ssw/reports/lsubject_exp/capture24_hand_crafted_30_1.csv',\n",
       " '/home/cxx579/ssw/reports/lsubject_exp/capture24_flip_net_ft_100k_90_1.csv',\n",
       " '/home/cxx579/ssw/reports/lsubject_exp/rowlands_flip_net_ft_100k_10_1.csv',\n",
       " '/home/cxx579/ssw/reports/lsubject_exp/capture24_flip_net_random_mlp_50_1.csv',\n",
       " '/home/cxx579/ssw/reports/lsubject_exp/capture24_flip_net_random_mlp_110_1.csv',\n",
       " '/home/cxx579/ssw/reports/lsubject_exp/rowlands_flip_net_random_mlp_10_1.csv',\n",
       " '/home/cxx579/ssw/reports/lsubject_exp/capture24_flip_net_ft_100k_freeze_70_1.csv',\n",
       " '/home/cxx579/ssw/reports/lsubject_exp/capture24_flip_net_ft_100k_30_1.csv',\n",
       " '/home/cxx579/ssw/reports/lsubject_exp/capture24_hand_crafted_70_1.csv',\n",
       " '/home/cxx579/ssw/reports/lsubject_exp/capture24_flip_net_ft_100k_freeze_90_1.csv',\n",
       " '/home/cxx579/ssw/reports/lsubject_exp/rowlands_flip_net_random_mlp_30_1.csv',\n",
       " '/home/cxx579/ssw/reports/lsubject_exp/rowlands_flip_net_ft_100k_freeze_40_1.csv',\n",
       " '/home/cxx579/ssw/reports/lsubject_exp/rowlands_flip_net_ft_100k_40_1.csv',\n",
       " '/home/cxx579/ssw/reports/lsubject_exp/capture24_flip_net_random_mlp_30_1.csv',\n",
       " '/home/cxx579/ssw/reports/lsubject_exp/capture24_flip_net_random_mlp_70_1.csv',\n",
       " '/home/cxx579/ssw/reports/lsubject_exp/capture24_flip_net_ft_100k_70_1.csv',\n",
       " '/home/cxx579/ssw/reports/lsubject_exp/rowlands_hand_crafted_20_1.csv',\n",
       " '/home/cxx579/ssw/reports/lsubject_exp/capture24_flip_net_ft_100k_50_1.csv',\n",
       " '/home/cxx579/ssw/reports/lsubject_exp/capture24_flip_net_ft_100k_freeze_30_1.csv',\n",
       " '/home/cxx579/ssw/reports/lsubject_exp/capture24_hand_crafted_50_1.csv',\n",
       " '/home/cxx579/ssw/reports/lsubject_exp/capture24_hand_crafted_110_1.csv',\n",
       " '/home/cxx579/ssw/reports/lsubject_exp/rowlands_flip_net_ft_100k_30_1.csv',\n",
       " '/home/cxx579/ssw/reports/lsubject_exp/capture24_flip_net_ft_100k_10_1.csv',\n",
       " '/home/cxx579/ssw/reports/lsubject_exp/capture24_flip_net_ft_100k_110_1.csv',\n",
       " '/home/cxx579/ssw/reports/lsubject_exp/capture24_hand_crafted_90_1.csv',\n",
       " '/home/cxx579/ssw/reports/lsubject_exp/rowlands_hand_crafted_30_1.csv',\n",
       " '/home/cxx579/ssw/reports/lsubject_exp/capture24_flip_net_ft_100k_freeze_110_1.csv',\n",
       " '/home/cxx579/ssw/reports/lsubject_exp/rowlands_flip_net_random_mlp_20_1.csv']"
      ]
     },
     "execution_count": 8,
     "metadata": {},
     "output_type": "execute_result"
    }
   ],
   "source": [
    "file_list"
   ]
  },
  {
   "cell_type": "code",
   "execution_count": 17,
   "metadata": {},
   "outputs": [],
   "source": [
    "master_df = []\n",
    "for file_path in file_list:\n",
    "    file_name = file_path.split('/')[-1]\n",
    "    dataset = file_name.split('_')[0]\n",
    "    \n",
    "    subject_num = file_name.split('_')[-1]\n",
    "    subject_num = int(subject_num.split('.')[0])\n",
    "    model = '_'.join((file_name.split('_')[1:-1]))\n",
    "    \n",
    "    current_df = pd.read_csv(file_path)\n",
    "    if dataset == 'capture24':\n",
    "        data = [['precision', np.mean(current_df['precision']), np.std(current_df['precision'])],\n",
    "                 ['recall', np.mean(current_df['recall']), np.std(current_df['recall'])],\n",
    "                 ['f1', np.mean(current_df['f1']), np.std(current_df['f1'])],\n",
    "                 ['kappa', np.mean(current_df['kappa']), np.std(current_df['kappa'])]]\n",
    "        current_df = pd.DataFrame(data, columns=['metric', 'avg', 'std'])\n",
    "    else:\n",
    "        continue \n",
    "    current_df['dataset'] = dataset\n",
    "    current_df['model'] = model\n",
    "    \n",
    "    current_df['subject_num'] = subject_num  \n",
    "        \n",
    "    if len(master_df) == 0:\n",
    "        master_df = current_df\n",
    "    else:\n",
    "        master_df = pd.concat([master_df, current_df])"
   ]
  },
  {
   "cell_type": "code",
   "execution_count": 32,
   "metadata": {},
   "outputs": [
    {
     "name": "stdout",
     "output_type": "stream",
     "text": [
      "/home/cxx579/ssw/reports/lsubject_exp/rowlands_hand_crafted_10_1.csv hand_crafted 10\n",
      "/home/cxx579/ssw/reports/lsubject_exp/rowlands_flip_net_ft_100k_freeze_30_1.csv flip_net_ft_100k_freeze 30\n",
      "/home/cxx579/ssw/reports/lsubject_exp/rowlands_flip_net_ft_100k_freeze_20_1.csv flip_net_ft_100k_freeze 20\n",
      "/home/cxx579/ssw/reports/lsubject_exp/rowlands_hand_crafted_40_1.csv hand_crafted 40\n",
      "/home/cxx579/ssw/reports/lsubject_exp/rowlands_flip_net_ft_100k_freeze_10_1.csv flip_net_ft_100k_freeze 10\n",
      "/home/cxx579/ssw/reports/lsubject_exp/rowlands_flip_net_ft_100k_20_1.csv flip_net_ft_100k 20\n",
      "/home/cxx579/ssw/reports/lsubject_exp/rowlands_flip_net_random_mlp_40_1.csv flip_net_random_mlp 40\n",
      "/home/cxx579/ssw/reports/lsubject_exp/rowlands_flip_net_ft_100k_10_1.csv flip_net_ft_100k 10\n",
      "/home/cxx579/ssw/reports/lsubject_exp/rowlands_flip_net_random_mlp_10_1.csv flip_net_random_mlp 10\n",
      "/home/cxx579/ssw/reports/lsubject_exp/rowlands_flip_net_random_mlp_30_1.csv flip_net_random_mlp 30\n",
      "/home/cxx579/ssw/reports/lsubject_exp/rowlands_flip_net_ft_100k_freeze_40_1.csv flip_net_ft_100k_freeze 40\n",
      "/home/cxx579/ssw/reports/lsubject_exp/rowlands_flip_net_ft_100k_40_1.csv flip_net_ft_100k 40\n",
      "/home/cxx579/ssw/reports/lsubject_exp/rowlands_hand_crafted_20_1.csv hand_crafted 20\n",
      "/home/cxx579/ssw/reports/lsubject_exp/rowlands_flip_net_ft_100k_30_1.csv flip_net_ft_100k 30\n",
      "/home/cxx579/ssw/reports/lsubject_exp/rowlands_hand_crafted_30_1.csv hand_crafted 30\n",
      "/home/cxx579/ssw/reports/lsubject_exp/rowlands_flip_net_random_mlp_20_1.csv flip_net_random_mlp 20\n"
     ]
    }
   ],
   "source": [
    "# get the ones with error bar\n",
    "master_df = []\n",
    "for file_path in file_list:\n",
    "    file_name = file_path.split('/')[-1]\n",
    "    \n",
    "    dataset = file_name.split('_')[0]\n",
    "    \n",
    "    subject_num = file_name.split('_')[-2]\n",
    "    subject_num = int(subject_num.split('.')[0])\n",
    "    model = '_'.join((file_name.split('_')[1:-2]))\n",
    "    \n",
    "    if dataset != 'rowlands':\n",
    "        continue\n",
    "\n",
    "    # epoch_count = file_name.split('_')[-1][:2]\n",
    "    \n",
    "    current_df = pd.read_csv(file_path)\n",
    "    \n",
    "    current_df['id'] = current_df.index \n",
    "    current_df = pd.melt(current_df, id_vars=['id'])\n",
    "    current_df.drop(['id'], inplace=True, axis=1)\n",
    "\n",
    "    current_df['dataset'] = dataset\n",
    "    current_df['model'] = model\n",
    "    print(file_path, model, subject_num)\n",
    "    current_df['subject_num'] = subject_num  \n",
    "\n",
    "\n",
    "  \n",
    "    if len(master_df) == 0:\n",
    "        master_df = current_df\n",
    "    else:\n",
    "        master_df = pd.concat([master_df, current_df])\n",
    "master_df = master_df.rename(columns={\"variable\": \"metric\"}) "
   ]
  },
  {
   "cell_type": "code",
   "execution_count": 28,
   "metadata": {},
   "outputs": [
    {
     "name": "stdout",
     "output_type": "stream",
     "text": [
      "/home/cxx579/ssw/reports/lsubject_exp/capture24_flip_net_random_mlp_90_1.csv flip_net_random_mlp 90\n",
      "/home/cxx579/ssw/reports/lsubject_exp/capture24_flip_net_ft_100k_freeze_10_1.csv flip_net_ft_100k_freeze 10\n",
      "/home/cxx579/ssw/reports/lsubject_exp/capture24_flip_net_ft_100k_freeze_50_1.csv flip_net_ft_100k_freeze 50\n",
      "/home/cxx579/ssw/reports/lsubject_exp/capture24_hand_crafted_10_1.csv hand_crafted 10\n",
      "/home/cxx579/ssw/reports/lsubject_exp/capture24_flip_net_random_mlp_10_1.csv flip_net_random_mlp 10\n",
      "/home/cxx579/ssw/reports/lsubject_exp/capture24_hand_crafted_30_1.csv hand_crafted 30\n",
      "/home/cxx579/ssw/reports/lsubject_exp/capture24_flip_net_ft_100k_90_1.csv flip_net_ft_100k 90\n",
      "/home/cxx579/ssw/reports/lsubject_exp/capture24_flip_net_random_mlp_50_1.csv flip_net_random_mlp 50\n",
      "/home/cxx579/ssw/reports/lsubject_exp/capture24_flip_net_random_mlp_110_1.csv flip_net_random_mlp 110\n",
      "/home/cxx579/ssw/reports/lsubject_exp/capture24_flip_net_ft_100k_freeze_70_1.csv flip_net_ft_100k_freeze 70\n",
      "/home/cxx579/ssw/reports/lsubject_exp/capture24_flip_net_ft_100k_30_1.csv flip_net_ft_100k 30\n",
      "/home/cxx579/ssw/reports/lsubject_exp/capture24_hand_crafted_70_1.csv hand_crafted 70\n",
      "/home/cxx579/ssw/reports/lsubject_exp/capture24_flip_net_ft_100k_freeze_90_1.csv flip_net_ft_100k_freeze 90\n",
      "/home/cxx579/ssw/reports/lsubject_exp/capture24_flip_net_random_mlp_30_1.csv flip_net_random_mlp 30\n",
      "/home/cxx579/ssw/reports/lsubject_exp/capture24_flip_net_random_mlp_70_1.csv flip_net_random_mlp 70\n",
      "/home/cxx579/ssw/reports/lsubject_exp/capture24_flip_net_ft_100k_70_1.csv flip_net_ft_100k 70\n",
      "/home/cxx579/ssw/reports/lsubject_exp/capture24_flip_net_ft_100k_50_1.csv flip_net_ft_100k 50\n",
      "/home/cxx579/ssw/reports/lsubject_exp/capture24_flip_net_ft_100k_freeze_30_1.csv flip_net_ft_100k_freeze 30\n",
      "/home/cxx579/ssw/reports/lsubject_exp/capture24_hand_crafted_50_1.csv hand_crafted 50\n",
      "/home/cxx579/ssw/reports/lsubject_exp/capture24_hand_crafted_110_1.csv hand_crafted 110\n",
      "/home/cxx579/ssw/reports/lsubject_exp/capture24_flip_net_ft_100k_10_1.csv flip_net_ft_100k 10\n",
      "/home/cxx579/ssw/reports/lsubject_exp/capture24_flip_net_ft_100k_110_1.csv flip_net_ft_100k 110\n",
      "/home/cxx579/ssw/reports/lsubject_exp/capture24_hand_crafted_90_1.csv hand_crafted 90\n",
      "/home/cxx579/ssw/reports/lsubject_exp/capture24_flip_net_ft_100k_freeze_110_1.csv flip_net_ft_100k_freeze 110\n"
     ]
    }
   ],
   "source": [
    "# get the ones with error bar\n",
    "capture_df = []\n",
    "for file_path in file_list:\n",
    "    file_name = file_path.split('/')[-1]\n",
    "    dataset = file_name.split('_')[0]\n",
    "    \n",
    "    subject_num = file_name.split('_')[-2]\n",
    "    subject_num = int(subject_num.split('.')[0])\n",
    "    model = '_'.join((file_name.split('_')[1:-2]))\n",
    "    \n",
    "    if dataset == 'rowlands':\n",
    "        continue\n",
    "\n",
    "    # epoch_count = file_name.split('_')[-1][:2]\n",
    "    \n",
    "    current_df = pd.read_csv(file_path)\n",
    "    \n",
    "    current_df['id'] = current_df.index \n",
    "    current_df = pd.melt(current_df, id_vars=['id'])\n",
    "    current_df.drop(['id'], inplace=True, axis=1)\n",
    "\n",
    "    current_df['dataset'] = dataset\n",
    "    current_df['model'] = model\n",
    "    print(file_path, model, subject_num)\n",
    "    current_df['subject_num'] = subject_num  \n",
    "\n",
    "\n",
    "  \n",
    "    if len(capture_df) == 0:\n",
    "        capture_df = current_df\n",
    "    else:\n",
    "        capture_df = pd.concat([capture_df, current_df])\n",
    "capture_df = capture_df.rename(columns={\"variable\": \"metric\"}) \n",
    "#master_df['epoch'] = master_df['epoch'].astype(int)"
   ]
  },
  {
   "cell_type": "code",
   "execution_count": 30,
   "metadata": {},
   "outputs": [
    {
     "data": {
      "text/html": [
       "<div>\n",
       "<style scoped>\n",
       "    .dataframe tbody tr th:only-of-type {\n",
       "        vertical-align: middle;\n",
       "    }\n",
       "\n",
       "    .dataframe tbody tr th {\n",
       "        vertical-align: top;\n",
       "    }\n",
       "\n",
       "    .dataframe thead th {\n",
       "        text-align: right;\n",
       "    }\n",
       "</style>\n",
       "<table border=\"1\" class=\"dataframe\">\n",
       "  <thead>\n",
       "    <tr style=\"text-align: right;\">\n",
       "      <th></th>\n",
       "      <th>metric</th>\n",
       "      <th>value</th>\n",
       "      <th>dataset</th>\n",
       "      <th>model</th>\n",
       "      <th>subject_num</th>\n",
       "    </tr>\n",
       "  </thead>\n",
       "  <tbody>\n",
       "    <tr>\n",
       "      <th>0</th>\n",
       "      <td>precision</td>\n",
       "      <td>0.516402</td>\n",
       "      <td>capture24</td>\n",
       "      <td>flip_net_random_mlp</td>\n",
       "      <td>90</td>\n",
       "    </tr>\n",
       "    <tr>\n",
       "      <th>1</th>\n",
       "      <td>precision</td>\n",
       "      <td>0.783907</td>\n",
       "      <td>capture24</td>\n",
       "      <td>flip_net_random_mlp</td>\n",
       "      <td>90</td>\n",
       "    </tr>\n",
       "    <tr>\n",
       "      <th>2</th>\n",
       "      <td>precision</td>\n",
       "      <td>0.767379</td>\n",
       "      <td>capture24</td>\n",
       "      <td>flip_net_random_mlp</td>\n",
       "      <td>90</td>\n",
       "    </tr>\n",
       "    <tr>\n",
       "      <th>3</th>\n",
       "      <td>precision</td>\n",
       "      <td>0.412382</td>\n",
       "      <td>capture24</td>\n",
       "      <td>flip_net_random_mlp</td>\n",
       "      <td>90</td>\n",
       "    </tr>\n",
       "    <tr>\n",
       "      <th>4</th>\n",
       "      <td>precision</td>\n",
       "      <td>0.774203</td>\n",
       "      <td>capture24</td>\n",
       "      <td>flip_net_random_mlp</td>\n",
       "      <td>90</td>\n",
       "    </tr>\n",
       "  </tbody>\n",
       "</table>\n",
       "</div>"
      ],
      "text/plain": [
       "      metric     value    dataset                model  subject_num\n",
       "0  precision  0.516402  capture24  flip_net_random_mlp           90\n",
       "1  precision  0.783907  capture24  flip_net_random_mlp           90\n",
       "2  precision  0.767379  capture24  flip_net_random_mlp           90\n",
       "3  precision  0.412382  capture24  flip_net_random_mlp           90\n",
       "4  precision  0.774203  capture24  flip_net_random_mlp           90"
      ]
     },
     "execution_count": 30,
     "metadata": {},
     "output_type": "execute_result"
    }
   ],
   "source": [
    "capture_df.head()"
   ]
  },
  {
   "cell_type": "code",
   "execution_count": 33,
   "metadata": {},
   "outputs": [
    {
     "data": {
      "text/html": [
       "<div>\n",
       "<style scoped>\n",
       "    .dataframe tbody tr th:only-of-type {\n",
       "        vertical-align: middle;\n",
       "    }\n",
       "\n",
       "    .dataframe tbody tr th {\n",
       "        vertical-align: top;\n",
       "    }\n",
       "\n",
       "    .dataframe thead th {\n",
       "        text-align: right;\n",
       "    }\n",
       "</style>\n",
       "<table border=\"1\" class=\"dataframe\">\n",
       "  <thead>\n",
       "    <tr style=\"text-align: right;\">\n",
       "      <th></th>\n",
       "      <th>metric</th>\n",
       "      <th>value</th>\n",
       "      <th>dataset</th>\n",
       "      <th>model</th>\n",
       "      <th>subject_num</th>\n",
       "    </tr>\n",
       "  </thead>\n",
       "  <tbody>\n",
       "    <tr>\n",
       "      <th>0</th>\n",
       "      <td>precision</td>\n",
       "      <td>0.683076</td>\n",
       "      <td>rowlands</td>\n",
       "      <td>hand_crafted</td>\n",
       "      <td>10</td>\n",
       "    </tr>\n",
       "    <tr>\n",
       "      <th>1</th>\n",
       "      <td>precision</td>\n",
       "      <td>0.716545</td>\n",
       "      <td>rowlands</td>\n",
       "      <td>hand_crafted</td>\n",
       "      <td>10</td>\n",
       "    </tr>\n",
       "    <tr>\n",
       "      <th>2</th>\n",
       "      <td>precision</td>\n",
       "      <td>0.510788</td>\n",
       "      <td>rowlands</td>\n",
       "      <td>hand_crafted</td>\n",
       "      <td>10</td>\n",
       "    </tr>\n",
       "    <tr>\n",
       "      <th>3</th>\n",
       "      <td>precision</td>\n",
       "      <td>0.880928</td>\n",
       "      <td>rowlands</td>\n",
       "      <td>hand_crafted</td>\n",
       "      <td>10</td>\n",
       "    </tr>\n",
       "    <tr>\n",
       "      <th>4</th>\n",
       "      <td>precision</td>\n",
       "      <td>0.783310</td>\n",
       "      <td>rowlands</td>\n",
       "      <td>hand_crafted</td>\n",
       "      <td>10</td>\n",
       "    </tr>\n",
       "  </tbody>\n",
       "</table>\n",
       "</div>"
      ],
      "text/plain": [
       "      metric     value   dataset         model  subject_num\n",
       "0  precision  0.683076  rowlands  hand_crafted           10\n",
       "1  precision  0.716545  rowlands  hand_crafted           10\n",
       "2  precision  0.510788  rowlands  hand_crafted           10\n",
       "3  precision  0.880928  rowlands  hand_crafted           10\n",
       "4  precision  0.783310  rowlands  hand_crafted           10"
      ]
     },
     "execution_count": 33,
     "metadata": {},
     "output_type": "execute_result"
    }
   ],
   "source": [
    "master_df.head()"
   ]
  },
  {
   "cell_type": "code",
   "execution_count": 34,
   "metadata": {},
   "outputs": [
    {
     "data": {
      "text/plain": [
       "array(['flip_net_ft_100k', 'flip_net_ft_100k_freeze',\n",
       "       'flip_net_random_mlp', 'hand_crafted'], dtype=object)"
      ]
     },
     "execution_count": 34,
     "metadata": {},
     "output_type": "execute_result"
    }
   ],
   "source": [
    "np.unique(capture_df.model)"
   ]
  },
  {
   "cell_type": "code",
   "execution_count": 35,
   "metadata": {},
   "outputs": [
    {
     "data": {
      "text/plain": [
       "array(['flip_net_ft_100k', 'flip_net_ft_100k_freeze',\n",
       "       'flip_net_random_mlp', 'hand_crafted'], dtype=object)"
      ]
     },
     "execution_count": 35,
     "metadata": {},
     "output_type": "execute_result"
    }
   ],
   "source": [
    "np.unique(master_df.model)"
   ]
  },
  {
   "cell_type": "code",
   "execution_count": 36,
   "metadata": {},
   "outputs": [],
   "source": [
    "import seaborn as sns\n",
    "import matplotlib.pyplot as plt"
   ]
  },
  {
   "cell_type": "code",
   "execution_count": 37,
   "metadata": {},
   "outputs": [],
   "source": [
    "import matplotlib as mat"
   ]
  },
  {
   "cell_type": "code",
   "execution_count": 38,
   "metadata": {},
   "outputs": [],
   "source": [
    "capture_df.loc[capture_df['model'] == 'flip_net_ft_100k', 'model']  = 'FT-all'\n",
    "capture_df.loc[capture_df['model'] == 'flip_net_ft_100k_freeze', 'model'] = 'FT-after-ConV'\n",
    "capture_df.loc[capture_df['model'] == 'flip_net_random_mlp', 'model'] = 'Fully supervised'\n",
    "capture_df.loc[capture_df['model'] == 'hand_crafted', 'model'] = 'RF'\n",
    "master_df.loc[master_df['model'] == 'flip_net_ft_100k', 'model'] = 'FT-all'\n",
    "master_df.loc[master_df['model'] == 'flip_net_ft_100k_freeze', 'model'] = 'FT-after-ConV'\n",
    "master_df.loc[master_df['model'] == 'flip_net_random_mlp', 'model'] = 'Fully supervised'\n",
    "master_df.loc[master_df['model'] == 'hand_crafted', 'model'] = 'RF'"
   ]
  },
  {
   "cell_type": "code",
   "execution_count": 39,
   "metadata": {},
   "outputs": [],
   "source": [
    "precision_df = master_df[(master_df['metric'] == 'precision')]\n",
    "recall_df = master_df[master_df['metric'] == 'recall']\n",
    "f1_df = master_df[master_df['metric'] == 'f1']\n",
    "kappa_df = master_df[master_df['metric'] == 'kappa']"
   ]
  },
  {
   "cell_type": "code",
   "execution_count": 40,
   "metadata": {},
   "outputs": [],
   "source": [
    "sns.set_palette('colorblind')"
   ]
  },
  {
   "cell_type": "code",
   "execution_count": 41,
   "metadata": {},
   "outputs": [],
   "source": [
    "from matplotlib import rcParams\n",
    "\n",
    "# figure size in inches\n",
    "rcParams['figure.figsize'] = 8, 5"
   ]
  },
  {
   "cell_type": "code",
   "execution_count": 42,
   "metadata": {},
   "outputs": [
    {
     "name": "stderr",
     "output_type": "stream",
     "text": [
      "/home/cxx579/anaconda3/envs/ssw_env/lib/python3.7/site-packages/pandas/core/indexing.py:1720: SettingWithCopyWarning: \n",
      "A value is trying to be set on a copy of a slice from a DataFrame.\n",
      "Try using .loc[row_indexer,col_indexer] = value instead\n",
      "\n",
      "See the caveats in the documentation: https://pandas.pydata.org/pandas-docs/stable/user_guide/indexing.html#returning-a-view-versus-a-copy\n",
      "  self._setitem_single_column(loc, value, pi)\n"
     ]
    }
   ],
   "source": [
    "f1_df.loc[f1_df.model == 'RF', 'model'] = 'Random forest'"
   ]
  },
  {
   "cell_type": "code",
   "execution_count": 43,
   "metadata": {},
   "outputs": [
    {
     "data": {
      "image/png": "[encoded data removed]",
      "text/plain": [
       "<Figure size 576x360 with 1 Axes>"
      ]
     },
     "metadata": {
      "needs_background": "light"
     },
     "output_type": "display_data"
    }
   ],
   "source": [
    "ax = plt.axes()\n",
    "\n",
    "sns.lineplot(data=f1_df, x='subject_num', y='value',  hue='model', style='model', dashes=False, markers=[\"o\", \"^\", \"s\", '*'])\n",
    "\n",
    "ax.set_title('Rowlands, varying number of #subjects')\n",
    "plt.legend(bbox_to_anchor=(1.05, 1.0), loc='upper left')\n",
    "ax.set(ylabel='F1')\n",
    "ax.set(xlabel='#subject')\n",
    "\n",
    "plt.grid()\n",
    "ax.set_xticks([10, 20, 30, 40]) \n",
    "plt.tight_layout()\n",
    "plt.savefig('../plots/imgs/rowlands_subject.svg', format='svg', dpi=600)"
   ]
  },
  {
   "cell_type": "code",
   "execution_count": 44,
   "metadata": {},
   "outputs": [],
   "source": [
    "# Do the same for capture24"
   ]
  },
  {
   "cell_type": "code",
   "execution_count": 65,
   "metadata": {},
   "outputs": [],
   "source": [
    "import matplotlib\n",
    "\n",
    "matplotlib.rcParams.update({'font.size': 11})\n"
   ]
  },
  {
   "cell_type": "code",
   "execution_count": 66,
   "metadata": {},
   "outputs": [],
   "source": [
    "cap_precision_df = capture_df[(capture_df['metric'] == 'precision')]\n",
    "cap_recall_df = capture_df[capture_df['metric'] == 'recall']\n",
    "cap_f1_df = capture_df[capture_df['metric'] == 'f1']\n",
    "cap_kappa_df = capture_df[capture_df['metric'] == 'kappa']\n",
    "from matplotlib import rcParams\n",
    "from matplotlib.ticker import FormatStrFormatter\n",
    "\n",
    "\n",
    "# figure size in inches\n",
    "rcParams['figure.figsize'] = 10, 4"
   ]
  },
  {
   "cell_type": "code",
   "execution_count": 67,
   "metadata": {},
   "outputs": [
    {
     "name": "stderr",
     "output_type": "stream",
     "text": [
      "/home/cxx579/anaconda3/envs/ssw_env/lib/python3.7/site-packages/pandas/core/indexing.py:1720: SettingWithCopyWarning: \n",
      "A value is trying to be set on a copy of a slice from a DataFrame.\n",
      "Try using .loc[row_indexer,col_indexer] = value instead\n",
      "\n",
      "See the caveats in the documentation: https://pandas.pydata.org/pandas-docs/stable/user_guide/indexing.html#returning-a-view-versus-a-copy\n",
      "  self._setitem_single_column(loc, value, pi)\n"
     ]
    }
   ],
   "source": [
    "cap_f1_df.loc[cap_f1_df.model == 'RF', 'model'] = 'Random forest'"
   ]
  },
  {
   "cell_type": "code",
   "execution_count": 68,
   "metadata": {},
   "outputs": [],
   "source": [
    "#0d0887,#41049d,#6a00a8,#8f0da4,#b12a90,#cc4778,#e16462,#f2844b,#fca636,#fcce25,#f0f921"
   ]
  },
  {
   "cell_type": "code",
   "execution_count": 69,
   "metadata": {},
   "outputs": [
    {
     "data": {
      "text/html": [
       "<svg  width=\"220\" height=\"55\"><rect x=\"0\" y=\"0\" width=\"55\" height=\"55\" style=\"fill:#0d0887;stroke-width:2;stroke:rgb(255,255,255)\"/><rect x=\"55\" y=\"0\" width=\"55\" height=\"55\" style=\"fill:#6a00a8;stroke-width:2;stroke:rgb(255,255,255)\"/><rect x=\"110\" y=\"0\" width=\"55\" height=\"55\" style=\"fill:#b12a90;stroke-width:2;stroke:rgb(255,255,255)\"/><rect x=\"165\" y=\"0\" width=\"55\" height=\"55\" style=\"fill:#e16462;stroke-width:2;stroke:rgb(255,255,255)\"/></svg>"
      ],
      "text/plain": [
       "[(0.050980392156862744, 0.03137254901960784, 0.5294117647058824),\n",
       " (0.41568627450980394, 0.0, 0.6588235294117647),\n",
       " (0.6941176470588235, 0.16470588235294117, 0.5647058823529412),\n",
       " (0.8823529411764706, 0.39215686274509803, 0.3843137254901961)]"
      ]
     },
     "execution_count": 69,
     "metadata": {},
     "output_type": "execute_result"
    }
   ],
   "source": [
    "ibm_platter = [\"#0d0887\", \"#5302a3\", \"#8b0aa5\", \"#b83289\", \"#db5c68\", \"#f48849\", \"#febd2a\"]\n",
    "ibm_platter = [\"#0d0887\",  \"#6a00a8\", \"#b12a90\", \"#e16462\",]\n",
    "\n",
    "\n",
    "sns.set_palette(sns.color_palette(ibm_platter))\n",
    "\n",
    "sns.color_palette()\n",
    "\n",
    "\n"
   ]
  },
  {
   "cell_type": "code",
   "execution_count": 70,
   "metadata": {},
   "outputs": [
    {
     "data": {
      "image/png": "[encoded data removed]",
      "text/plain": [
       "<Figure size 720x288 with 2 Axes>"
      ]
     },
     "metadata": {
      "needs_background": "light"
     },
     "output_type": "display_data"
    }
   ],
   "source": [
    "fig, (ax1, ax2) = plt.subplots(1, 2)\n",
    "\n",
    "\n",
    "my_order=['FT-all', 'FT-after-ConV', 'Fully supervised', 'Random forest']\n",
    "\n",
    "\n",
    "sns.lineplot(data=f1_df, x='subject_num', y='value',  hue='model', ax=ax2,  markersize=9, hue_order=my_order, legend=False,\n",
    "             style='model', style_order=my_order, dashes=False, markers={\n",
    "                'FT-all': \"d\", 'FT-after-ConV': \"^\", 'Random forest': \"s\", 'Fully supervised': 'X'})\n",
    "\n",
    "ax2.set_title('Rowlands: varying labelled subjects')\n",
    "ax2.set(ylabel='F1')\n",
    "ax2.set(xlabel='#subject')\n",
    "ax2.yaxis.set_major_formatter(FormatStrFormatter('%.2f'))\n",
    "\n",
    "\n",
    "ax1.grid()\n",
    "ax1.set_xticks([10, 20, 30, 40]) \n",
    "# plt.tight_layout()\n",
    "\n",
    "my_order=['FT-all', 'FT-after-ConV', 'Fully supervised', 'Random forest']\n",
    "sns.lineplot(data=cap_f1_df, x='subject_num', y='value',  hue='model', ax=ax1, markersize=9, hue_order=my_order,\n",
    "             style='model', style_order=my_order, dashes=False, markers={\n",
    "                'FT-all': \"d\", 'FT-after-ConV': \"^\", 'Random forest': \"s\", 'Fully supervised': 'X'})\n",
    "\n",
    "ax1.legend(bbox_to_anchor=(1.1, -.35), loc='lower center', ncol=4)\n",
    "ax1.set_title('Capture-24: varying labelled subjects')\n",
    "ax1.set(ylabel='F1')\n",
    "ax2.grid()\n",
    "ax1.set(xlabel='#subject')\n",
    "ax1.set_xticks([10, 30, 50, 70, 90, 110]) \n",
    "ax1.yaxis.set_major_formatter(FormatStrFormatter('%.2f'))\n",
    "\n",
    "\n",
    "#plt.tight_layout()\n",
    "plt.savefig('../plots/imgs/varyingDownstreamSubject.pdf', format='pdf', bbox_inches = 'tight', dpi=600)"
   ]
  }
 ],
 "metadata": {
  "kernelspec": {
   "display_name": "ssw",
   "language": "python",
   "name": "python3"
  },
  "language_info": {
   "codemirror_mode": {
    "name": "ipython",
    "version": 3
   },
   "file_extension": ".py",
   "mimetype": "text/x-python",
   "name": "python",
   "nbconvert_exporter": "python",
   "pygments_lexer": "ipython3",
   "version": "3.7.9"
  }
 },
 "nbformat": 4,
 "nbformat_minor": 4
}
