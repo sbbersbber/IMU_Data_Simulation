{
 "cells": [
  {
   "cell_type": "markdown",
   "metadata": {},
   "source": [
    "## This script generates the plots used for the ICML SSL workshop"
   ]
  },
  {
   "cell_type": "code",
   "execution_count": 33,
   "metadata": {},
   "outputs": [],
   "source": [
    "import glob\n",
    "import pandas as pd\n",
    "import seaborn as sns\n",
    "import matplotlib.pyplot as plt\n"
   ]
  },
  {
   "cell_type": "code",
   "execution_count": 2,
   "metadata": {},
   "outputs": [],
   "source": [
    "results_root = '/home/cxx579/ssw/reports/epoch_exp/*.csv'\n",
    "file_list = glob.glob(results_root)"
   ]
  },
  {
   "cell_type": "code",
   "execution_count": 3,
   "metadata": {},
   "outputs": [],
   "source": [
    "test_df = pd.read_csv('/home/cxx579/ssw/reports/epoch_exp/oppo_flip_net_ft_100k_overall_10.csv')"
   ]
  },
  {
   "cell_type": "code",
   "execution_count": 4,
   "metadata": {},
   "outputs": [],
   "source": [
    "test_df['id'] = test_df.index "
   ]
  },
  {
   "cell_type": "code",
   "execution_count": 5,
   "metadata": {},
   "outputs": [
    {
     "data": {
      "text/html": [
       "<div>\n",
       "<style scoped>\n",
       "    .dataframe tbody tr th:only-of-type {\n",
       "        vertical-align: middle;\n",
       "    }\n",
       "\n",
       "    .dataframe tbody tr th {\n",
       "        vertical-align: top;\n",
       "    }\n",
       "\n",
       "    .dataframe thead th {\n",
       "        text-align: right;\n",
       "    }\n",
       "</style>\n",
       "<table border=\"1\" class=\"dataframe\">\n",
       "  <thead>\n",
       "    <tr style=\"text-align: right;\">\n",
       "      <th></th>\n",
       "      <th>precision</th>\n",
       "      <th>recall</th>\n",
       "      <th>f1</th>\n",
       "      <th>kappa</th>\n",
       "      <th>id</th>\n",
       "    </tr>\n",
       "  </thead>\n",
       "  <tbody>\n",
       "    <tr>\n",
       "      <th>0</th>\n",
       "      <td>0.634367</td>\n",
       "      <td>0.739606</td>\n",
       "      <td>0.636494</td>\n",
       "      <td>0.546948</td>\n",
       "      <td>0</td>\n",
       "    </tr>\n",
       "    <tr>\n",
       "      <th>1</th>\n",
       "      <td>0.581541</td>\n",
       "      <td>0.639326</td>\n",
       "      <td>0.554002</td>\n",
       "      <td>0.433539</td>\n",
       "      <td>1</td>\n",
       "    </tr>\n",
       "    <tr>\n",
       "      <th>2</th>\n",
       "      <td>0.623226</td>\n",
       "      <td>0.688130</td>\n",
       "      <td>0.643382</td>\n",
       "      <td>0.498756</td>\n",
       "      <td>2</td>\n",
       "    </tr>\n",
       "    <tr>\n",
       "      <th>3</th>\n",
       "      <td>0.600050</td>\n",
       "      <td>0.678435</td>\n",
       "      <td>0.612403</td>\n",
       "      <td>0.449273</td>\n",
       "      <td>3</td>\n",
       "    </tr>\n",
       "  </tbody>\n",
       "</table>\n",
       "</div>"
      ],
      "text/plain": [
       "   precision    recall        f1     kappa  id\n",
       "0   0.634367  0.739606  0.636494  0.546948   0\n",
       "1   0.581541  0.639326  0.554002  0.433539   1\n",
       "2   0.623226  0.688130  0.643382  0.498756   2\n",
       "3   0.600050  0.678435  0.612403  0.449273   3"
      ]
     },
     "execution_count": 5,
     "metadata": {},
     "output_type": "execute_result"
    }
   ],
   "source": [
    "test_df"
   ]
  },
  {
   "cell_type": "code",
   "execution_count": 6,
   "metadata": {},
   "outputs": [],
   "source": [
    "test_df['id'] = test_df.index \n",
    "new_df = pd.melt(test_df, id_vars=['id'])\n",
    "new_df.drop(['id'], inplace=True, axis=1)"
   ]
  },
  {
   "cell_type": "code",
   "execution_count": 12,
   "metadata": {},
   "outputs": [],
   "source": [
    "new_df.drop(['id'], inplace=True, axis=1)"
   ]
  },
  {
   "cell_type": "code",
   "execution_count": 13,
   "metadata": {},
   "outputs": [
    {
     "data": {
      "text/html": [
       "<div>\n",
       "<style scoped>\n",
       "    .dataframe tbody tr th:only-of-type {\n",
       "        vertical-align: middle;\n",
       "    }\n",
       "\n",
       "    .dataframe tbody tr th {\n",
       "        vertical-align: top;\n",
       "    }\n",
       "\n",
       "    .dataframe thead th {\n",
       "        text-align: right;\n",
       "    }\n",
       "</style>\n",
       "<table border=\"1\" class=\"dataframe\">\n",
       "  <thead>\n",
       "    <tr style=\"text-align: right;\">\n",
       "      <th></th>\n",
       "      <th>variable</th>\n",
       "      <th>value</th>\n",
       "    </tr>\n",
       "  </thead>\n",
       "  <tbody>\n",
       "    <tr>\n",
       "      <th>0</th>\n",
       "      <td>precision</td>\n",
       "      <td>0.634367</td>\n",
       "    </tr>\n",
       "    <tr>\n",
       "      <th>1</th>\n",
       "      <td>precision</td>\n",
       "      <td>0.581541</td>\n",
       "    </tr>\n",
       "    <tr>\n",
       "      <th>2</th>\n",
       "      <td>precision</td>\n",
       "      <td>0.623226</td>\n",
       "    </tr>\n",
       "    <tr>\n",
       "      <th>3</th>\n",
       "      <td>precision</td>\n",
       "      <td>0.600050</td>\n",
       "    </tr>\n",
       "    <tr>\n",
       "      <th>4</th>\n",
       "      <td>recall</td>\n",
       "      <td>0.739606</td>\n",
       "    </tr>\n",
       "    <tr>\n",
       "      <th>5</th>\n",
       "      <td>recall</td>\n",
       "      <td>0.639326</td>\n",
       "    </tr>\n",
       "    <tr>\n",
       "      <th>6</th>\n",
       "      <td>recall</td>\n",
       "      <td>0.688130</td>\n",
       "    </tr>\n",
       "    <tr>\n",
       "      <th>7</th>\n",
       "      <td>recall</td>\n",
       "      <td>0.678435</td>\n",
       "    </tr>\n",
       "    <tr>\n",
       "      <th>8</th>\n",
       "      <td>f1</td>\n",
       "      <td>0.636494</td>\n",
       "    </tr>\n",
       "    <tr>\n",
       "      <th>9</th>\n",
       "      <td>f1</td>\n",
       "      <td>0.554002</td>\n",
       "    </tr>\n",
       "    <tr>\n",
       "      <th>10</th>\n",
       "      <td>f1</td>\n",
       "      <td>0.643382</td>\n",
       "    </tr>\n",
       "    <tr>\n",
       "      <th>11</th>\n",
       "      <td>f1</td>\n",
       "      <td>0.612403</td>\n",
       "    </tr>\n",
       "    <tr>\n",
       "      <th>12</th>\n",
       "      <td>kappa</td>\n",
       "      <td>0.546948</td>\n",
       "    </tr>\n",
       "    <tr>\n",
       "      <th>13</th>\n",
       "      <td>kappa</td>\n",
       "      <td>0.433539</td>\n",
       "    </tr>\n",
       "    <tr>\n",
       "      <th>14</th>\n",
       "      <td>kappa</td>\n",
       "      <td>0.498756</td>\n",
       "    </tr>\n",
       "    <tr>\n",
       "      <th>15</th>\n",
       "      <td>kappa</td>\n",
       "      <td>0.449273</td>\n",
       "    </tr>\n",
       "  </tbody>\n",
       "</table>\n",
       "</div>"
      ],
      "text/plain": [
       "     variable     value\n",
       "0   precision  0.634367\n",
       "1   precision  0.581541\n",
       "2   precision  0.623226\n",
       "3   precision  0.600050\n",
       "4      recall  0.739606\n",
       "5      recall  0.639326\n",
       "6      recall  0.688130\n",
       "7      recall  0.678435\n",
       "8          f1  0.636494\n",
       "9          f1  0.554002\n",
       "10         f1  0.643382\n",
       "11         f1  0.612403\n",
       "12      kappa  0.546948\n",
       "13      kappa  0.433539\n",
       "14      kappa  0.498756\n",
       "15      kappa  0.449273"
      ]
     },
     "execution_count": 13,
     "metadata": {},
     "output_type": "execute_result"
    }
   ],
   "source": [
    "new_df"
   ]
  },
  {
   "cell_type": "code",
   "execution_count": 15,
   "metadata": {},
   "outputs": [
    {
     "data": {
      "text/plain": [
       "['/home/cxx579/ssw/reports/epoch_exp/pamap_flip_net_ft_100k_overall_30.csv',\n",
       " '/home/cxx579/ssw/reports/epoch_exp/pamap_flip_net_ft_100k_overall_10.csv',\n",
       " '/home/cxx579/ssw/reports/epoch_exp/pamap_flip_net_ft_100k_overall_20.csv',\n",
       " '/home/cxx579/ssw/reports/epoch_exp/rowlands_flip_net_ft_100k_overall_20.csv',\n",
       " '/home/cxx579/ssw/reports/epoch_exp/oppo_flip_net_ft_100k_overall_10.csv',\n",
       " '/home/cxx579/ssw/reports/epoch_exp/oppo_flip_net_ft_100k_overall_50.csv',\n",
       " '/home/cxx579/ssw/reports/epoch_exp/rowlands_flip_net_ft_100k_overall_40.csv',\n",
       " '/home/cxx579/ssw/reports/epoch_exp/pamap_flip_net_ft_100k_overall_40.csv',\n",
       " '/home/cxx579/ssw/reports/epoch_exp/oppo_flip_net_ft_100k_overall_40.csv',\n",
       " '/home/cxx579/ssw/reports/epoch_exp/rowlands_flip_net_ft_100k_overall_50.csv',\n",
       " '/home/cxx579/ssw/reports/epoch_exp/rowlands_flip_net_ft_100k_overall_30.csv',\n",
       " '/home/cxx579/ssw/reports/epoch_exp/oppo_flip_net_ft_100k_overall_30.csv',\n",
       " '/home/cxx579/ssw/reports/epoch_exp/pamap_flip_net_ft_100k_overall_50.csv',\n",
       " '/home/cxx579/ssw/reports/epoch_exp/rowlands_flip_net_ft_100k_overall_10.csv',\n",
       " '/home/cxx579/ssw/reports/epoch_exp/oppo_flip_net_ft_100k_overall_20.csv']"
      ]
     },
     "execution_count": 15,
     "metadata": {},
     "output_type": "execute_result"
    }
   ],
   "source": [
    "file_list"
   ]
  },
  {
   "cell_type": "code",
   "execution_count": 14,
   "metadata": {},
   "outputs": [],
   "source": [
    "master_df = []\n",
    "for file_path in file_list:\n",
    "    file_name = file_path.split('/')[-1]\n",
    "    dataset = file_name.split('_')[0]\n",
    "    epoch_count = file_name.split('_')[-1][:2]\n",
    "    \n",
    "    current_df = pd.read_csv(file_path)\n",
    "    \n",
    "    current_df['id'] = current_df.index \n",
    "    current_df = pd.melt(current_df, id_vars=['id'])\n",
    "    current_df.drop(['id'], inplace=True, axis=1)\n",
    "\n",
    "    current_df['dataset'] = dataset\n",
    "    current_df['epoch'] = epoch_count\n",
    "    \n",
    "    if len(master_df) == 0:\n",
    "        master_df = current_df\n",
    "    else:\n",
    "        master_df = pd.concat([master_df, current_df])\n",
    "master_df = master_df.rename(columns={\"variable\": \"metric\"}) \n",
    "master_df['epoch'] = master_df['epoch'].astype(int)"
   ]
  },
  {
   "cell_type": "code",
   "execution_count": 23,
   "metadata": {},
   "outputs": [],
   "source": [
    "precision_df = master_df[(master_df['metric'] == 'precision') |  (master_df['metric'] == 'kappa') ]\n",
    "recall_df = master_df[master_df['metric'] == 'recall']\n",
    "f1_df = master_df[master_df['metric'] == 'f1']\n",
    "kappa_df = master_df[master_df['metric'] == 'kappa']"
   ]
  },
  {
   "cell_type": "code",
   "execution_count": 25,
   "metadata": {},
   "outputs": [
    {
     "data": {
      "text/html": [
       "<div>\n",
       "<style scoped>\n",
       "    .dataframe tbody tr th:only-of-type {\n",
       "        vertical-align: middle;\n",
       "    }\n",
       "\n",
       "    .dataframe tbody tr th {\n",
       "        vertical-align: top;\n",
       "    }\n",
       "\n",
       "    .dataframe thead th {\n",
       "        text-align: right;\n",
       "    }\n",
       "</style>\n",
       "<table border=\"1\" class=\"dataframe\">\n",
       "  <thead>\n",
       "    <tr style=\"text-align: right;\">\n",
       "      <th></th>\n",
       "      <th>metric</th>\n",
       "      <th>value</th>\n",
       "      <th>dataset</th>\n",
       "      <th>epoch</th>\n",
       "    </tr>\n",
       "  </thead>\n",
       "  <tbody>\n",
       "    <tr>\n",
       "      <th>0</th>\n",
       "      <td>precision</td>\n",
       "      <td>0.772126</td>\n",
       "      <td>pamap</td>\n",
       "      <td>30</td>\n",
       "    </tr>\n",
       "    <tr>\n",
       "      <th>1</th>\n",
       "      <td>precision</td>\n",
       "      <td>0.789920</td>\n",
       "      <td>pamap</td>\n",
       "      <td>30</td>\n",
       "    </tr>\n",
       "    <tr>\n",
       "      <th>2</th>\n",
       "      <td>precision</td>\n",
       "      <td>0.777375</td>\n",
       "      <td>pamap</td>\n",
       "      <td>30</td>\n",
       "    </tr>\n",
       "    <tr>\n",
       "      <th>3</th>\n",
       "      <td>precision</td>\n",
       "      <td>0.807608</td>\n",
       "      <td>pamap</td>\n",
       "      <td>30</td>\n",
       "    </tr>\n",
       "    <tr>\n",
       "      <th>4</th>\n",
       "      <td>precision</td>\n",
       "      <td>0.787416</td>\n",
       "      <td>pamap</td>\n",
       "      <td>30</td>\n",
       "    </tr>\n",
       "    <tr>\n",
       "      <th>...</th>\n",
       "      <td>...</td>\n",
       "      <td>...</td>\n",
       "      <td>...</td>\n",
       "      <td>...</td>\n",
       "    </tr>\n",
       "    <tr>\n",
       "      <th>3</th>\n",
       "      <td>precision</td>\n",
       "      <td>0.588721</td>\n",
       "      <td>oppo</td>\n",
       "      <td>20</td>\n",
       "    </tr>\n",
       "    <tr>\n",
       "      <th>12</th>\n",
       "      <td>kappa</td>\n",
       "      <td>0.585236</td>\n",
       "      <td>oppo</td>\n",
       "      <td>20</td>\n",
       "    </tr>\n",
       "    <tr>\n",
       "      <th>13</th>\n",
       "      <td>kappa</td>\n",
       "      <td>0.491217</td>\n",
       "      <td>oppo</td>\n",
       "      <td>20</td>\n",
       "    </tr>\n",
       "    <tr>\n",
       "      <th>14</th>\n",
       "      <td>kappa</td>\n",
       "      <td>0.495374</td>\n",
       "      <td>oppo</td>\n",
       "      <td>20</td>\n",
       "    </tr>\n",
       "    <tr>\n",
       "      <th>15</th>\n",
       "      <td>kappa</td>\n",
       "      <td>0.439859</td>\n",
       "      <td>oppo</td>\n",
       "      <td>20</td>\n",
       "    </tr>\n",
       "  </tbody>\n",
       "</table>\n",
       "<p>170 rows × 4 columns</p>\n",
       "</div>"
      ],
      "text/plain": [
       "       metric     value dataset  epoch\n",
       "0   precision  0.772126   pamap     30\n",
       "1   precision  0.789920   pamap     30\n",
       "2   precision  0.777375   pamap     30\n",
       "3   precision  0.807608   pamap     30\n",
       "4   precision  0.787416   pamap     30\n",
       "..        ...       ...     ...    ...\n",
       "3   precision  0.588721    oppo     20\n",
       "12      kappa  0.585236    oppo     20\n",
       "13      kappa  0.491217    oppo     20\n",
       "14      kappa  0.495374    oppo     20\n",
       "15      kappa  0.439859    oppo     20\n",
       "\n",
       "[170 rows x 4 columns]"
      ]
     },
     "execution_count": 25,
     "metadata": {},
     "output_type": "execute_result"
    }
   ],
   "source": [
    "precision_df"
   ]
  },
  {
   "cell_type": "code",
   "execution_count": 31,
   "metadata": {},
   "outputs": [],
   "source": [
    "sns.set_palette('colorblind')"
   ]
  },
  {
   "cell_type": "code",
   "execution_count": 37,
   "metadata": {},
   "outputs": [
    {
     "data": {
      "image/png": "[encoded data removed]",
      "text/plain": [
       "<Figure size 432x288 with 1 Axes>"
      ]
     },
     "metadata": {
      "needs_background": "light"
     },
     "output_type": "display_data"
    }
   ],
   "source": [
    "ax = plt.axes()\n",
    "\n",
    "sns.lineplot(data=precision_df, x='epoch', y='value', hue='dataset', style='metric')\n",
    "\n",
    "ax.set_title('Downstream performance vs pre-training epoch count')\n",
    "plt.legend(bbox_to_anchor=(1.05, 1.0), loc='upper left')\n",
    "plt.tight_layout()\n",
    "plt.savefig('imgs/epoch.png', dpi=600)"
   ]
  }
 ],
 "metadata": {
  "kernelspec": {
   "display_name": "Python 3",
   "language": "python",
   "name": "python3"
  },
  "language_info": {
   "codemirror_mode": {
    "name": "ipython",
    "version": 3
   },
   "file_extension": ".py",
   "mimetype": "text/x-python",
   "name": "python",
   "nbconvert_exporter": "python",
   "pygments_lexer": "ipython3",
   "version": "3.7.10"
  }
 },
 "nbformat": 4,
 "nbformat_minor": 4
}
