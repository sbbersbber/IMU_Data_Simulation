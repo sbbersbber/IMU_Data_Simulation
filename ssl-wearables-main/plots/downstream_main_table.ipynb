{
 "cells": [
  {
   "cell_type": "markdown",
   "metadata": {},
   "source": [
    "## Generate the results for Tab 4 [done]"
   ]
  },
  {
   "cell_type": "code",
   "execution_count": 1,
   "metadata": {},
   "outputs": [],
   "source": [
    "import numpy as np\n",
    "import pandas as pd\n",
    "import glob\n",
    "\n"
   ]
  },
  {
   "cell_type": "code",
   "execution_count": 2,
   "metadata": {},
   "outputs": [],
   "source": [
    "file_path = '/data/UKBB/SSL/reports/mtl/main/*csv'\n"
   ]
  },
  {
   "cell_type": "code",
   "execution_count": 3,
   "metadata": {},
   "outputs": [],
   "source": [
    "file_list = glob.glob(file_path)"
   ]
  },
  {
   "cell_type": "code",
   "execution_count": 4,
   "metadata": {},
   "outputs": [
    {
     "data": {
      "text/plain": [
       "28"
      ]
     },
     "execution_count": 4,
     "metadata": {},
     "output_type": "execute_result"
    }
   ],
   "source": [
    "len(file_list)"
   ]
  },
  {
   "cell_type": "code",
   "execution_count": 5,
   "metadata": {},
   "outputs": [
    {
     "data": {
      "text/plain": [
       "['/data/UKBB/SSL/reports/mtl/main/rowlands_flip_net_ft_100k_freeze_-1_1.csv',\n",
       " '/data/UKBB/SSL/reports/mtl/main/oppo_flip_net_ft_100k_-1_1.csv',\n",
       " '/data/UKBB/SSL/reports/mtl/main/pamap_flip_net_ft_100k_freeze_-1_1.csv',\n",
       " '/data/UKBB/SSL/reports/mtl/main/rowlands_flip_net_ft_100k_-1_1.csv',\n",
       " '/data/UKBB/SSL/reports/mtl/main/oppo_flip_net_random_mlp_-1_1.csv',\n",
       " '/data/UKBB/SSL/reports/mtl/main/adl_flip_net_ft_100k_freeze_-1_1.csv',\n",
       " '/data/UKBB/SSL/reports/mtl/main/pamap_hand_crafted_-1_1.csv',\n",
       " '/data/UKBB/SSL/reports/mtl/main/oppo_flip_net_ft_100k_freeze_-1_1.csv',\n",
       " '/data/UKBB/SSL/reports/mtl/main/capture24_flip_net_ft_100k_freeze_-1_1.csv',\n",
       " '/data/UKBB/SSL/reports/mtl/main/wisdm_hand_crafted_-1_1.csv',\n",
       " '/data/UKBB/SSL/reports/mtl/main/oppo_hand_crafted_-1_1.csv',\n",
       " '/data/UKBB/SSL/reports/mtl/main/adl_hand_crafted_-1_1.csv',\n",
       " '/data/UKBB/SSL/reports/mtl/main/realworld_flip_net_ft_100k_-1_1.csv',\n",
       " '/data/UKBB/SSL/reports/mtl/main/adl_flip_net_random_mlp_-1_1.csv',\n",
       " '/data/UKBB/SSL/reports/mtl/main/rowlands_hand_crafted_-1_1.csv',\n",
       " '/data/UKBB/SSL/reports/mtl/main/realworld_hand_crafted_-1_1.csv',\n",
       " '/data/UKBB/SSL/reports/mtl/main/realworld_flip_net_random_mlp_-1_1.csv',\n",
       " '/data/UKBB/SSL/reports/mtl/main/capture24_flip_net_random_mlp_-1_1.csv',\n",
       " '/data/UKBB/SSL/reports/mtl/main/capture24_flip_net_ft_100k_-1_1.csv',\n",
       " '/data/UKBB/SSL/reports/mtl/main/adl_flip_net_ft_100k_-1_1.csv',\n",
       " '/data/UKBB/SSL/reports/mtl/main/pamap_flip_net_ft_100k_-1_1.csv',\n",
       " '/data/UKBB/SSL/reports/mtl/main/wisdm_flip_net_ft_100k_-1_1.csv',\n",
       " '/data/UKBB/SSL/reports/mtl/main/rowlands_flip_net_random_mlp_-1_1.csv',\n",
       " '/data/UKBB/SSL/reports/mtl/main/realworld_flip_net_ft_100k_freeze_-1_1.csv',\n",
       " '/data/UKBB/SSL/reports/mtl/main/pamap_flip_net_random_mlp_-1_1.csv',\n",
       " '/data/UKBB/SSL/reports/mtl/main/capture24_hand_crafted_-1_1.csv',\n",
       " '/data/UKBB/SSL/reports/mtl/main/wisdm_flip_net_ft_100k_freeze_-1_1.csv',\n",
       " '/data/UKBB/SSL/reports/mtl/main/wisdm_flip_net_random_mlp_-1_1.csv']"
      ]
     },
     "execution_count": 5,
     "metadata": {},
     "output_type": "execute_result"
    }
   ],
   "source": [
    "file_list"
   ]
  },
  {
   "cell_type": "code",
   "execution_count": 7,
   "metadata": {},
   "outputs": [],
   "source": [
    "# get the ones with error bar\n",
    "master_df = []\n",
    "for file_path in file_list:\n",
    "    file_name =  file_path.split('/')[-1]\n",
    "    dataset = file_name.split('_')[0]\n",
    "    model = '_'.join((file_name.split('_')[1:-1]))\n",
    "    file_name = file_path.split('/')[-1]\n",
    "\n",
    "\n",
    "    # epoch_count = file_name.split('_')[-1][:2]\n",
    "    \n",
    "    current_df = pd.read_csv(file_path)\n",
    "    #print(len(current_df))\n",
    "\n",
    "\n",
    "    current_df['id'] = current_df.index \n",
    "    current_df = pd.melt(current_df, id_vars=['id'])\n",
    "    current_df.drop(['id'], inplace=True, axis=1)\n",
    "\n",
    "    current_df['dataset'] = dataset\n",
    "    # print(file_path, model, subject_num)\n",
    "    \n",
    "    current_df['model'] = model  \n",
    "\n",
    "\n",
    "    if len(master_df) == 0:\n",
    "        master_df = current_df\n",
    "    else:\n",
    "        master_df = pd.concat([master_df, current_df])\n",
    "master_df = master_df.rename(columns={\"variable\": \"metric\"}) "
   ]
  },
  {
   "cell_type": "code",
   "execution_count": 8,
   "metadata": {},
   "outputs": [
    {
     "data": {
      "text/plain": [
       "array(['adl', 'capture24', 'oppo', 'pamap', 'realworld', 'rowlands',\n",
       "       'wisdm'], dtype=object)"
      ]
     },
     "execution_count": 8,
     "metadata": {},
     "output_type": "execute_result"
    }
   ],
   "source": [
    "np.unique(master_df['dataset'])"
   ]
  },
  {
   "cell_type": "code",
   "execution_count": 9,
   "metadata": {},
   "outputs": [
    {
     "data": {
      "text/plain": [
       "array(['flip_net_ft_100k_-1', 'flip_net_ft_100k_freeze_-1',\n",
       "       'flip_net_random_mlp_-1', 'hand_crafted_-1'], dtype=object)"
      ]
     },
     "execution_count": 9,
     "metadata": {},
     "output_type": "execute_result"
    }
   ],
   "source": [
    "np.unique(master_df['model'])"
   ]
  },
  {
   "cell_type": "code",
   "execution_count": 10,
   "metadata": {},
   "outputs": [
    {
     "data": {
      "text/html": [
       "<div>\n",
       "<style scoped>\n",
       "    .dataframe tbody tr th:only-of-type {\n",
       "        vertical-align: middle;\n",
       "    }\n",
       "\n",
       "    .dataframe tbody tr th {\n",
       "        vertical-align: top;\n",
       "    }\n",
       "\n",
       "    .dataframe thead th {\n",
       "        text-align: right;\n",
       "    }\n",
       "</style>\n",
       "<table border=\"1\" class=\"dataframe\">\n",
       "  <thead>\n",
       "    <tr style=\"text-align: right;\">\n",
       "      <th></th>\n",
       "      <th>metric</th>\n",
       "      <th>value</th>\n",
       "      <th>dataset</th>\n",
       "      <th>model</th>\n",
       "    </tr>\n",
       "  </thead>\n",
       "  <tbody>\n",
       "    <tr>\n",
       "      <th>0</th>\n",
       "      <td>precision</td>\n",
       "      <td>0.648430</td>\n",
       "      <td>adl</td>\n",
       "      <td>flip_net_ft_100k_freeze_-1</td>\n",
       "    </tr>\n",
       "    <tr>\n",
       "      <th>1</th>\n",
       "      <td>precision</td>\n",
       "      <td>0.457255</td>\n",
       "      <td>adl</td>\n",
       "      <td>flip_net_ft_100k_freeze_-1</td>\n",
       "    </tr>\n",
       "    <tr>\n",
       "      <th>2</th>\n",
       "      <td>precision</td>\n",
       "      <td>0.750000</td>\n",
       "      <td>adl</td>\n",
       "      <td>flip_net_ft_100k_freeze_-1</td>\n",
       "    </tr>\n",
       "    <tr>\n",
       "      <th>3</th>\n",
       "      <td>precision</td>\n",
       "      <td>0.585726</td>\n",
       "      <td>adl</td>\n",
       "      <td>flip_net_ft_100k_freeze_-1</td>\n",
       "    </tr>\n",
       "    <tr>\n",
       "      <th>4</th>\n",
       "      <td>precision</td>\n",
       "      <td>0.646825</td>\n",
       "      <td>adl</td>\n",
       "      <td>flip_net_ft_100k_freeze_-1</td>\n",
       "    </tr>\n",
       "    <tr>\n",
       "      <th>...</th>\n",
       "      <td>...</td>\n",
       "      <td>...</td>\n",
       "      <td>...</td>\n",
       "      <td>...</td>\n",
       "    </tr>\n",
       "    <tr>\n",
       "      <th>23</th>\n",
       "      <td>kappa</td>\n",
       "      <td>0.922246</td>\n",
       "      <td>adl</td>\n",
       "      <td>flip_net_ft_100k_-1</td>\n",
       "    </tr>\n",
       "    <tr>\n",
       "      <th>24</th>\n",
       "      <td>kappa</td>\n",
       "      <td>0.637681</td>\n",
       "      <td>adl</td>\n",
       "      <td>flip_net_ft_100k_-1</td>\n",
       "    </tr>\n",
       "    <tr>\n",
       "      <th>25</th>\n",
       "      <td>kappa</td>\n",
       "      <td>0.935238</td>\n",
       "      <td>adl</td>\n",
       "      <td>flip_net_ft_100k_-1</td>\n",
       "    </tr>\n",
       "    <tr>\n",
       "      <th>26</th>\n",
       "      <td>kappa</td>\n",
       "      <td>0.978468</td>\n",
       "      <td>adl</td>\n",
       "      <td>flip_net_ft_100k_-1</td>\n",
       "    </tr>\n",
       "    <tr>\n",
       "      <th>27</th>\n",
       "      <td>kappa</td>\n",
       "      <td>0.806167</td>\n",
       "      <td>adl</td>\n",
       "      <td>flip_net_ft_100k_-1</td>\n",
       "    </tr>\n",
       "  </tbody>\n",
       "</table>\n",
       "<p>112 rows × 4 columns</p>\n",
       "</div>"
      ],
      "text/plain": [
       "       metric     value dataset                       model\n",
       "0   precision  0.648430     adl  flip_net_ft_100k_freeze_-1\n",
       "1   precision  0.457255     adl  flip_net_ft_100k_freeze_-1\n",
       "2   precision  0.750000     adl  flip_net_ft_100k_freeze_-1\n",
       "3   precision  0.585726     adl  flip_net_ft_100k_freeze_-1\n",
       "4   precision  0.646825     adl  flip_net_ft_100k_freeze_-1\n",
       "..        ...       ...     ...                         ...\n",
       "23      kappa  0.922246     adl         flip_net_ft_100k_-1\n",
       "24      kappa  0.637681     adl         flip_net_ft_100k_-1\n",
       "25      kappa  0.935238     adl         flip_net_ft_100k_-1\n",
       "26      kappa  0.978468     adl         flip_net_ft_100k_-1\n",
       "27      kappa  0.806167     adl         flip_net_ft_100k_-1\n",
       "\n",
       "[112 rows x 4 columns]"
      ]
     },
     "execution_count": 10,
     "metadata": {},
     "output_type": "execute_result"
    }
   ],
   "source": [
    "master_df[master_df['dataset'] == 'adl']"
   ]
  },
  {
   "cell_type": "code",
   "execution_count": 11,
   "metadata": {},
   "outputs": [],
   "source": [
    "master_df = master_df[(master_df['metric'] == 'f1') |  (master_df['metric'] == 'kappa') ]"
   ]
  },
  {
   "cell_type": "code",
   "execution_count": 12,
   "metadata": {},
   "outputs": [],
   "source": [
    "key=['dataset','model', 'metric']\n",
    "ok = master_df.groupby(key).describe()"
   ]
  },
  {
   "cell_type": "code",
   "execution_count": 13,
   "metadata": {},
   "outputs": [],
   "source": [
    "ok = ok.reset_index(['dataset', 'metric' , 'model' ])"
   ]
  },
  {
   "cell_type": "code",
   "execution_count": 14,
   "metadata": {},
   "outputs": [
    {
     "name": "stdout",
     "output_type": "stream",
     "text": [
      "      dataset                       model metric   value                    \\\n",
      "                                                   count  mean   std   min   \n",
      "0         adl         flip_net_ft_100k_-1     f1   7.000 0.829 0.101 0.700   \n",
      "1         adl         flip_net_ft_100k_-1  kappa   7.000 0.849 0.113 0.638   \n",
      "2         adl  flip_net_ft_100k_freeze_-1     f1   7.000 0.645 0.107 0.482   \n",
      "3         adl  flip_net_ft_100k_freeze_-1  kappa   7.000 0.654 0.123 0.440   \n",
      "4         adl      flip_net_random_mlp_-1     f1   7.000 0.414 0.179 0.109   \n",
      "5         adl      flip_net_random_mlp_-1  kappa   7.000 0.368 0.198 0.015   \n",
      "6         adl             hand_crafted_-1     f1   7.000 0.764 0.180 0.538   \n",
      "7         adl             hand_crafted_-1  kappa   7.000 0.720 0.199 0.452   \n",
      "8   capture24         flip_net_ft_100k_-1     f1 155.000 0.726 0.093 0.420   \n",
      "9   capture24         flip_net_ft_100k_-1  kappa 155.000 0.737 0.087 0.434   \n",
      "10  capture24  flip_net_ft_100k_freeze_-1     f1 155.000 0.723 0.097 0.397   \n",
      "11  capture24  flip_net_ft_100k_freeze_-1  kappa 155.000 0.718 0.090 0.392   \n",
      "12  capture24      flip_net_random_mlp_-1     f1 155.000 0.708 0.094 0.382   \n",
      "13  capture24      flip_net_random_mlp_-1  kappa 155.000 0.703 0.092 0.347   \n",
      "14  capture24             hand_crafted_-1     f1 155.000 0.694 0.099 0.387   \n",
      "15  capture24             hand_crafted_-1  kappa 155.000 0.683 0.101 0.355   \n",
      "16       oppo         flip_net_ft_100k_-1     f1   4.000 0.595 0.085 0.475   \n",
      "17       oppo         flip_net_ft_100k_-1  kappa   4.000 0.471 0.104 0.319   \n",
      "18       oppo  flip_net_ft_100k_freeze_-1     f1   4.000 0.570 0.078 0.454   \n",
      "19       oppo  flip_net_ft_100k_freeze_-1  kappa   4.000 0.435 0.092 0.305   \n",
      "20       oppo      flip_net_random_mlp_-1     f1   4.000 0.383 0.124 0.219   \n",
      "21       oppo      flip_net_random_mlp_-1  kappa   4.000 0.238 0.154 0.050   \n",
      "22       oppo             hand_crafted_-1     f1   4.000 0.416 0.185 0.204   \n",
      "23       oppo             hand_crafted_-1  kappa   4.000 0.318 0.206 0.125   \n",
      "24      pamap         flip_net_ft_100k_-1     f1   8.000 0.789 0.054 0.720   \n",
      "25      pamap         flip_net_ft_100k_-1  kappa   8.000 0.769 0.059 0.712   \n",
      "26      pamap  flip_net_ft_100k_freeze_-1     f1   8.000 0.725 0.054 0.630   \n",
      "27      pamap  flip_net_ft_100k_freeze_-1  kappa   8.000 0.717 0.057 0.630   \n",
      "28      pamap      flip_net_random_mlp_-1     f1   8.000 0.605 0.086 0.465   \n",
      "29      pamap      flip_net_random_mlp_-1  kappa   8.000 0.596 0.086 0.458   \n",
      "30      pamap             hand_crafted_-1     f1   8.000 0.753 0.093 0.553   \n",
      "31      pamap             hand_crafted_-1  kappa   8.000 0.744 0.101 0.541   \n",
      "32  realworld         flip_net_ft_100k_-1     f1  15.000 0.792 0.075 0.643   \n",
      "33  realworld         flip_net_ft_100k_-1  kappa  15.000 0.739 0.086 0.581   \n",
      "34  realworld  flip_net_ft_100k_freeze_-1     f1  15.000 0.764 0.052 0.655   \n",
      "35  realworld  flip_net_ft_100k_freeze_-1  kappa  15.000 0.703 0.063 0.558   \n",
      "36  realworld      flip_net_random_mlp_-1     f1  15.000 0.705 0.062 0.563   \n",
      "37  realworld      flip_net_random_mlp_-1  kappa  15.000 0.638 0.079 0.466   \n",
      "38  realworld             hand_crafted_-1     f1  15.000 0.731 0.119 0.541   \n",
      "39  realworld             hand_crafted_-1  kappa  15.000 0.680 0.142 0.453   \n",
      "40   rowlands         flip_net_ft_100k_-1     f1  55.000 0.796 0.093 0.544   \n",
      "41   rowlands         flip_net_ft_100k_-1  kappa  55.000 0.874 0.073 0.674   \n",
      "42   rowlands  flip_net_ft_100k_freeze_-1     f1  55.000 0.724 0.081 0.526   \n",
      "43   rowlands  flip_net_ft_100k_freeze_-1  kappa  55.000 0.850 0.062 0.692   \n",
      "44   rowlands      flip_net_random_mlp_-1     f1  55.000 0.696 0.106 0.466   \n",
      "45   rowlands      flip_net_random_mlp_-1  kappa  55.000 0.810 0.098 0.538   \n",
      "46   rowlands             hand_crafted_-1     f1  55.000 0.700 0.090 0.498   \n",
      "47   rowlands             hand_crafted_-1  kappa  55.000 0.830 0.086 0.610   \n",
      "48      wisdm         flip_net_ft_100k_-1     f1  50.000 0.810 0.127 0.193   \n",
      "49      wisdm         flip_net_ft_100k_-1  kappa  50.000 0.809 0.126 0.203   \n",
      "50      wisdm  flip_net_ft_100k_freeze_-1     f1  50.000 0.759 0.121 0.241   \n",
      "51      wisdm  flip_net_ft_100k_freeze_-1  kappa  50.000 0.758 0.121 0.232   \n",
      "52      wisdm      flip_net_random_mlp_-1     f1  50.000 0.684 0.123 0.186   \n",
      "53      wisdm      flip_net_random_mlp_-1  kappa  50.000 0.685 0.124 0.167   \n",
      "54      wisdm             hand_crafted_-1     f1  50.000 0.711 0.149 0.169   \n",
      "55      wisdm             hand_crafted_-1  kappa  50.000 0.715 0.153 0.123   \n",
      "\n",
      "                            \n",
      "     25%   50%   75%   max  \n",
      "0  0.758 0.809 0.896 0.989  \n",
      "1  0.815 0.840 0.929 0.978  \n",
      "2  0.579 0.654 0.711 0.800  \n",
      "3  0.580 0.717 0.742 0.772  \n",
      "4  0.336 0.399 0.550 0.615  \n",
      "5  0.278 0.420 0.488 0.607  \n",
      "6  0.600 0.832 0.914 0.950  \n",
      "7  0.559 0.736 0.889 0.957  \n",
      "8  0.659 0.741 0.796 0.894  \n",
      "9  0.689 0.738 0.803 0.898  \n",
      "10 0.658 0.735 0.802 0.892  \n",
      "11 0.678 0.729 0.783 0.888  \n",
      "12 0.633 0.716 0.783 0.884  \n",
      "13 0.654 0.720 0.768 0.892  \n",
      "14 0.621 0.704 0.776 0.853  \n",
      "15 0.633 0.685 0.764 0.849  \n",
      "16 0.566 0.617 0.645 0.670  \n",
      "17 0.452 0.505 0.524 0.557  \n",
      "18 0.562 0.605 0.613 0.617  \n",
      "19 0.410 0.458 0.483 0.520  \n",
      "20 0.320 0.413 0.475 0.485  \n",
      "21 0.143 0.266 0.361 0.371  \n",
      "22 0.305 0.416 0.528 0.629  \n",
      "23 0.176 0.279 0.421 0.587  \n",
      "24 0.748 0.786 0.829 0.870  \n",
      "25 0.717 0.763 0.795 0.882  \n",
      "26 0.713 0.741 0.751 0.792  \n",
      "27 0.698 0.726 0.763 0.777  \n",
      "28 0.564 0.604 0.644 0.732  \n",
      "29 0.555 0.592 0.638 0.741  \n",
      "30 0.739 0.792 0.808 0.829  \n",
      "31 0.713 0.795 0.799 0.841  \n",
      "32 0.748 0.807 0.835 0.904  \n",
      "33 0.686 0.747 0.795 0.870  \n",
      "34 0.743 0.767 0.783 0.869  \n",
      "35 0.672 0.707 0.722 0.835  \n",
      "36 0.675 0.705 0.753 0.797  \n",
      "37 0.595 0.640 0.707 0.746  \n",
      "38 0.641 0.712 0.843 0.878  \n",
      "39 0.582 0.692 0.801 0.858  \n",
      "40 0.749 0.796 0.850 0.990  \n",
      "41 0.834 0.874 0.925 0.991  \n",
      "42 0.681 0.722 0.770 0.908  \n",
      "43 0.825 0.855 0.890 0.968  \n",
      "44 0.623 0.680 0.793 0.960  \n",
      "45 0.747 0.826 0.886 0.962  \n",
      "46 0.652 0.692 0.741 0.900  \n",
      "47 0.792 0.839 0.883 0.988  \n",
      "48 0.800 0.845 0.865 0.920  \n",
      "49 0.796 0.842 0.861 0.917  \n",
      "50 0.723 0.789 0.824 0.884  \n",
      "51 0.727 0.787 0.826 0.887  \n",
      "52 0.647 0.708 0.759 0.834  \n",
      "53 0.656 0.713 0.755 0.829  \n",
      "54 0.637 0.729 0.816 0.937  \n",
      "55 0.647 0.738 0.816 0.936  \n"
     ]
    }
   ],
   "source": [
    "with pd.option_context('display.float_format', '{:0.3f}'.format):\n",
    "    print(ok)"
   ]
  },
  {
   "cell_type": "code",
   "execution_count": null,
   "metadata": {},
   "outputs": [],
   "source": [
    "def get_relative_boost(my_df, dataset):\n",
    "    task_df = my_df[my_df.dataset == dataset]\n",
    "    # Uncomment for full experimets \n",
    "    #data_set_order = ['capture24', 'rowlands', 'wisdm', 'realworld', 'oppo', 'pamap', 'adl']\n",
    "    model_order = ['hand_crafted_-1', 'flip_net_random_mlp_-1', 'flip_net_ft_100k_freeze_-1',\n",
    "                  'flip_net_ft_100k_-1']\n",
    "\n",
    "    res_str_f1 = \"\"\n",
    "    res_str_kappa = \"\"\n",
    "\n",
    "    for my_model in model_order:\n",
    "        f1_df = task_df[task_df.metric == 'f1']\n",
    "        kappa_df = task_df[task_df.metric == 'kappa']\n",
    "        \n",
    "        f1_mean= f1_df[f1_df['model'] == my_model].iloc[0].value['mean']\n",
    "        f1_std = f1_df[f1_df['model'] == my_model].iloc[0].value['std']\n",
    "        kappa_mean= kappa_df[kappa_df['model'] == my_model].iloc[0].value['mean']\n",
    "        kappa_std = kappa_df[kappa_df['model'] == my_model].iloc[0].value['std']\n",
    "        \n",
    "        if len(res_str_f1) == 0:\n",
    "            res_str_f1 = r'%.3f $ \\pm $ %.3f' % (f1_mean, f1_std)\n",
    "            res_str_kappa = r'%.3f $ \\pm $ %.3f' % (kappa_mean, kappa_std)\n",
    "        else:\n",
    "            res_str_f1 = res_str_f1 + r' & %.3f $ \\pm $ %.3f' % (f1_mean, f1_std)\n",
    "            res_str_kappa = res_str_kappa  + r' & %.3f $ \\pm $ %.3f' % (kappa_mean, kappa_std)\n",
    "    print(res_str_f1.replace('0.', '.'))\n",
    "    print(res_str_kappa.replace('0.', '.'))\n",
    "    return diff"
   ]
  },
  {
   "cell_type": "code",
   "execution_count": 23,
   "metadata": {},
   "outputs": [],
   "source": [
    "def get_row_str(my_df, dataset):\n",
    "    task_df = my_df[my_df.dataset == dataset]\n",
    "    # Uncomment for full experimets \n",
    "    #data_set_order = ['capture24', 'rowlands', 'wisdm', 'realworld', 'oppo', 'pamap', 'adl']\n",
    "    model_order = ['hand_crafted_-1', 'flip_net_random_mlp_-1', 'flip_net_ft_100k_freeze_-1',\n",
    "                  'flip_net_ft_100k_-1']\n",
    "\n",
    "    res_str_f1 = \"\"\n",
    "    res_str_kappa = \"\"\n",
    "\n",
    "    for my_model in model_order:\n",
    "        f1_df = task_df[task_df.metric == 'f1']\n",
    "        kappa_df = task_df[task_df.metric == 'kappa']\n",
    "        \n",
    "        f1_mean= f1_df[f1_df['model'] == my_model].iloc[0].value['mean']\n",
    "        f1_std = f1_df[f1_df['model'] == my_model].iloc[0].value['std']\n",
    "        kappa_mean= kappa_df[kappa_df['model'] == my_model].iloc[0].value['mean']\n",
    "        kappa_std = kappa_df[kappa_df['model'] == my_model].iloc[0].value['std']\n",
    "        \n",
    "        if len(res_str_f1) == 0:\n",
    "            res_str_f1 = r'%.3f $ \\pm $ %.3f' % (f1_mean, f1_std)\n",
    "            res_str_kappa = r'%.3f $ \\pm $ %.3f' % (kappa_mean, kappa_std)\n",
    "        else:\n",
    "            res_str_f1 = res_str_f1 + r' & %.3f $ \\pm $ %.3f' % (f1_mean, f1_std)\n",
    "            res_str_kappa = res_str_kappa  + r' & %.3f $ \\pm $ %.3f' % (kappa_mean, kappa_std)\n",
    "    print(res_str_f1.replace('0.', '.'))\n",
    "    print(res_str_kappa.replace('0.', '.'))\n",
    "    return diff"
   ]
  },
  {
   "cell_type": "code",
   "execution_count": 16,
   "metadata": {},
   "outputs": [
    {
     "name": "stdout",
     "output_type": "stream",
     "text": [
      ".694 $ \\pm $ .099 & .708 $ \\pm $ .094 & .723 $ \\pm $ .097 & .726 $ \\pm $ .093\n",
      ".683 $ \\pm $ .101 & .703 $ \\pm $ .092 & .718 $ \\pm $ .090 & .737 $ \\pm $ .087\n"
     ]
    }
   ],
   "source": [
    "get_row_str(ok, 'capture24')\n"
   ]
  },
  {
   "cell_type": "code",
   "execution_count": 17,
   "metadata": {},
   "outputs": [
    {
     "name": "stdout",
     "output_type": "stream",
     "text": [
      ".700 $ \\pm $ .090 & .696 $ \\pm $ .106 & .724 $ \\pm $ .081 & .796 $ \\pm $ .093\n",
      ".830 $ \\pm $ .086 & .810 $ \\pm $ .098 & .850 $ \\pm $ .062 & .874 $ \\pm $ .073\n"
     ]
    }
   ],
   "source": [
    "get_row_str(ok, 'rowlands')\n"
   ]
  },
  {
   "cell_type": "code",
   "execution_count": 18,
   "metadata": {},
   "outputs": [
    {
     "name": "stdout",
     "output_type": "stream",
     "text": [
      ".711 $ \\pm $ .149 & .684 $ \\pm $ .123 & .759 $ \\pm $ .121 & .810 $ \\pm $ .127\n",
      ".715 $ \\pm $ .153 & .685 $ \\pm $ .124 & .758 $ \\pm $ .121 & .809 $ \\pm $ .126\n"
     ]
    }
   ],
   "source": [
    "get_row_str(ok, 'wisdm')"
   ]
  },
  {
   "cell_type": "code",
   "execution_count": 19,
   "metadata": {},
   "outputs": [
    {
     "name": "stdout",
     "output_type": "stream",
     "text": [
      ".731 $ \\pm $ .119 & .705 $ \\pm $ .062 & .764 $ \\pm $ .052 & .792 $ \\pm $ .075\n",
      ".680 $ \\pm $ .142 & .638 $ \\pm $ .079 & .703 $ \\pm $ .063 & .739 $ \\pm $ .086\n"
     ]
    }
   ],
   "source": [
    "get_row_str(ok, 'realworld')"
   ]
  },
  {
   "cell_type": "code",
   "execution_count": 20,
   "metadata": {},
   "outputs": [
    {
     "name": "stdout",
     "output_type": "stream",
     "text": [
      ".416 $ \\pm $ .185 & .383 $ \\pm $ .124 & .570 $ \\pm $ .078 & .595 $ \\pm $ .085\n",
      ".318 $ \\pm $ .206 & .238 $ \\pm $ .154 & .435 $ \\pm $ .092 & .471 $ \\pm $ .104\n"
     ]
    }
   ],
   "source": [
    "get_row_str(ok, 'oppo')"
   ]
  },
  {
   "cell_type": "code",
   "execution_count": 21,
   "metadata": {},
   "outputs": [
    {
     "name": "stdout",
     "output_type": "stream",
     "text": [
      ".753 $ \\pm $ .093 & .605 $ \\pm $ .086 & .725 $ \\pm $ .054 & .789 $ \\pm $ .054\n",
      ".744 $ \\pm $ .101 & .596 $ \\pm $ .086 & .717 $ \\pm $ .057 & .769 $ \\pm $ .059\n"
     ]
    }
   ],
   "source": [
    "get_row_str(ok, 'pamap')"
   ]
  },
  {
   "cell_type": "code",
   "execution_count": 22,
   "metadata": {},
   "outputs": [
    {
     "name": "stdout",
     "output_type": "stream",
     "text": [
      ".764 $ \\pm $ .180 & .414 $ \\pm $ .179 & .645 $ \\pm $ .107 & .829 $ \\pm $ .101\n",
      ".720 $ \\pm $ .199 & .368 $ \\pm $ .198 & .654 $ \\pm $ .123 & .849 $ \\pm $ .113\n"
     ]
    }
   ],
   "source": [
    "get_row_str(ok, 'adl')"
   ]
  }
 ],
 "metadata": {
  "kernelspec": {
   "display_name": "Python 3 (ipykernel)",
   "language": "python",
   "name": "python3"
  },
  "language_info": {
   "codemirror_mode": {
    "name": "ipython",
    "version": 3
   },
   "file_extension": ".py",
   "mimetype": "text/x-python",
   "name": "python",
   "nbconvert_exporter": "python",
   "pygments_lexer": "ipython3",
   "version": "3.9.7"
  }
 },
 "nbformat": 4,
 "nbformat_minor": 4
}
