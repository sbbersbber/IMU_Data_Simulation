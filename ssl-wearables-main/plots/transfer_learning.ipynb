{
 "cells": [
  {
   "cell_type": "markdown",
   "id": "56591987-3ae6-495c-908a-ee7514013c38",
   "metadata": {},
   "source": [
    "### Table 5 for transfer learning [done]"
   ]
  },
  {
   "cell_type": "code",
   "execution_count": 1,
   "id": "0b678bbb-2894-42d9-933a-e553630ada30",
   "metadata": {},
   "outputs": [],
   "source": [
    "import numpy as np\n",
    "import pandas as pd\n",
    "import glob"
   ]
  },
  {
   "cell_type": "code",
   "execution_count": 2,
   "id": "968f52ab-447b-4f64-b52d-c80db85a9bac",
   "metadata": {},
   "outputs": [],
   "source": [
    "root_path = '/data/UKBB/SSL/reports/mtl/transfer_learning/capture_24/*'\n",
    "\n",
    "cap_list = glob.glob(root_path)\n",
    "\n",
    "root_path = '/data/UKBB/SSL/reports/mtl/transfer_learning/rowlands/*'\n",
    "row_list = glob.glob(root_path)\n",
    "master_file_list = row_list + cap_list\n",
    "\n",
    "#master_file_list = []\n",
    "#for my_path in exp_list:\n",
    "#    current_list = glob.glob(my_path+'/*csv')\n",
    "#    master_file_list.extend(current_list)\n",
    "\n",
    "\n",
    "root_path = '/data/UKBB/SSL/reports/mtl/transfer_learning/ssl_capture_24/*'\n",
    "\n",
    "cap_list = glob.glob(root_path)\n",
    "\n",
    "root_path = '/data/UKBB/SSL/reports/mtl/transfer_learning/ssl_rowlands/*'\n",
    "row_list = glob.glob(root_path)\n",
    "master_ssl_file_list = row_list + cap_list"
   ]
  },
  {
   "cell_type": "code",
   "execution_count": 3,
   "id": "08515c4c-ead3-4435-bc88-92079e9e6013",
   "metadata": {},
   "outputs": [
    {
     "name": "stdout",
     "output_type": "stream",
     "text": [
      "rowlands_flip_net_ft_rowlands_postR50_500_-1_1.csv\n",
      "oppo_flip_net_ft_rowlands_postR50_500_-1_1.csv\n",
      "pamap_flip_net_ft_rowlands_postR50_500_-1_1.csv\n",
      "capture24_flip_net_ft_rowlands_postR50_500_-1_1.csv\n",
      "realworld_flip_net_ft_rowlands_postR50_500_-1_1.csv\n",
      "adl_flip_net_ft_rowlands_postR50_500_-1_1.csv\n",
      "wisdm_flip_net_ft_rowlands_postR50_500_-1_1.csv\n",
      "capture24_flip_net_ft_cap24_postR50_500_-1_1.csv\n",
      "wisdm_flip_net_ft_cap24_postR50_500_-1_1.csv\n",
      "realworld_flip_net_ft_cap24_postR50_500_-1_1.csv\n",
      "oppo_flip_net_ft_cap24_postR50_500_-1_1.csv\n",
      "adl_flip_net_ft_cap24_postR50_500_-1_1.csv\n",
      "rowlands_flip_net_ft_cap24_postR50_500_-1_1.csv\n",
      "pamap_flip_net_ft_cap24_postR50_500_-1_1.csv\n"
     ]
    }
   ],
   "source": [
    "# get the ones with error bar\n",
    "master_df = []\n",
    "for file_path in master_ssl_file_list:\n",
    "    file_name = file_path.split('/')[-1]\n",
    "    print(file_name)\n",
    "    dataset = file_name.split('_')[0]\n",
    "    \n",
    "    dataset = file_name.split('_')[0]\n",
    "    upstream = file_name.split('_')[4]\n",
    "    \n",
    "    # epoch_count = file_name.split('_')[-1][:2]\n",
    "    \n",
    "    current_df = pd.read_csv(file_path)\n",
    "    \n",
    "    current_df['id'] = current_df.index \n",
    "    current_df = pd.melt(current_df, id_vars=['id'])\n",
    "    current_df.drop(['id'], inplace=True, axis=1)\n",
    "\n",
    "    current_df['dataset'] = dataset\n",
    "    # print(file_path, model, subject_num)\n",
    "    \n",
    "    current_df['upstream'] = upstream  \n",
    "\n",
    "    if len(master_df) == 0:\n",
    "        master_df = current_df\n",
    "    else:\n",
    "        master_df = pd.concat([master_df, current_df])\n",
    "master_df = master_df.rename(columns={\"variable\": \"metric\"}) \n",
    "master_df['label'] = 'unlabelled'\n",
    "ssl_df = master_df"
   ]
  },
  {
   "cell_type": "code",
   "execution_count": 4,
   "id": "dbb405e1-ae9a-4883-9fd3-8d7d1fb5a6c5",
   "metadata": {},
   "outputs": [
    {
     "name": "stdout",
     "output_type": "stream",
     "text": [
      "oppo_flip_net_ft_rowlands_postR50_500_-1_1.csv\n",
      "pamap_flip_net_ft_rowlands_postR50_500_-1_1.csv\n",
      "capture24_flip_net_ft_rowlands_postR50_500_-1_1.csv\n",
      "realworld_flip_net_ft_rowlands_postR50_500_-1_1.csv\n",
      "adl_flip_net_ft_rowlands_postR50_500_-1_1.csv\n",
      "wisdm_flip_net_ft_rowlands_postR50_500_-1_1.csv\n",
      "wisdm_flip_net_ft_cap24_postR50_500_-1_1.csv\n",
      "realworld_flip_net_ft_cap24_postR50_500_-1_1.csv\n",
      "oppo_flip_net_ft_cap24_postR50_500_-1_1.csv\n",
      "adl_flip_net_ft_cap24_postR50_500_-1_1.csv\n",
      "rowlands_flip_net_ft_cap24_postR50_500_-1_1.csv\n",
      "pamap_flip_net_ft_cap24_postR50_500_-1_1.csv\n"
     ]
    }
   ],
   "source": [
    "# get the ones with error bar\n",
    "master_df = []\n",
    "for file_path in master_file_list:\n",
    "    file_name = file_path.split('/')[-1]\n",
    "    print(file_name)\n",
    "    dataset = file_name.split('_')[0]\n",
    "    \n",
    "    dataset = file_name.split('_')[0]\n",
    "    upstream = file_name.split('_')[4]\n",
    "    \n",
    "    # epoch_count = file_name.split('_')[-1][:2]\n",
    "    \n",
    "    current_df = pd.read_csv(file_path)\n",
    "    \n",
    "    current_df['id'] = current_df.index \n",
    "    current_df = pd.melt(current_df, id_vars=['id'])\n",
    "    current_df.drop(['id'], inplace=True, axis=1)\n",
    "\n",
    "    current_df['dataset'] = dataset\n",
    "    # print(file_path, model, subject_num)\n",
    "    \n",
    "    current_df['upstream'] = upstream  \n",
    "\n",
    "    if len(master_df) == 0:\n",
    "        master_df = current_df\n",
    "    else:\n",
    "        master_df = pd.concat([master_df, current_df])\n",
    "master_df = master_df.rename(columns={\"variable\": \"metric\"}) \n",
    "master_df['label'] = 'labelled'"
   ]
  },
  {
   "cell_type": "code",
   "execution_count": 5,
   "id": "717fbc5b-8e9b-4f2d-8331-cdf8331bd8a6",
   "metadata": {},
   "outputs": [],
   "source": [
    "master_df = pd.concat([master_df, ssl_df], ignore_index=True)"
   ]
  },
  {
   "cell_type": "code",
   "execution_count": 6,
   "id": "782d8392-06e1-4754-9611-dda687f4d690",
   "metadata": {},
   "outputs": [],
   "source": [
    "master_df = master_df[['dataset', 'metric', 'value', 'upstream', 'label']]\n",
    "filter_master_df = master_df[(master_df['metric'] == 'f1')]"
   ]
  },
  {
   "cell_type": "code",
   "execution_count": 7,
   "id": "6d8864dd-c5c9-4747-91e5-67dac425972c",
   "metadata": {},
   "outputs": [],
   "source": [
    "key=['dataset', 'metric', 'upstream', 'label']\n",
    "ok = filter_master_df.groupby( key).describe()\n"
   ]
  },
  {
   "cell_type": "code",
   "execution_count": 8,
   "id": "a7bbc76a-fcbb-4abc-8ba1-ad499bdc5f22",
   "metadata": {},
   "outputs": [],
   "source": [
    "ok = ok.reset_index(['dataset', 'metric' , 'upstream', 'label'])"
   ]
  },
  {
   "cell_type": "code",
   "execution_count": 9,
   "id": "182ca8cd-851a-490d-99be-5ddffbc0badb",
   "metadata": {},
   "outputs": [
    {
     "data": {
      "text/html": [
       "<div>\n",
       "<style scoped>\n",
       "    .dataframe tbody tr th:only-of-type {\n",
       "        vertical-align: middle;\n",
       "    }\n",
       "\n",
       "    .dataframe tbody tr th {\n",
       "        vertical-align: top;\n",
       "    }\n",
       "\n",
       "    .dataframe thead tr th {\n",
       "        text-align: left;\n",
       "    }\n",
       "</style>\n",
       "<table border=\"1\" class=\"dataframe\">\n",
       "  <thead>\n",
       "    <tr>\n",
       "      <th></th>\n",
       "      <th>dataset</th>\n",
       "      <th>metric</th>\n",
       "      <th>upstream</th>\n",
       "      <th>label</th>\n",
       "      <th colspan=\"8\" halign=\"left\">value</th>\n",
       "    </tr>\n",
       "    <tr>\n",
       "      <th></th>\n",
       "      <th></th>\n",
       "      <th></th>\n",
       "      <th></th>\n",
       "      <th></th>\n",
       "      <th>count</th>\n",
       "      <th>mean</th>\n",
       "      <th>std</th>\n",
       "      <th>min</th>\n",
       "      <th>25%</th>\n",
       "      <th>50%</th>\n",
       "      <th>75%</th>\n",
       "      <th>max</th>\n",
       "    </tr>\n",
       "  </thead>\n",
       "  <tbody>\n",
       "    <tr>\n",
       "      <th>0</th>\n",
       "      <td>adl</td>\n",
       "      <td>f1</td>\n",
       "      <td>cap24</td>\n",
       "      <td>labelled</td>\n",
       "      <td>7.0</td>\n",
       "      <td>0.767771</td>\n",
       "      <td>0.168770</td>\n",
       "      <td>0.481863</td>\n",
       "      <td>0.689580</td>\n",
       "      <td>0.777638</td>\n",
       "      <td>0.903236</td>\n",
       "      <td>0.929263</td>\n",
       "    </tr>\n",
       "    <tr>\n",
       "      <th>1</th>\n",
       "      <td>adl</td>\n",
       "      <td>f1</td>\n",
       "      <td>cap24</td>\n",
       "      <td>unlabelled</td>\n",
       "      <td>7.0</td>\n",
       "      <td>0.753946</td>\n",
       "      <td>0.158779</td>\n",
       "      <td>0.481863</td>\n",
       "      <td>0.679175</td>\n",
       "      <td>0.777638</td>\n",
       "      <td>0.865776</td>\n",
       "      <td>0.928218</td>\n",
       "    </tr>\n",
       "    <tr>\n",
       "      <th>2</th>\n",
       "      <td>adl</td>\n",
       "      <td>f1</td>\n",
       "      <td>rowlands</td>\n",
       "      <td>labelled</td>\n",
       "      <td>7.0</td>\n",
       "      <td>0.633640</td>\n",
       "      <td>0.182343</td>\n",
       "      <td>0.341429</td>\n",
       "      <td>0.538752</td>\n",
       "      <td>0.660809</td>\n",
       "      <td>0.736118</td>\n",
       "      <td>0.883501</td>\n",
       "    </tr>\n",
       "    <tr>\n",
       "      <th>3</th>\n",
       "      <td>adl</td>\n",
       "      <td>f1</td>\n",
       "      <td>rowlands</td>\n",
       "      <td>unlabelled</td>\n",
       "      <td>7.0</td>\n",
       "      <td>0.701227</td>\n",
       "      <td>0.111053</td>\n",
       "      <td>0.502145</td>\n",
       "      <td>0.664130</td>\n",
       "      <td>0.727421</td>\n",
       "      <td>0.748243</td>\n",
       "      <td>0.854275</td>\n",
       "    </tr>\n",
       "    <tr>\n",
       "      <th>4</th>\n",
       "      <td>capture24</td>\n",
       "      <td>f1</td>\n",
       "      <td>cap24</td>\n",
       "      <td>unlabelled</td>\n",
       "      <td>155.0</td>\n",
       "      <td>0.707283</td>\n",
       "      <td>0.094174</td>\n",
       "      <td>0.390995</td>\n",
       "      <td>0.638034</td>\n",
       "      <td>0.721098</td>\n",
       "      <td>0.781977</td>\n",
       "      <td>0.881117</td>\n",
       "    </tr>\n",
       "  </tbody>\n",
       "</table>\n",
       "</div>"
      ],
      "text/plain": [
       "     dataset metric  upstream       label  value                      \\\n",
       "                                           count      mean       std   \n",
       "0        adl     f1     cap24    labelled    7.0  0.767771  0.168770   \n",
       "1        adl     f1     cap24  unlabelled    7.0  0.753946  0.158779   \n",
       "2        adl     f1  rowlands    labelled    7.0  0.633640  0.182343   \n",
       "3        adl     f1  rowlands  unlabelled    7.0  0.701227  0.111053   \n",
       "4  capture24     f1     cap24  unlabelled  155.0  0.707283  0.094174   \n",
       "\n",
       "                                                     \n",
       "        min       25%       50%       75%       max  \n",
       "0  0.481863  0.689580  0.777638  0.903236  0.929263  \n",
       "1  0.481863  0.679175  0.777638  0.865776  0.928218  \n",
       "2  0.341429  0.538752  0.660809  0.736118  0.883501  \n",
       "3  0.502145  0.664130  0.727421  0.748243  0.854275  \n",
       "4  0.390995  0.638034  0.721098  0.781977  0.881117  "
      ]
     },
     "execution_count": 9,
     "metadata": {},
     "output_type": "execute_result"
    }
   ],
   "source": [
    "ok.head()"
   ]
  },
  {
   "cell_type": "code",
   "execution_count": 10,
   "id": "a0fd8a16-9243-4d1b-bc48-d631f80c5193",
   "metadata": {},
   "outputs": [],
   "source": [
    "def get_row_str(my_df, dataset):\n",
    "    task_df = my_df[my_df.dataset == dataset]\n",
    "    labelled_df = task_df[task_df.label == 'labelled']\n",
    "    unlabelled_df = task_df[task_df.label == 'unlabelled']\n",
    "\n",
    "\n",
    "    row_l_mean= labelled_df[labelled_df['upstream'] == 'rowlands'].iloc[0].value['mean']\n",
    "    row_l_std =labelled_df[labelled_df['upstream'] == 'rowlands'].iloc[0].value['std']\n",
    "  \n",
    "    row_ul_mean = unlabelled_df[unlabelled_df['upstream'] == 'rowlands'].iloc[0].value['mean']\n",
    "    row_ul_std = unlabelled_df[unlabelled_df['upstream'] == 'rowlands'].iloc[0].value['std']\n",
    "    \n",
    "    tmp_row_str = r'%.3f $ \\pm $ %.3f & %.3f $ \\pm $  %.3f' % (row_l_mean, row_l_std,\n",
    "                                                           row_ul_mean, row_ul_std)\n",
    "\n",
    "    cap_l_mean = labelled_df[labelled_df['upstream'] == 'cap24'].iloc[0].value['mean']\n",
    "    cap_l_std = labelled_df[labelled_df['upstream'] == 'cap24'].iloc[0].value['std']\n",
    "    \n",
    "    cap_ul_mean = unlabelled_df[unlabelled_df['upstream'] == 'cap24'].iloc[0].value['mean']\n",
    "    cap_ul_std = unlabelled_df[unlabelled_df['upstream'] == 'cap24'].iloc[0].value['std']\n",
    "    \n",
    "    tmp_cap_str = r'& %.3f $ \\pm $ %.3f & %.3f $ \\pm $  %.3f' % (cap_l_mean, cap_l_std,\n",
    "                                                           cap_ul_mean, cap_ul_std)\n",
    "    \n",
    "    tmp_str = tmp_row_str + tmp_cap_str\n",
    "    print(tmp_str.replace('0.', '.'))"
   ]
  },
  {
   "cell_type": "code",
   "execution_count": 19,
   "id": "a41adc9f-feac-49eb-ae9c-ebf69ec6b2dc",
   "metadata": {},
   "outputs": [
    {
     "data": {
      "text/html": [
       "<div>\n",
       "<style scoped>\n",
       "    .dataframe tbody tr th:only-of-type {\n",
       "        vertical-align: middle;\n",
       "    }\n",
       "\n",
       "    .dataframe tbody tr th {\n",
       "        vertical-align: top;\n",
       "    }\n",
       "\n",
       "    .dataframe thead tr th {\n",
       "        text-align: left;\n",
       "    }\n",
       "</style>\n",
       "<table border=\"1\" class=\"dataframe\">\n",
       "  <thead>\n",
       "    <tr>\n",
       "      <th></th>\n",
       "      <th>dataset</th>\n",
       "      <th>metric</th>\n",
       "      <th>upstream</th>\n",
       "      <th>label</th>\n",
       "      <th colspan=\"8\" halign=\"left\">value</th>\n",
       "    </tr>\n",
       "    <tr>\n",
       "      <th></th>\n",
       "      <th></th>\n",
       "      <th></th>\n",
       "      <th></th>\n",
       "      <th></th>\n",
       "      <th>count</th>\n",
       "      <th>mean</th>\n",
       "      <th>std</th>\n",
       "      <th>min</th>\n",
       "      <th>25%</th>\n",
       "      <th>50%</th>\n",
       "      <th>75%</th>\n",
       "      <th>max</th>\n",
       "    </tr>\n",
       "  </thead>\n",
       "  <tbody>\n",
       "    <tr>\n",
       "      <th>19</th>\n",
       "      <td>rowlands</td>\n",
       "      <td>f1</td>\n",
       "      <td>cap24</td>\n",
       "      <td>labelled</td>\n",
       "      <td>55.0</td>\n",
       "      <td>0.727659</td>\n",
       "      <td>0.093810</td>\n",
       "      <td>0.526700</td>\n",
       "      <td>0.666240</td>\n",
       "      <td>0.738176</td>\n",
       "      <td>0.785918</td>\n",
       "      <td>0.968420</td>\n",
       "    </tr>\n",
       "    <tr>\n",
       "      <th>20</th>\n",
       "      <td>rowlands</td>\n",
       "      <td>f1</td>\n",
       "      <td>cap24</td>\n",
       "      <td>unlabelled</td>\n",
       "      <td>55.0</td>\n",
       "      <td>0.730036</td>\n",
       "      <td>0.084990</td>\n",
       "      <td>0.536595</td>\n",
       "      <td>0.668433</td>\n",
       "      <td>0.738523</td>\n",
       "      <td>0.785816</td>\n",
       "      <td>0.990038</td>\n",
       "    </tr>\n",
       "    <tr>\n",
       "      <th>21</th>\n",
       "      <td>rowlands</td>\n",
       "      <td>f1</td>\n",
       "      <td>rowlands</td>\n",
       "      <td>unlabelled</td>\n",
       "      <td>55.0</td>\n",
       "      <td>0.734214</td>\n",
       "      <td>0.081668</td>\n",
       "      <td>0.572828</td>\n",
       "      <td>0.677593</td>\n",
       "      <td>0.729682</td>\n",
       "      <td>0.792341</td>\n",
       "      <td>0.956406</td>\n",
       "    </tr>\n",
       "  </tbody>\n",
       "</table>\n",
       "</div>"
      ],
      "text/plain": [
       "     dataset metric  upstream       label value                                \\\n",
       "                                          count      mean       std       min   \n",
       "19  rowlands     f1     cap24    labelled  55.0  0.727659  0.093810  0.526700   \n",
       "20  rowlands     f1     cap24  unlabelled  55.0  0.730036  0.084990  0.536595   \n",
       "21  rowlands     f1  rowlands  unlabelled  55.0  0.734214  0.081668  0.572828   \n",
       "\n",
       "                                            \n",
       "         25%       50%       75%       max  \n",
       "19  0.666240  0.738176  0.785918  0.968420  \n",
       "20  0.668433  0.738523  0.785816  0.990038  \n",
       "21  0.677593  0.729682  0.792341  0.956406  "
      ]
     },
     "execution_count": 19,
     "metadata": {},
     "output_type": "execute_result"
    }
   ],
   "source": [
    " ok[ok.dataset == 'rowlands']"
   ]
  },
  {
   "cell_type": "code",
   "execution_count": 18,
   "id": "569db652-b3ad-4056-80ff-b3eabd0b2445",
   "metadata": {},
   "outputs": [
    {
     "data": {
      "text/html": [
       "<div>\n",
       "<style scoped>\n",
       "    .dataframe tbody tr th:only-of-type {\n",
       "        vertical-align: middle;\n",
       "    }\n",
       "\n",
       "    .dataframe tbody tr th {\n",
       "        vertical-align: top;\n",
       "    }\n",
       "\n",
       "    .dataframe thead tr th {\n",
       "        text-align: left;\n",
       "    }\n",
       "</style>\n",
       "<table border=\"1\" class=\"dataframe\">\n",
       "  <thead>\n",
       "    <tr>\n",
       "      <th></th>\n",
       "      <th>dataset</th>\n",
       "      <th>metric</th>\n",
       "      <th>upstream</th>\n",
       "      <th>label</th>\n",
       "      <th colspan=\"8\" halign=\"left\">value</th>\n",
       "    </tr>\n",
       "    <tr>\n",
       "      <th></th>\n",
       "      <th></th>\n",
       "      <th></th>\n",
       "      <th></th>\n",
       "      <th></th>\n",
       "      <th>count</th>\n",
       "      <th>mean</th>\n",
       "      <th>std</th>\n",
       "      <th>min</th>\n",
       "      <th>25%</th>\n",
       "      <th>50%</th>\n",
       "      <th>75%</th>\n",
       "      <th>max</th>\n",
       "    </tr>\n",
       "  </thead>\n",
       "  <tbody>\n",
       "    <tr>\n",
       "      <th>4</th>\n",
       "      <td>capture24</td>\n",
       "      <td>f1</td>\n",
       "      <td>cap24</td>\n",
       "      <td>unlabelled</td>\n",
       "      <td>155.0</td>\n",
       "      <td>0.707283</td>\n",
       "      <td>0.094174</td>\n",
       "      <td>0.390995</td>\n",
       "      <td>0.638034</td>\n",
       "      <td>0.721098</td>\n",
       "      <td>0.781977</td>\n",
       "      <td>0.881117</td>\n",
       "    </tr>\n",
       "    <tr>\n",
       "      <th>5</th>\n",
       "      <td>capture24</td>\n",
       "      <td>f1</td>\n",
       "      <td>rowlands</td>\n",
       "      <td>labelled</td>\n",
       "      <td>155.0</td>\n",
       "      <td>0.704923</td>\n",
       "      <td>0.093211</td>\n",
       "      <td>0.400778</td>\n",
       "      <td>0.636924</td>\n",
       "      <td>0.715834</td>\n",
       "      <td>0.774551</td>\n",
       "      <td>0.896485</td>\n",
       "    </tr>\n",
       "    <tr>\n",
       "      <th>6</th>\n",
       "      <td>capture24</td>\n",
       "      <td>f1</td>\n",
       "      <td>rowlands</td>\n",
       "      <td>unlabelled</td>\n",
       "      <td>155.0</td>\n",
       "      <td>0.709475</td>\n",
       "      <td>0.094057</td>\n",
       "      <td>0.395880</td>\n",
       "      <td>0.630323</td>\n",
       "      <td>0.725761</td>\n",
       "      <td>0.780501</td>\n",
       "      <td>0.893937</td>\n",
       "    </tr>\n",
       "  </tbody>\n",
       "</table>\n",
       "</div>"
      ],
      "text/plain": [
       "     dataset metric  upstream       label  value                      \\\n",
       "                                           count      mean       std   \n",
       "4  capture24     f1     cap24  unlabelled  155.0  0.707283  0.094174   \n",
       "5  capture24     f1  rowlands    labelled  155.0  0.704923  0.093211   \n",
       "6  capture24     f1  rowlands  unlabelled  155.0  0.709475  0.094057   \n",
       "\n",
       "                                                     \n",
       "        min       25%       50%       75%       max  \n",
       "4  0.390995  0.638034  0.721098  0.781977  0.881117  \n",
       "5  0.400778  0.636924  0.715834  0.774551  0.896485  \n",
       "6  0.395880  0.630323  0.725761  0.780501  0.893937  "
      ]
     },
     "execution_count": 18,
     "metadata": {},
     "output_type": "execute_result"
    }
   ],
   "source": [
    " ok[ok.dataset == 'capture24']"
   ]
  },
  {
   "cell_type": "code",
   "execution_count": 13,
   "id": "b45682c4-158d-4e59-a0d6-d35065bd130c",
   "metadata": {},
   "outputs": [
    {
     "name": "stdout",
     "output_type": "stream",
     "text": [
      ".680 $ \\pm $ .109 & .702 $ \\pm $  .123& .715 $ \\pm $ .119 & .723 $ \\pm $  .121\n"
     ]
    }
   ],
   "source": [
    "get_row_str(ok, 'wisdm')"
   ]
  },
  {
   "cell_type": "code",
   "execution_count": 14,
   "id": "06434217-9ea7-4039-9157-fcf69863962d",
   "metadata": {},
   "outputs": [
    {
     "name": "stdout",
     "output_type": "stream",
     "text": [
      ".712 $ \\pm $ .086 & .737 $ \\pm $  .105& .759 $ \\pm $ .070 & .771 $ \\pm $  .061\n"
     ]
    }
   ],
   "source": [
    "get_row_str(ok, 'realworld')"
   ]
  },
  {
   "cell_type": "code",
   "execution_count": 15,
   "id": "fb858495-7b8d-4d1b-be7d-b3c0f90d639b",
   "metadata": {},
   "outputs": [
    {
     "name": "stdout",
     "output_type": "stream",
     "text": [
      ".536 $ \\pm $ .019 & .539 $ \\pm $  .018& .547 $ \\pm $ .043 & .547 $ \\pm $  .042\n"
     ]
    }
   ],
   "source": [
    "get_row_str(ok, 'oppo')"
   ]
  },
  {
   "cell_type": "code",
   "execution_count": 16,
   "id": "ae6ba16c-4bb8-4872-80ad-c4167833f53d",
   "metadata": {},
   "outputs": [
    {
     "name": "stdout",
     "output_type": "stream",
     "text": [
      ".677 $ \\pm $ .082 & .689 $ \\pm $  .078& .678 $ \\pm $ .118 & .725 $ \\pm $  .082\n"
     ]
    }
   ],
   "source": [
    "get_row_str(ok, 'pamap')"
   ]
  },
  {
   "cell_type": "code",
   "execution_count": 17,
   "id": "0d80def9-1c40-4370-ae1d-015760c54af2",
   "metadata": {},
   "outputs": [
    {
     "name": "stdout",
     "output_type": "stream",
     "text": [
      ".634 $ \\pm $ .182 & .701 $ \\pm $  .111& .768 $ \\pm $ .169 & .754 $ \\pm $  .159\n"
     ]
    }
   ],
   "source": [
    "get_row_str(ok, 'adl')"
   ]
  },
  {
   "cell_type": "code",
   "execution_count": null,
   "id": "867fed62-5393-41b3-a601-2164c2880087",
   "metadata": {},
   "outputs": [],
   "source": []
  },
  {
   "cell_type": "code",
   "execution_count": null,
   "id": "c6ccfbd3-943e-4ff7-90cc-434d5229ce0b",
   "metadata": {},
   "outputs": [],
   "source": [
    "root_path = '/data/UKBB/SSL/reports/mtl/transfer_learning/capture_24/*'\n",
    "\n",
    "cap_list = glob.glob(root_path)\n",
    "\n",
    "root_path = '/data/UKBB/SSL/reports/mtl/transfer_learning/rowlands/*'\n",
    "row_list = glob.glob(root_path)\n",
    "master_file_list = row_list + cap_list"
   ]
  },
  {
   "cell_type": "code",
   "execution_count": null,
   "id": "a5e0e8ab-3564-4e7f-bb22-d9b5bb5e6aef",
   "metadata": {},
   "outputs": [],
   "source": []
  }
 ],
 "metadata": {
  "kernelspec": {
   "display_name": "Python 3 (ipykernel)",
   "language": "python",
   "name": "python3"
  },
  "language_info": {
   "codemirror_mode": {
    "name": "ipython",
    "version": 3
   },
   "file_extension": ".py",
   "mimetype": "text/x-python",
   "name": "python",
   "nbconvert_exporter": "python",
   "pygments_lexer": "ipython3",
   "version": "3.9.7"
  }
 },
 "nbformat": 4,
 "nbformat_minor": 5
}
