{
 "cells": [
  {
   "cell_type": "markdown",
   "metadata": {},
   "source": [
    "# Permutation Testing"
   ]
  },
  {
   "cell_type": "code",
   "execution_count": 1,
   "metadata": {},
   "outputs": [],
   "source": [
    "import os\n",
    "from os.path import expanduser\n",
    "home = expanduser(\"~\")\n",
    "\n",
    "import numpy as np\n",
    "import pickle\n",
    "\n",
    "from hydra import initialize, initialize_config_module, initialize_config_dir, compose\n",
    "from omegaconf import OmegaConf\n",
    "\n",
    "import hydra\n",
    "\n",
    "#PyTorch\n",
    "import torch\n",
    "import torch.nn as nn\n",
    "import torch.backends.cudnn as cudnn\n",
    "from torch.utils.data import DataLoader\n",
    "\n",
    "import pathlib\n",
    "from torchsummary import summary\n",
    "import sslearning \n",
    "\n",
    "import captum\n",
    "from captum.attr import visualization as viz\n",
    "from matplotlib.colors import LinearSegmentedColormap\n",
    "import matplotlib.pyplot as plt\n",
    "from captum.attr._utils.attribution import GradientAttribution, LayerAttribution\n",
    "from captum.attr._utils.lrp_rules import EpsilonRule, GammaRule\n",
    "\n",
    "from sslearning.models.accNet import SSLNET, Resnet\n",
    "from sslearning.utils import load_weights_dist2norm, trans30two1\n",
    "from downstream_task_evaluation import load_weights\n",
    "from sslearning.data.data_loader import subject_dataset\n",
    "\n",
    "import gc\n",
    "cuda = torch.cuda.is_available()\n",
    "gc.collect()\n",
    "torch.cuda.empty_cache()\n",
    "cudnn.benchmark = True\n",
    "\n",
    "def set_seed():\n",
    "    # For reproducibility\n",
    "    random_seed = 42\n",
    "    np.random.seed(random_seed)\n",
    "    torch.manual_seed(random_seed)\n",
    "    cudnn.benchmark = True\n",
    "    if cuda:\n",
    "        torch.cuda.manual_seed_all(random_seed)\n",
    "  \n",
    "set_seed()\n",
    "device = torch.device(\"cpu\")\n",
    "\n",
    "import warnings\n",
    "warnings.filterwarnings(\"ignore\", category=DeprecationWarning) "
   ]
  },
  {
   "cell_type": "markdown",
   "metadata": {},
   "source": [
    "# Network Initilisation"
   ]
  },
  {
   "cell_type": "code",
   "execution_count": 2,
   "metadata": {
    "scrolled": true
   },
   "outputs": [
    {
     "name": "stderr",
     "output_type": "stream",
     "text": [
      "/home/scro3203/anaconda3/envs/ssl/lib/python3.9/site-packages/hydra/_internal/defaults_list.py:251: UserWarning: In 'config.yaml': Defaults list is missing `_self_`. See https://hydra.cc/docs/upgrades/1.0_to_1.1/default_composition_order for more information\n",
      "  warnings.warn(msg, UserWarning)\n",
      "/home/scro3203/anaconda3/envs/ssl/lib/python3.9/site-packages/hydra/core/default_element.py:122: UserWarning: In 'dataloader/default': Usage of deprecated keyword in package header '# @package _group_'.\n",
      "See https://hydra.cc/docs/next/upgrades/1.0_to_1.1/changes_to_package_header for more information\n",
      "  deprecation_warning(\n",
      "/home/scro3203/anaconda3/envs/ssl/lib/python3.9/site-packages/hydra/core/default_element.py:122: UserWarning: In 'augmentation/no_aug': Usage of deprecated keyword in package header '# @package _group_'.\n",
      "See https://hydra.cc/docs/next/upgrades/1.0_to_1.1/changes_to_package_header for more information\n",
      "  deprecation_warning(\n",
      "/home/scro3203/anaconda3/envs/ssl/lib/python3.9/site-packages/hydra/core/default_element.py:122: UserWarning: In 'task/all': Usage of deprecated keyword in package header '# @package _group_'.\n",
      "See https://hydra.cc/docs/next/upgrades/1.0_to_1.1/changes_to_package_header for more information\n",
      "  deprecation_warning(\n",
      "/home/scro3203/anaconda3/envs/ssl/lib/python3.9/site-packages/hydra/core/default_element.py:122: UserWarning: In 'data/ukbb_10k': Usage of deprecated keyword in package header '# @package _group_'.\n",
      "See https://hydra.cc/docs/next/upgrades/1.0_to_1.1/changes_to_package_header for more information\n",
      "  deprecation_warning(\n",
      "/home/scro3203/anaconda3/envs/ssl/lib/python3.9/site-packages/hydra/core/default_element.py:122: UserWarning: In 'model/vgg': Usage of deprecated keyword in package header '# @package _group_'.\n",
      "See https://hydra.cc/docs/next/upgrades/1.0_to_1.1/changes_to_package_header for more information\n",
      "  deprecation_warning(\n",
      "/home/scro3203/anaconda3/envs/ssl/lib/python3.9/site-packages/hydra/core/default_element.py:122: UserWarning: In 'task/time_reversal': Usage of deprecated keyword in package header '# @package _group_'.\n",
      "See https://hydra.cc/docs/next/upgrades/1.0_to_1.1/changes_to_package_header for more information\n",
      "  deprecation_warning(\n",
      "/home/scro3203/anaconda3/envs/ssl/lib/python3.9/site-packages/hydra/core/default_element.py:122: UserWarning: In 'model/resnet': Usage of deprecated keyword in package header '# @package _group_'.\n",
      "See https://hydra.cc/docs/next/upgrades/1.0_to_1.1/changes_to_package_header for more information\n",
      "  deprecation_warning(\n"
     ]
    }
   ],
   "source": [
    "config_dir = pathlib.Path('conf/')\n",
    "hydra.initialize(config_path=config_dir)\n",
    "cfg=compose(config_name=\"config.yaml\")\n",
    "cfg=compose(overrides= [\"+model=resnet\", \"+dataloader=default\", \"+task=time_reversal\", \"++task.positive_ratio=0.5\"])\n",
    "cfg.dataloader.epoch_len=10"
   ]
  },
  {
   "cell_type": "code",
   "execution_count": 3,
   "metadata": {},
   "outputs": [
    {
     "name": "stdout",
     "output_type": "stream",
     "text": [
      "{'model': {'learning_rate': 0.0001, 'name': 'mtl_baseline_rotation${task.rotation}_time${task.time_reversal}_data${data.data_name}_lr${model.learning_rate}_resnet_v${model.resnet_version}_win_size${dataloader.epoch_len}_posR_${task.positive_ratio}', 'mixed_precision': False, 'resnet_version': 1, 'warm_up_step': 5, 'lr_scale': False}, 'dataloader': {'num_sample_per_subject': 500, 'sample_rate': 30, 'epoch_len': 10}, 'task': {'rotation': False, 'switch_axis': False, 'time_reversal': True, 'positive_ratio': 0.5}}\n"
     ]
    }
   ],
   "source": [
    "print(cfg)"
   ]
  },
  {
   "cell_type": "code",
   "execution_count": 4,
   "metadata": {},
   "outputs": [
    {
     "data": {
      "text/plain": [
       "Resnet(\n",
       "  (feature_extractor): Sequential(\n",
       "    (layer1): Sequential(\n",
       "      (0): Conv1d(3, 64, kernel_size=(5,), stride=(1,), padding=(2,), bias=False, padding_mode=circular)\n",
       "      (1): ResBlock(\n",
       "        (bn1): BatchNorm1d(64, eps=1e-05, momentum=0.1, affine=True, track_running_stats=True)\n",
       "        (bn2): BatchNorm1d(64, eps=1e-05, momentum=0.1, affine=True, track_running_stats=True)\n",
       "        (conv1): Conv1d(64, 64, kernel_size=(5,), stride=(1,), padding=(2,), bias=False, padding_mode=circular)\n",
       "        (conv2): Conv1d(64, 64, kernel_size=(5,), stride=(1,), padding=(2,), bias=False, padding_mode=circular)\n",
       "        (relu): ReLU(inplace=True)\n",
       "      )\n",
       "      (2): ResBlock(\n",
       "        (bn1): BatchNorm1d(64, eps=1e-05, momentum=0.1, affine=True, track_running_stats=True)\n",
       "        (bn2): BatchNorm1d(64, eps=1e-05, momentum=0.1, affine=True, track_running_stats=True)\n",
       "        (conv1): Conv1d(64, 64, kernel_size=(5,), stride=(1,), padding=(2,), bias=False, padding_mode=circular)\n",
       "        (conv2): Conv1d(64, 64, kernel_size=(5,), stride=(1,), padding=(2,), bias=False, padding_mode=circular)\n",
       "        (relu): ReLU(inplace=True)\n",
       "      )\n",
       "      (3): BatchNorm1d(64, eps=1e-05, momentum=0.1, affine=True, track_running_stats=True)\n",
       "      (4): ReLU(inplace=True)\n",
       "      (5): Downsample()\n",
       "    )\n",
       "    (layer2): Sequential(\n",
       "      (0): Conv1d(64, 128, kernel_size=(5,), stride=(1,), padding=(2,), bias=False, padding_mode=circular)\n",
       "      (1): ResBlock(\n",
       "        (bn1): BatchNorm1d(128, eps=1e-05, momentum=0.1, affine=True, track_running_stats=True)\n",
       "        (bn2): BatchNorm1d(128, eps=1e-05, momentum=0.1, affine=True, track_running_stats=True)\n",
       "        (conv1): Conv1d(128, 128, kernel_size=(5,), stride=(1,), padding=(2,), bias=False, padding_mode=circular)\n",
       "        (conv2): Conv1d(128, 128, kernel_size=(5,), stride=(1,), padding=(2,), bias=False, padding_mode=circular)\n",
       "        (relu): ReLU(inplace=True)\n",
       "      )\n",
       "      (2): ResBlock(\n",
       "        (bn1): BatchNorm1d(128, eps=1e-05, momentum=0.1, affine=True, track_running_stats=True)\n",
       "        (bn2): BatchNorm1d(128, eps=1e-05, momentum=0.1, affine=True, track_running_stats=True)\n",
       "        (conv1): Conv1d(128, 128, kernel_size=(5,), stride=(1,), padding=(2,), bias=False, padding_mode=circular)\n",
       "        (conv2): Conv1d(128, 128, kernel_size=(5,), stride=(1,), padding=(2,), bias=False, padding_mode=circular)\n",
       "        (relu): ReLU(inplace=True)\n",
       "      )\n",
       "      (3): BatchNorm1d(128, eps=1e-05, momentum=0.1, affine=True, track_running_stats=True)\n",
       "      (4): ReLU(inplace=True)\n",
       "      (5): Downsample()\n",
       "    )\n",
       "    (layer3): Sequential(\n",
       "      (0): Conv1d(128, 256, kernel_size=(5,), stride=(1,), padding=(2,), bias=False, padding_mode=circular)\n",
       "      (1): ResBlock(\n",
       "        (bn1): BatchNorm1d(256, eps=1e-05, momentum=0.1, affine=True, track_running_stats=True)\n",
       "        (bn2): BatchNorm1d(256, eps=1e-05, momentum=0.1, affine=True, track_running_stats=True)\n",
       "        (conv1): Conv1d(256, 256, kernel_size=(5,), stride=(1,), padding=(2,), bias=False, padding_mode=circular)\n",
       "        (conv2): Conv1d(256, 256, kernel_size=(5,), stride=(1,), padding=(2,), bias=False, padding_mode=circular)\n",
       "        (relu): ReLU(inplace=True)\n",
       "      )\n",
       "      (2): ResBlock(\n",
       "        (bn1): BatchNorm1d(256, eps=1e-05, momentum=0.1, affine=True, track_running_stats=True)\n",
       "        (bn2): BatchNorm1d(256, eps=1e-05, momentum=0.1, affine=True, track_running_stats=True)\n",
       "        (conv1): Conv1d(256, 256, kernel_size=(5,), stride=(1,), padding=(2,), bias=False, padding_mode=circular)\n",
       "        (conv2): Conv1d(256, 256, kernel_size=(5,), stride=(1,), padding=(2,), bias=False, padding_mode=circular)\n",
       "        (relu): ReLU(inplace=True)\n",
       "      )\n",
       "      (3): BatchNorm1d(256, eps=1e-05, momentum=0.1, affine=True, track_running_stats=True)\n",
       "      (4): ReLU(inplace=True)\n",
       "      (5): Downsample()\n",
       "    )\n",
       "    (layer4): Sequential(\n",
       "      (0): Conv1d(256, 512, kernel_size=(5,), stride=(1,), padding=(2,), bias=False, padding_mode=circular)\n",
       "      (1): ResBlock(\n",
       "        (bn1): BatchNorm1d(512, eps=1e-05, momentum=0.1, affine=True, track_running_stats=True)\n",
       "        (bn2): BatchNorm1d(512, eps=1e-05, momentum=0.1, affine=True, track_running_stats=True)\n",
       "        (conv1): Conv1d(512, 512, kernel_size=(5,), stride=(1,), padding=(2,), bias=False, padding_mode=circular)\n",
       "        (conv2): Conv1d(512, 512, kernel_size=(5,), stride=(1,), padding=(2,), bias=False, padding_mode=circular)\n",
       "        (relu): ReLU(inplace=True)\n",
       "      )\n",
       "      (2): ResBlock(\n",
       "        (bn1): BatchNorm1d(512, eps=1e-05, momentum=0.1, affine=True, track_running_stats=True)\n",
       "        (bn2): BatchNorm1d(512, eps=1e-05, momentum=0.1, affine=True, track_running_stats=True)\n",
       "        (conv1): Conv1d(512, 512, kernel_size=(5,), stride=(1,), padding=(2,), bias=False, padding_mode=circular)\n",
       "        (conv2): Conv1d(512, 512, kernel_size=(5,), stride=(1,), padding=(2,), bias=False, padding_mode=circular)\n",
       "        (relu): ReLU(inplace=True)\n",
       "      )\n",
       "      (3): BatchNorm1d(512, eps=1e-05, momentum=0.1, affine=True, track_running_stats=True)\n",
       "      (4): ReLU(inplace=True)\n",
       "      (5): Downsample()\n",
       "    )\n",
       "    (layer5): Sequential(\n",
       "      (0): Conv1d(512, 1024, kernel_size=(5,), stride=(1,), padding=(2,), bias=False, padding_mode=circular)\n",
       "      (1): BatchNorm1d(1024, eps=1e-05, momentum=0.1, affine=True, track_running_stats=True)\n",
       "      (2): ReLU(inplace=True)\n",
       "      (3): Downsample()\n",
       "    )\n",
       "  )\n",
       "  (classifier): Classifier(\n",
       "    (linear1): Linear(in_features=1024, out_features=2, bias=True)\n",
       "  )\n",
       ")"
      ]
     },
     "execution_count": 4,
     "metadata": {},
     "output_type": "execute_result"
    }
   ],
   "source": [
    "# Uncomment this for Andrew\n",
    "model_name='final_model_10.mdl'\n",
    "model_path = home + '/data/ssl/' + model_name\n",
    "#model_path = '/data/UKBB/final_models/100k_epoch_30.mdl'\n",
    "\n",
    "model = Resnet(output_size=2, cfg=cfg)\n",
    "load_weights_dist2norm(model, model_path)\n",
    "model.eval()"
   ]
  },
  {
   "cell_type": "markdown",
   "metadata": {},
   "source": [
    "## Helper dataset"
   ]
  },
  {
   "cell_type": "code",
   "execution_count": 5,
   "metadata": {},
   "outputs": [
    {
     "name": "stdout",
     "output_type": "stream",
     "text": [
      "{'model': {'learning_rate': 0.0001, 'name': 'mtl_baseline_rotation${task.rotation}_time${task.time_reversal}_data${data.data_name}_lr${model.learning_rate}_resnet_v${model.resnet_version}_win_size${dataloader.epoch_len}_posR_${task.positive_ratio}', 'mixed_precision': False, 'resnet_version': 1, 'warm_up_step': 5, 'lr_scale': False}, 'dataloader': {'num_sample_per_subject': 500, 'sample_rate': 30, 'epoch_len': 10}, 'task': {'rotation': False, 'switch_axis': False, 'time_reversal': True, 'positive_ratio': 0.5}}\n"
     ]
    }
   ],
   "source": [
    "print(cfg)"
   ]
  },
  {
   "cell_type": "code",
   "execution_count": 6,
   "metadata": {},
   "outputs": [
    {
     "data": {
      "text/plain": [
       "'Merge sample data'"
      ]
     },
     "execution_count": 6,
     "metadata": {},
     "output_type": "execute_result"
    }
   ],
   "source": [
    "'''generate reversed data'''\n",
    "#from sslearning.data.data_transformation import flip\n",
    "#X_data_reverse = [flip(x, 1) for x in X_data_forward]\n",
    "#X_data_reverse=np.asarray(X_data_reverse)\n",
    "#Y_reverse=np.ones(X_data_reverse.shape[0]).astype(int)\n",
    "'''Merge sample data'''\n",
    "#X_data=np.vstack((X_data_forward,X_data_reverse))\n",
    "#Y=np.hstack((Y_forward,Y_reverse))"
   ]
  },
  {
   "cell_type": "code",
   "execution_count": 7,
   "metadata": {},
   "outputs": [],
   "source": [
    "#X_data=torch.tensor(X_data, requires_grad=True)\n",
    "#softmax = nn.Softmax(dim=1)\n",
    "## Q: do we need requires grad?\n",
    "#X_data=X_data.to(device, dtype=torch.float)"
   ]
  },
  {
   "cell_type": "code",
   "execution_count": 8,
   "metadata": {},
   "outputs": [],
   "source": [
    "from sslearning.data.datautils import Transform\n",
    "#from sslearning.utils import onehot\n",
    "\n",
    "#Normalise the data between [-1,1]...\n",
    "transform=Transform(transformations=['rescale'], channel_wise=False, limits=[-1, 1])\n",
    "#or...: X_data=[transform(x) for x in X_data]\n",
    "\n",
    "#dataset = Dataset(X_data, Y, transformation=transform, target_transformation=onehot(len(labels)))\n",
    "#data_generator=DataLoader(dataset, batch_size=64, shuffle=False) "
   ]
  },
  {
   "cell_type": "code",
   "execution_count": 9,
   "metadata": {},
   "outputs": [],
   "source": [
    "from interpretability.attribution import Dataset, forward_by_batches\n",
    "\n",
    "# Uncomment this for Andrew\n",
    "sample_path = home + '/data/ssl/sample_subject.npy'\n",
    "#sample_path = '/data/UKBB/SSL/mini_sample/5300274_90001_0_0.npy'\n",
    "\n",
    "labels=['forward', 'reversed']\n",
    "\n",
    "dataset = subject_dataset(sample_path, cfg)\n",
    "data_generator=DataLoader(dataset, batch_size=64, shuffle=False) "
   ]
  },
  {
   "cell_type": "code",
   "execution_count": 10,
   "metadata": {},
   "outputs": [],
   "source": [
    "'''evaluate the model'''\n",
    "## Option 1: Overall\n",
    "'''\n",
    "#Input shape should be: [batchSize x channels x time samples]\n",
    "X_data=torch.tensor(X_data, requires_grad=True)\n",
    "softmax = nn.Softmax(dim=1)\n",
    "## Q: do we need requires grad?\n",
    "X_data=X_data.to(device, dtype=torch.float)\n",
    "logits=model(X_data)\n",
    "prob = softmax(logits).cpu().detach().numpy()\n",
    "Yfit=np.argmax(prob, axis=1).astype(int)\n",
    "#return to numpy\n",
    "X_data=X_data.cpu().detach().numpy()\n",
    "'''\n",
    "\n",
    "## Option 2: iterate over batches\n",
    "Y, Yfit, _, prob=forward_by_batches(model, data_generator, device=device)\n"
   ]
  },
  {
   "cell_type": "code",
   "execution_count": 11,
   "metadata": {},
   "outputs": [
    {
     "name": "stdout",
     "output_type": "stream",
     "text": [
      "Accuracy score: 0.979\n",
      "Balanced accuracy score: 0.9790000000000001\n",
      "Cohen kappa score: 0.958\n",
      "\n",
      "Per-class recall scores:\n",
      "sleep      : 0.9906666666666667\n",
      "awake   : 0.9673333333333334\n",
      "\n",
      "Confusion matrix:\n",
      " [[1486   14]\n",
      " [  49 1451]]\n"
     ]
    }
   ],
   "source": [
    "import sklearn.metrics as metrics\n",
    "from sslearning.utils import compute_scores, print_scores, get_one_hot\n",
    "\n",
    "print_scores(compute_scores(Y, Yfit))\n",
    "#auroc=metrics.roc_auc_score(get_one_hot(Y,  prob.shape[1]), prob, average='macro', multi_class='ovr')\n",
    "\n",
    "#print('AUROC', auroc)"
   ]
  },
  {
   "cell_type": "code",
   "execution_count": 12,
   "metadata": {},
   "outputs": [
    {
     "name": "stdout",
     "output_type": "stream",
     "text": [
      "Total # exemplary examples: 2838 (94.60%)\n",
      "Total # exemplary (forward) examples: 1441\n",
      "Total # exemplary (reverse) examples: 1397\n",
      "Total # exemplary (matched) examples: 1392 (92.80%)\n"
     ]
    }
   ],
   "source": [
    "'''determine exemplary samples'''\n",
    "#1. predicted correctly for forward and reversed samples\n",
    "#2. high posterior probabilty for each prediction (>threshold)\n",
    "\n",
    "X_data=dataset.X.cpu().detach().numpy()\n",
    "\n",
    "threshold=0.85\n",
    "\n",
    "all_mask=(Y==Yfit) & (np.max(prob, axis=1)>threshold)\n",
    "print('Total # exemplary examples: {:} ({:.2f}%)'.format(all_mask.sum(), 100*all_mask.sum()/len(all_mask)))\n",
    "\n",
    "fwd_idx=np.arange(0, len(X_data), 2)\n",
    "rev_idx=np.arange(1, len(X_data), 2)\n",
    "\n",
    "X_fwd=X_data[fwd_idx]\n",
    "X_rev=X_data[rev_idx]\n",
    "\n",
    "Y_fwd=Y[fwd_idx]\n",
    "Y_rev=Y[rev_idx]\n",
    "\n",
    "fwd_mask=(Y[fwd_idx]==Yfit[fwd_idx]) & (np.max(prob[fwd_idx], axis=1)>threshold)\n",
    "rev_mask=(Y[rev_idx]==Yfit[rev_idx]) & (np.max(prob[rev_idx], axis=1)>threshold)\n",
    "\n",
    "print('Total # exemplary (forward) examples:', fwd_mask.sum())\n",
    "print('Total # exemplary (reverse) examples:', rev_mask.sum())\n",
    "\n",
    "mask=(fwd_mask==True) & (rev_mask==True)\n",
    "\n",
    "print('Total # exemplary (matched) examples: {:} ({:.2f}%)'.format(mask.sum(), 100*mask.sum()/len(mask)))\n",
    "\n",
    "indexs=np.where(mask)[0]"
   ]
  },
  {
   "cell_type": "markdown",
   "metadata": {},
   "source": [
    "# Permutation Analysis"
   ]
  },
  {
   "cell_type": "code",
   "execution_count": 13,
   "metadata": {},
   "outputs": [],
   "source": [
    "from interpretability.permutation import Dataset, permutation_analysis, PermutationMask\n",
    "from sslearning.utils import onehot\n",
    "from pathlib import Path \n",
    "\n",
    "\n",
    "PERM_SAVE_PATH=home + '/data/ssl/perm/new_analysis/'\n",
    "\n",
    "#Python ≥ 3.5, see: https://stackoverflow.com/questions/273192/how-can-i-safely-create-a-nested-directory\n",
    "Path(PERM_SAVE_PATH).mkdir(parents=True, exist_ok=True) \n",
    "\n",
    "\n",
    "#Normalise the data between [-1,1]...\n",
    "transform=Transform(transformations=['rescale'], channel_wise=False, limits=[-1, 1])\n",
    "#or...: X_data=[transform(x) for x in X_data]\n",
    "\n",
    "X_perm=np.vstack((X_fwd[indexs],(X_rev[indexs])))\n",
    "Y_perm=np.hstack((Y[fwd_idx][indexs],(Y[rev_idx][indexs])))\n",
    "\n",
    "#X_perm=X_fwd[indexs]\n",
    "#Y_perm=Y[fwd_idx][indexs]\n",
    "\n",
    "X_perm=np.vstack((X_fwd[indexs],(X_rev[indexs])))\n",
    "Y_perm=np.hstack((Y[fwd_idx][indexs],(Y[rev_idx][indexs])))\n",
    "\n",
    "perm_dataset = Dataset(X_perm, Y_perm, target_transformation=onehot(len(labels)))\n",
    "#make new generator and shuffle the labels\n",
    "perm_data_generator=DataLoader(perm_dataset, batch_size=64, shuffle=True) \n"
   ]
  },
  {
   "cell_type": "code",
   "execution_count": 14,
   "metadata": {},
   "outputs": [],
   "source": [
    "'''set permutation analysis parameters'''\n",
    "parameters={'sample_step': 25, 'sample_range_pc': 1, 'verbose': 1}"
   ]
  },
  {
   "cell_type": "markdown",
   "metadata": {},
   "source": [
    "## 1. Random Permutation"
   ]
  },
  {
   "cell_type": "code",
   "execution_count": 15,
   "metadata": {},
   "outputs": [
    {
     "data": {
      "text/plain": [
       "\"\\nperm_random=permutation_analysis(model, perm_data_generator, [], mask=PermutationMask('noise'), random=True,  sample_range_pc=parameters['sample_range_pc'], sample_step=parameters['sample_step'], verbose=parameters['verbose'])\\nperm_random={**perm_random}\\n\\nprint('Saving permutation results to: {}'.format(PERM_SAVE_PATH + 'perm_random4.pckl'))\\nwith open(PERM_SAVE_PATH + 'perm_random4.pckl', 'wb') as tfile:\\n        pickle.dump(perm_random, tfile, pickle.HIGHEST_PROTOCOL)\\n\""
      ]
     },
     "execution_count": 15,
     "metadata": {},
     "output_type": "execute_result"
    }
   ],
   "source": [
    "'''\n",
    "perm_random=permutation_analysis(model, perm_data_generator, [], mask=PermutationMask('noise'), random=True,  sample_range_pc=parameters['sample_range_pc'], sample_step=parameters['sample_step'], verbose=parameters['verbose'])\n",
    "perm_random={**perm_random}\n",
    "\n",
    "print('Saving permutation results to: {}'.format(PERM_SAVE_PATH + 'perm_random4.pckl'))\n",
    "with open(PERM_SAVE_PATH + 'perm_random4.pckl', 'wb') as tfile:\n",
    "        pickle.dump(perm_random, tfile, pickle.HIGHEST_PROTOCOL)\n",
    "'''"
   ]
  },
  {
   "cell_type": "markdown",
   "metadata": {},
   "source": [
    "## 2. LRP-e rule"
   ]
  },
  {
   "cell_type": "code",
   "execution_count": 16,
   "metadata": {},
   "outputs": [
    {
     "data": {
      "text/plain": [
       "\"\\nfrom captum.attr import LRP\\nfrom interpretability import attribution as attr\\nfrom interpretability.lrp_models import LRPEpsilonSSL,  _print_lrp_rules\\n\\nlrp = LRP(model)\\n#apply epsilon rule to the model\\nlrp_rule=LRPEpsilonSSL(verbose=False)\\nmodel, _=lrp_rule(model)\\n_print_lrp_rules(model)\\n\\nanalysis_model_param={}\\nanalysis_model={'algorithm': lrp, 'lrp_rule': lrp_rule, 'parameters': analysis_model_param}\\n\\nperm_lrpe=permutation_analysis(model, perm_data_generator, analysis_model, mask=PermutationMask('noise'), sample_range_pc=parameters['sample_range_pc'], sample_step=parameters['sample_step'], verbose=parameters['verbose'])\\n\\nperm_lrpe={**perm_lrpe, **analysis_model_param}\\n\\nprint('Saving permutation results to: {}'.format(PERM_SAVE_PATH + 'perm_lrpe.pckl'))\\nwith open(PERM_SAVE_PATH + 'perm_lrpe.pckl', 'wb') as tfile:\\n        pickle.dump(perm_lrpe, tfile, pickle.HIGHEST_PROTOCOL)\\n\""
      ]
     },
     "execution_count": 16,
     "metadata": {},
     "output_type": "execute_result"
    }
   ],
   "source": [
    "'''\n",
    "from captum.attr import LRP\n",
    "from interpretability import attribution as attr\n",
    "from interpretability.lrp_models import LRPEpsilonSSL,  _print_lrp_rules\n",
    "\n",
    "lrp = LRP(model)\n",
    "#apply epsilon rule to the model\n",
    "lrp_rule=LRPEpsilonSSL(verbose=False)\n",
    "model, _=lrp_rule(model)\n",
    "_print_lrp_rules(model)\n",
    "\n",
    "analysis_model_param={}\n",
    "analysis_model={'algorithm': lrp, 'lrp_rule': lrp_rule, 'parameters': analysis_model_param}\n",
    "\n",
    "perm_lrpe=permutation_analysis(model, perm_data_generator, analysis_model, mask=PermutationMask('noise'), sample_range_pc=parameters['sample_range_pc'], sample_step=parameters['sample_step'], verbose=parameters['verbose'])\n",
    "\n",
    "perm_lrpe={**perm_lrpe, **analysis_model_param}\n",
    "\n",
    "print('Saving permutation results to: {}'.format(PERM_SAVE_PATH + 'perm_lrpe.pckl'))\n",
    "with open(PERM_SAVE_PATH + 'perm_lrpe.pckl', 'wb') as tfile:\n",
    "        pickle.dump(perm_lrpe, tfile, pickle.HIGHEST_PROTOCOL)\n",
    "'''"
   ]
  },
  {
   "cell_type": "markdown",
   "metadata": {},
   "source": [
    "## 3. LRP-0 rule"
   ]
  },
  {
   "cell_type": "code",
   "execution_count": 17,
   "metadata": {},
   "outputs": [
    {
     "data": {
      "text/plain": [
       "\"\\nfrom captum.attr import LRP\\nfrom interpretability import attribution as attr\\nfrom interpretability.lrp_models import LRPEpsilonSSL\\n\\nlrp = LRP(model)\\n#apply epsilon rule to the model\\nlrp_rule=LRPEpsilonSSL(verbose=False, epsilon=0)\\n#apply composite rule to the model\\nmodel, _=lrp_rule(model)\\n\\nanalysis_model_param={}\\nanalysis_model={'algorithm': lrp, 'lrp_rule': lrp_rule, 'parameters': analysis_model_param}\\n\\nperm_lrp0=permutation_analysis(model, perm_data_generator, analysis_model, mask=PermutationMask('noise'), sample_range_pc=parameters['sample_range_pc'], sample_step=parameters['sample_step'], verbose=parameters['verbose'])\\n\\nperm_lrp0={**perm_lrp0, **analysis_model_param}\\n\\nprint('Saving permutation results to: {}'.format(PERM_SAVE_PATH + 'perm_lrp0.pckl'))\\nwith open(PERM_SAVE_PATH + 'perm_lrp0.pckl', 'wb') as tfile:\\n        pickle.dump(perm_lrp0, tfile, pickle.HIGHEST_PROTOCOL)\\n\""
      ]
     },
     "execution_count": 17,
     "metadata": {},
     "output_type": "execute_result"
    }
   ],
   "source": [
    "'''\n",
    "from captum.attr import LRP\n",
    "from interpretability import attribution as attr\n",
    "from interpretability.lrp_models import LRPEpsilonSSL\n",
    "\n",
    "lrp = LRP(model)\n",
    "#apply epsilon rule to the model\n",
    "lrp_rule=LRPEpsilonSSL(verbose=False, epsilon=0)\n",
    "#apply composite rule to the model\n",
    "model, _=lrp_rule(model)\n",
    "\n",
    "analysis_model_param={}\n",
    "analysis_model={'algorithm': lrp, 'lrp_rule': lrp_rule, 'parameters': analysis_model_param}\n",
    "\n",
    "perm_lrp0=permutation_analysis(model, perm_data_generator, analysis_model, mask=PermutationMask('noise'), sample_range_pc=parameters['sample_range_pc'], sample_step=parameters['sample_step'], verbose=parameters['verbose'])\n",
    "\n",
    "perm_lrp0={**perm_lrp0, **analysis_model_param}\n",
    "\n",
    "print('Saving permutation results to: {}'.format(PERM_SAVE_PATH + 'perm_lrp0.pckl'))\n",
    "with open(PERM_SAVE_PATH + 'perm_lrp0.pckl', 'wb') as tfile:\n",
    "        pickle.dump(perm_lrp0, tfile, pickle.HIGHEST_PROTOCOL)\n",
    "'''"
   ]
  },
  {
   "cell_type": "markdown",
   "metadata": {},
   "source": [
    "## 4. LRP-Alpha1Beta0 rule"
   ]
  },
  {
   "cell_type": "code",
   "execution_count": 18,
   "metadata": {},
   "outputs": [
    {
     "data": {
      "text/plain": [
       "\"\\nfrom captum.attr import LRP\\nfrom interpretability import attribution as attr\\nfrom interpretability.lrp_models import LRPEpsilonSSL, LRPEpsilon0SSL, LRPAlpha1Beta0SSL, LRPEpsilonBenchmark, _print_lrp_rules\\n\\nlrp = LRP(model)\\n#apply Alpha1Beta0 rule to the model\\nlrp_rule=LRPAlpha1Beta0SSL(verbose=False)\\n\\nanalysis_model_param={}\\nanalysis_model={'algorithm': lrp, 'lrp_rule': lrp_rule, 'parameters': analysis_model_param}\\n\\nperm_lrpAB=permutation_analysis(model, perm_data_generator, analysis_model, mask=PermutationMask('noise'), sample_range_pc=parameters['sample_range_pc'], sample_step=parameters['sample_step'], verbose=parameters['verbose'])\\n\\nperm_lrpAB={**perm_lrpAB, **analysis_model_param}\\n\\nprint('Saving permutation results to: {}'.format(PERM_SAVE_PATH + 'perm_lrpAB.pckl'))\\nwith open(PERM_SAVE_PATH + 'perm_lrpAB.pckl', 'wb') as tfile:\\n        pickle.dump(perm_lrpAB, tfile, pickle.HIGHEST_PROTOCOL)\\n\""
      ]
     },
     "execution_count": 18,
     "metadata": {},
     "output_type": "execute_result"
    }
   ],
   "source": [
    "'''\n",
    "from captum.attr import LRP\n",
    "from interpretability import attribution as attr\n",
    "from interpretability.lrp_models import LRPEpsilonSSL, LRPEpsilon0SSL, LRPAlpha1Beta0SSL, LRPEpsilonBenchmark, _print_lrp_rules\n",
    "\n",
    "lrp = LRP(model)\n",
    "#apply Alpha1Beta0 rule to the model\n",
    "lrp_rule=LRPAlpha1Beta0SSL(verbose=False)\n",
    "\n",
    "analysis_model_param={}\n",
    "analysis_model={'algorithm': lrp, 'lrp_rule': lrp_rule, 'parameters': analysis_model_param}\n",
    "\n",
    "perm_lrpAB=permutation_analysis(model, perm_data_generator, analysis_model, mask=PermutationMask('noise'), sample_range_pc=parameters['sample_range_pc'], sample_step=parameters['sample_step'], verbose=parameters['verbose'])\n",
    "\n",
    "perm_lrpAB={**perm_lrpAB, **analysis_model_param}\n",
    "\n",
    "print('Saving permutation results to: {}'.format(PERM_SAVE_PATH + 'perm_lrpAB.pckl'))\n",
    "with open(PERM_SAVE_PATH + 'perm_lrpAB.pckl', 'wb') as tfile:\n",
    "        pickle.dump(perm_lrpAB, tfile, pickle.HIGHEST_PROTOCOL)\n",
    "'''"
   ]
  },
  {
   "cell_type": "markdown",
   "metadata": {},
   "source": [
    "## 5. LRP-CMP (composite) rule"
   ]
  },
  {
   "cell_type": "code",
   "execution_count": 19,
   "metadata": {},
   "outputs": [
    {
     "data": {
      "text/plain": [
       "\"\\nfrom captum.attr import LRP\\nfrom interpretability import attribution as attr\\nfrom interpretability.lrp_models import LRPEpsilonSSL, LRPCompositeSSL, LRPEpsilon0SSL, LRPAlpha1Beta0SSL, LRPEpsilonBenchmark, _print_lrp_rules\\n\\nlrp = LRP(model)\\n#apply epsilon rule to the model\\nlrp_rule=LRPCompositeSSL(verbose=False)\\n\\nanalysis_model_param={}\\nanalysis_model={'algorithm': lrp, 'lrp_rule': lrp_rule, 'parameters': analysis_model_param}\\n\\nperm_lrp_cmp=permutation_analysis(model, perm_data_generator, analysis_model, mask=PermutationMask('noise'),sample_range_pc=parameters['sample_range_pc'], sample_step=parameters['sample_step'], verbose=parameters['verbose'])\\n\\nperm_lrp_cmp={**perm_lrp_cmp, **analysis_model_param}\\n\\nprint('Saving permutation results to: {}'.format(PERM_SAVE_PATH + 'perm_lrp_cmp.pckl'))\\nwith open(PERM_SAVE_PATH + 'perm_lrp_cmp.pckl', 'wb') as tfile:\\n        pickle.dump(perm_lrp_cmp, tfile, pickle.HIGHEST_PROTOCOL)\\n\""
      ]
     },
     "execution_count": 19,
     "metadata": {},
     "output_type": "execute_result"
    }
   ],
   "source": [
    "'''\n",
    "from captum.attr import LRP\n",
    "from interpretability import attribution as attr\n",
    "from interpretability.lrp_models import LRPEpsilonSSL, LRPCompositeSSL, LRPEpsilon0SSL, LRPAlpha1Beta0SSL, LRPEpsilonBenchmark, _print_lrp_rules\n",
    "\n",
    "lrp = LRP(model)\n",
    "#apply epsilon rule to the model\n",
    "lrp_rule=LRPCompositeSSL(verbose=False)\n",
    "\n",
    "analysis_model_param={}\n",
    "analysis_model={'algorithm': lrp, 'lrp_rule': lrp_rule, 'parameters': analysis_model_param}\n",
    "\n",
    "perm_lrp_cmp=permutation_analysis(model, perm_data_generator, analysis_model, mask=PermutationMask('noise'),sample_range_pc=parameters['sample_range_pc'], sample_step=parameters['sample_step'], verbose=parameters['verbose'])\n",
    "\n",
    "perm_lrp_cmp={**perm_lrp_cmp, **analysis_model_param}\n",
    "\n",
    "print('Saving permutation results to: {}'.format(PERM_SAVE_PATH + 'perm_lrp_cmp.pckl'))\n",
    "with open(PERM_SAVE_PATH + 'perm_lrp_cmp.pckl', 'wb') as tfile:\n",
    "        pickle.dump(perm_lrp_cmp, tfile, pickle.HIGHEST_PROTOCOL)\n",
    "'''"
   ]
  },
  {
   "cell_type": "markdown",
   "metadata": {},
   "source": [
    "## 6. Input X Gradient"
   ]
  },
  {
   "cell_type": "code",
   "execution_count": 20,
   "metadata": {},
   "outputs": [
    {
     "data": {
      "text/plain": [
       "\"\\nfrom captum.attr import InputXGradient\\ninput_x_gradient = InputXGradient(model)\\nanalysis_model_param={}\\nanalysis_model={'algorithm': input_x_gradient, 'parameters': analysis_model_param}\\nperm_ixg=permutation_analysis(model, perm_data_generator, analysis_model, mask=PermutationMask('noise'),sample_range_pc=parameters['sample_range_pc'], sample_step=parameters['sample_step'], verbose=parameters['verbose'])\\n#save the values\\nperm_ixg={**perm_ixg, **analysis_model_param}\\nprint('Saving permutation results to: {}'.format(PERM_SAVE_PATH + 'perm_ixg.pckl'))\\nwith open(PERM_SAVE_PATH + 'perm_ixg.pckl', 'wb') as tfile:\\n        pickle.dump(perm_ixg, tfile, pickle.HIGHEST_PROTOCOL)\\n\""
      ]
     },
     "execution_count": 20,
     "metadata": {},
     "output_type": "execute_result"
    }
   ],
   "source": [
    "'''\n",
    "from captum.attr import InputXGradient\n",
    "input_x_gradient = InputXGradient(model)\n",
    "analysis_model_param={}\n",
    "analysis_model={'algorithm': input_x_gradient, 'parameters': analysis_model_param}\n",
    "perm_ixg=permutation_analysis(model, perm_data_generator, analysis_model, mask=PermutationMask('noise'),sample_range_pc=parameters['sample_range_pc'], sample_step=parameters['sample_step'], verbose=parameters['verbose'])\n",
    "#save the values\n",
    "perm_ixg={**perm_ixg, **analysis_model_param}\n",
    "print('Saving permutation results to: {}'.format(PERM_SAVE_PATH + 'perm_ixg.pckl'))\n",
    "with open(PERM_SAVE_PATH + 'perm_ixg.pckl', 'wb') as tfile:\n",
    "        pickle.dump(perm_ixg, tfile, pickle.HIGHEST_PROTOCOL)\n",
    "'''"
   ]
  },
  {
   "cell_type": "markdown",
   "metadata": {},
   "source": [
    "## 7. Saliency "
   ]
  },
  {
   "cell_type": "code",
   "execution_count": 21,
   "metadata": {},
   "outputs": [
    {
     "data": {
      "text/plain": [
       "\"\\nfrom captum.attr import Saliency\\nsaliency=Saliency(model)\\nanalysis_model_param={}\\nanalysis_model={'algorithm': saliency, 'parameters': analysis_model_param}\\nperm_sal=permutation_analysis(model, perm_data_generator, analysis_model, mask=PermutationMask('noise'), sample_range_pc=parameters['sample_range_pc'], sample_step=parameters['sample_step'], verbose=parameters['verbose'])\\n#save the values\\nperm_sal={**perm_sal, **analysis_model_param}\\nprint('Saving permutation results to: {}'.format(PERM_SAVE_PATH + 'perm_sal.pckl'))\\nwith open(PERM_SAVE_PATH + 'perm_sal.pckl', 'wb') as tfile:\\n        pickle.dump(perm_sal, tfile, pickle.HIGHEST_PROTOCOL)\\n\""
      ]
     },
     "execution_count": 21,
     "metadata": {},
     "output_type": "execute_result"
    }
   ],
   "source": [
    "'''\n",
    "from captum.attr import Saliency\n",
    "saliency=Saliency(model)\n",
    "analysis_model_param={}\n",
    "analysis_model={'algorithm': saliency, 'parameters': analysis_model_param}\n",
    "perm_sal=permutation_analysis(model, perm_data_generator, analysis_model, mask=PermutationMask('noise'), sample_range_pc=parameters['sample_range_pc'], sample_step=parameters['sample_step'], verbose=parameters['verbose'])\n",
    "#save the values\n",
    "perm_sal={**perm_sal, **analysis_model_param}\n",
    "print('Saving permutation results to: {}'.format(PERM_SAVE_PATH + 'perm_sal.pckl'))\n",
    "with open(PERM_SAVE_PATH + 'perm_sal.pckl', 'wb') as tfile:\n",
    "        pickle.dump(perm_sal, tfile, pickle.HIGHEST_PROTOCOL)\n",
    "'''"
   ]
  },
  {
   "cell_type": "markdown",
   "metadata": {},
   "source": [
    "## 8. Guided BackPropogation"
   ]
  },
  {
   "cell_type": "code",
   "execution_count": 22,
   "metadata": {},
   "outputs": [
    {
     "data": {
      "text/plain": [
       "\"\\nfrom captum.attr import GuidedBackprop\\ngbp = GuidedBackprop(model)\\nanalysis_model_param={}\\nanalysis_model={'algorithm': gbp, 'parameters': analysis_model_param}\\nperm_gbp=permutation_analysis(model, perm_data_generator, analysis_model, mask=PermutationMask('noise'),  sample_range_pc=parameters['sample_range_pc'], sample_step=parameters['sample_step'], verbose=parameters['verbose'])\\n#save the values\\nperm_gbp={**perm_gbp, **analysis_model_param}\\nprint('Saving permutation results to: {}'.format(PERM_SAVE_PATH + 'perm_gbp.pckl'))\\nwith open(PERM_SAVE_PATH + 'perm_gbp.pckl', 'wb') as tfile:\\n        pickle.dump(perm_gbp, tfile, pickle.HIGHEST_PROTOCOL)\\n\""
      ]
     },
     "execution_count": 22,
     "metadata": {},
     "output_type": "execute_result"
    }
   ],
   "source": [
    "'''\n",
    "from captum.attr import GuidedBackprop\n",
    "gbp = GuidedBackprop(model)\n",
    "analysis_model_param={}\n",
    "analysis_model={'algorithm': gbp, 'parameters': analysis_model_param}\n",
    "perm_gbp=permutation_analysis(model, perm_data_generator, analysis_model, mask=PermutationMask('noise'),  sample_range_pc=parameters['sample_range_pc'], sample_step=parameters['sample_step'], verbose=parameters['verbose'])\n",
    "#save the values\n",
    "perm_gbp={**perm_gbp, **analysis_model_param}\n",
    "print('Saving permutation results to: {}'.format(PERM_SAVE_PATH + 'perm_gbp.pckl'))\n",
    "with open(PERM_SAVE_PATH + 'perm_gbp.pckl', 'wb') as tfile:\n",
    "        pickle.dump(perm_gbp, tfile, pickle.HIGHEST_PROTOCOL)\n",
    "'''"
   ]
  },
  {
   "cell_type": "markdown",
   "metadata": {},
   "source": [
    "## 9. Integrated Gradients"
   ]
  },
  {
   "cell_type": "code",
   "execution_count": 23,
   "metadata": {},
   "outputs": [
    {
     "data": {
      "text/plain": [
       "\"\\nfrom captum.attr import IntegratedGradients\\nig = IntegratedGradients(model)\\n\\nanalysis_model_param={'return_convergence_delta':False,'internal_batch_size':1, 'n_steps':100}\\nanalysis_model={'algorithm': ig, 'parameters': analysis_model_param}\\nperm_ig=permutation_analysis(model, perm_data_generator, analysis_model, mask=PermutationMask('noise'), sample_range_pc=parameters['sample_range_pc'], sample_step=parameters['sample_step'], verbose=parameters['verbose'])\\n#save the values\\nperm_ig={**perm_ig, **analysis_model_param}\\nprint('Saving permutation results to: {}'.format(PERM_SAVE_PATH + 'perm_ig.pckl'))\\nwith open(PERM_SAVE_PATH + 'perm_ig.pckl', 'wb') as tfile:\\n        pickle.dump(perm_ig, tfile, pickle.HIGHEST_PROTOCOL)\\n\""
      ]
     },
     "execution_count": 23,
     "metadata": {},
     "output_type": "execute_result"
    }
   ],
   "source": [
    "'''\n",
    "from captum.attr import IntegratedGradients\n",
    "ig = IntegratedGradients(model)\n",
    "\n",
    "analysis_model_param={'return_convergence_delta':False,'internal_batch_size':1, 'n_steps':100}\n",
    "analysis_model={'algorithm': ig, 'parameters': analysis_model_param}\n",
    "perm_ig=permutation_analysis(model, perm_data_generator, analysis_model, mask=PermutationMask('noise'), sample_range_pc=parameters['sample_range_pc'], sample_step=parameters['sample_step'], verbose=parameters['verbose'])\n",
    "#save the values\n",
    "perm_ig={**perm_ig, **analysis_model_param}\n",
    "print('Saving permutation results to: {}'.format(PERM_SAVE_PATH + 'perm_ig.pckl'))\n",
    "with open(PERM_SAVE_PATH + 'perm_ig.pckl', 'wb') as tfile:\n",
    "        pickle.dump(perm_ig, tfile, pickle.HIGHEST_PROTOCOL)\n",
    "'''"
   ]
  },
  {
   "cell_type": "markdown",
   "metadata": {},
   "source": [
    "## 10. Deconvolutional Networks"
   ]
  },
  {
   "cell_type": "code",
   "execution_count": 24,
   "metadata": {},
   "outputs": [
    {
     "data": {
      "text/plain": [
       "\"\\nfrom captum.attr import Deconvolution\\ndeconv = Deconvolution(model)\\nanalysis_model_param={}\\nanalysis_model={'algorithm': deconv, 'parameters': analysis_model_param}\\nperm_deconv=permutation_analysis(model, perm_data_generator, analysis_model, mask=PermutationMask('noise'), sample_range_pc=parameters['sample_range_pc'], sample_step=parameters['sample_step'], verbose=parameters['verbose'])\\n#save the values\\nperm_deconv={**perm_deconv, **analysis_model_param}\\nprint('Saving permutation results to: {}'.format(PERM_SAVE_PATH + 'perm_deconv.pckl'))\\nwith open(PERM_SAVE_PATH + 'perm_deconv.pckl', 'wb') as tfile:\\n        pickle.dump(perm_deconv, tfile, pickle.HIGHEST_PROTOCOL)\\n\""
      ]
     },
     "execution_count": 24,
     "metadata": {},
     "output_type": "execute_result"
    }
   ],
   "source": [
    "'''\n",
    "from captum.attr import Deconvolution\n",
    "deconv = Deconvolution(model)\n",
    "analysis_model_param={}\n",
    "analysis_model={'algorithm': deconv, 'parameters': analysis_model_param}\n",
    "perm_deconv=permutation_analysis(model, perm_data_generator, analysis_model, mask=PermutationMask('noise'), sample_range_pc=parameters['sample_range_pc'], sample_step=parameters['sample_step'], verbose=parameters['verbose'])\n",
    "#save the values\n",
    "perm_deconv={**perm_deconv, **analysis_model_param}\n",
    "print('Saving permutation results to: {}'.format(PERM_SAVE_PATH + 'perm_deconv.pckl'))\n",
    "with open(PERM_SAVE_PATH + 'perm_deconv.pckl', 'wb') as tfile:\n",
    "        pickle.dump(perm_deconv, tfile, pickle.HIGHEST_PROTOCOL)\n",
    "'''"
   ]
  },
  {
   "cell_type": "code",
   "execution_count": 25,
   "metadata": {},
   "outputs": [],
   "source": [
    "#load permutation results\n",
    "with open(PERM_SAVE_PATH + '/' + 'perm_random.pckl', 'rb') as file:\n",
    "            perm_random = pickle.load(file)\n",
    "with open(PERM_SAVE_PATH + '/' + 'perm_random_AoT_rev.pckl', 'rb') as file:\n",
    "            perm_random_AoT_rev = pickle.load(file)\n",
    "with open(PERM_SAVE_PATH + '/' + 'perm_random_AoT_fwd.pckl', 'rb') as file:\n",
    "            perm_random_AoT_fwd = pickle.load(file)\n",
    "with open(PERM_SAVE_PATH + '/' + 'perm_lrp_cmp.pckl', 'rb') as file:\n",
    "            perm_lrp_cmp = pickle.load(file)\n",
    "with open(PERM_SAVE_PATH + '/' + 'perm_lrp_cmp_alphabeta.pckl', 'rb') as file:\n",
    "            perm_lrp_cmp_alphabeta = pickle.load(file)\n",
    "with open(PERM_SAVE_PATH + '/' + 'perm_lrpe.pckl', 'rb') as file:\n",
    "            perm_lrpe = pickle.load(file)\n",
    "with open(PERM_SAVE_PATH + '/' + 'perm_lrp0.pckl', 'rb') as file:\n",
    "            perm_lrp0 = pickle.load(file)\n",
    "with open(PERM_SAVE_PATH + '/' + 'perm_lrpe100.pckl', 'rb') as file:\n",
    "            perm_lrpe100 = pickle.load(file)\n",
    "with open(PERM_SAVE_PATH + '/' + 'perm_lrpAB.pckl', 'rb') as file:\n",
    "            perm_lrpAB = pickle.load(file)\n",
    "with open(PERM_SAVE_PATH + '/' + 'perm_sal.pckl', 'rb') as file:\n",
    "            perm_sal = pickle.load(file)\n",
    "with open(PERM_SAVE_PATH + '/' + 'perm_gbp.pckl', 'rb') as file:\n",
    "            perm_gbp = pickle.load(file)\n",
    "with open(PERM_SAVE_PATH + '/' + 'perm_ixg.pckl', 'rb') as file:\n",
    "            perm_ixg = pickle.load(file)\n",
    "with open(PERM_SAVE_PATH + '/' + 'perm_gbp.pckl', 'rb') as file:\n",
    "            perm_gbp = pickle.load(file)\n",
    "with open(PERM_SAVE_PATH + '/' + 'perm_ig.pckl', 'rb') as file:\n",
    "            perm_ig = pickle.load(file)\n",
    "with open(PERM_SAVE_PATH + '/' + 'perm_deconv.pckl', 'rb') as file:\n",
    "            perm_deconv = pickle.load(file)"
   ]
  },
  {
   "cell_type": "markdown",
   "metadata": {},
   "source": [
    "## Plotting all Permutation Experiments"
   ]
  },
  {
   "cell_type": "code",
   "execution_count": 26,
   "metadata": {},
   "outputs": [
    {
     "data": {
      "image/png": "[encoded data removed]",
      "text/plain": [
       "<Figure size 360x360 with 1 Axes>"
      ]
     },
     "metadata": {
      "needs_background": "light"
     },
     "output_type": "display_data"
    }
   ],
   "source": [
    "from mpl_toolkits.axes_grid1.inset_locator import zoomed_inset_axes, mark_inset\n",
    "from matplotlib.ticker import MultipleLocator\n",
    "ml = MultipleLocator(5)\n",
    "import matplotlib.ticker as tck\n",
    "\n",
    "metric='acc'\n",
    "\n",
    "fig, ax = plt.subplots(figsize=(5, 5))\n",
    "ax.plot(perm_random['samples'], np.mean(perm_random[metric], axis=0),'--', label='random', color='k')\n",
    "#ax.plot(perm_random_AoT_fwd['samples'], np.mean(perm_random_AoT_fwd[metric], axis=0),':', label='disrupt AoT, fwd')\n",
    "#ax.plot(perm_random_AoT_rev['samples'], np.mean(perm_random_AoT_rev[metric], axis=0),':', label='disrupt AoT, rev')\n",
    "ax.plot(perm_random['samples'], np.mean(np.vstack((np.mean(perm_random_AoT_fwd[metric],  axis=0), np.mean(perm_random_AoT_rev[metric],  axis=0))), axis=0), ':', label='disrpupt AoT', color='k')\n",
    "ax.plot(perm_lrp_cmp['samples'], np.mean(perm_lrp_cmp[metric], axis=0), '-', label=r'LRP-CMP')\n",
    "ax.plot(perm_lrpe['samples'], np.mean(perm_lrpe[metric], axis=0), '-', label=r'LRP-$\\epsilon$')\n",
    "ax.plot(perm_lrpAB['samples'], np.mean(perm_lrpAB[metric], axis=0), '-', label=r'LRP-$\\alpha\\beta$')\n",
    "ax.plot(perm_lrp0['samples'], np.mean(perm_lrp0[metric], axis=0), '-', label=r'LRP-0')\n",
    "ax.plot(perm_sal['samples'], np.mean(perm_sal[metric], axis=0), '-', label=r'saliency')\n",
    "ax.plot(perm_gbp['samples'], np.mean(perm_gbp[metric], axis=0), '-', label=r'GBP')\n",
    "ax.plot(perm_lrp_cmp_alphabeta['samples'], np.mean(perm_lrp_cmp_alphabeta[metric], axis=0), '-', label=r'LRP-CMP ($\\alpha\\beta$)')\n",
    "ax.plot(perm_lrpe100['samples'], np.mean(perm_lrpe100[metric], axis=0), '-', label=r'LRP-$\\epsilon=100$')\n",
    "ax.plot(perm_ixg['samples'], np.mean(perm_ixg[metric], axis=0), '-', label=r'I $\\times$ G')\n",
    "ax.plot(perm_ig['samples'], np.mean(perm_ig[metric], axis=0), '-', label=r'$\\int$G')\n",
    "ax.plot(perm_deconv['samples'], np.mean(perm_deconv[metric], axis=0), '-', label=r'DeConv')\n",
    "\n",
    "\n",
    "ax.set_ylabel(metric.upper())\n",
    "ax.set_xlabel('% samples masked')\n",
    "ax.set_xlim((-2, 100))\n",
    "ax.yaxis.set_minor_locator(MultipleLocator(0.02))\n",
    "ax.xaxis.set_minor_locator(MultipleLocator(2))\n",
    "\n",
    "lgd=ax.legend(loc='center left', bbox_to_anchor=(1, 0.5))\n",
    "\n",
    "# Save files in pdf and eps format\n",
    "#plt.savefig(home + SAVE_PATH + \"/permutation_test.pdf\", dpi=150,  bbox_extra_artists=(lgd,), bbox_inches='tight')\n",
    "#plt.savefig(home + SAVE_PATH + \"/permutation_test.svg\", dpi=150,  bbox_extra_artists=(lgd,), bbox_inches='tight')\n",
    "# svg backend currently ignores the dpi\n",
    "\n",
    "plt.show()"
   ]
  },
  {
   "cell_type": "markdown",
   "metadata": {},
   "source": [
    "## Plotting Selected Permutation Comparisons"
   ]
  },
  {
   "cell_type": "code",
   "execution_count": 38,
   "metadata": {},
   "outputs": [
    {
     "data": {
      "image/png": "[encoded data removed]",
      "text/plain": [
       "<Figure size 360x360 with 1 Axes>"
      ]
     },
     "metadata": {
      "needs_background": "light"
     },
     "output_type": "display_data"
    }
   ],
   "source": [
    "#to-do: change the colors to colorblind appropiate\n",
    "\n",
    "fig, ax = plt.subplots(figsize=(5, 5))\n",
    "ax.plot(perm_random['samples'], np.mean(perm_random[metric], axis=0),'--', label='random', color='k')\n",
    "#ax.plot(perm_random_AoT_fwd['samples'], np.mean(perm_random_AoT_fwd[metric], axis=0),':', label='disrupt AoT, fwd', color='k')\n",
    "#ax.plot(perm_random_AoT_rev['samples'], np.mean(perm_random_AoT_rev[metric], axis=0),':', label='disrupt AoT, rev', color='k')\n",
    "ax.plot(perm_random['samples'], np.mean(np.vstack((np.mean(perm_random_AoT_fwd[metric],  axis=0), np.mean(perm_random_AoT_rev[metric],  axis=0))), axis=0), ':', label='disrpupt AoT', color='k')\n",
    "ax.plot(perm_lrp_cmp['samples'], np.mean(perm_lrp_cmp[metric], axis=0), '-', label=r'LRP-CMP')\n",
    "ax.plot(perm_lrpe['samples'], np.mean(perm_lrpe[metric], axis=0), '-', label=r'LRP-$\\epsilon$')\n",
    "ax.plot(perm_lrpAB['samples'], np.mean(perm_lrpAB[metric], axis=0), '-', label=r'LRP-$\\alpha\\beta$')\n",
    "ax.plot(perm_lrp0['samples'], np.mean(perm_lrp0[metric], axis=0), '-', label=r'LRP-0')\n",
    "ax.plot(perm_sal['samples'], np.mean(perm_sal[metric], axis=0), '-', label=r'saliency')\n",
    "ax.plot(perm_gbp['samples'], np.mean(perm_gbp[metric], axis=0), '-', label=r'GBP')\n",
    "#ax.plot(perm_lrp_cmp_alphabeta['samples'], np.mean(perm_lrp_cmp_alphabeta[metric], axis=0), '-', label=r'LRP-CMP ($\\alpha\\beta$)')\n",
    "#ax.plot(perm_lrpe100['samples'], np.mean(perm_lrpe100[metric], axis=0), '-', label=r'LRP-$\\epsilon=100$')\n",
    "#ax.plot(perm_ixg['samples'], np.mean(perm_ixg[metric], axis=0), '-', label=r'I $\\times$ G')\n",
    "#ax.plot(perm_ig['samples'], np.mean(perm_ig[metric], axis=0), '-', label=r'$\\int$G')\n",
    "#ax.plot(perm_deconv['samples'], np.mean(perm_deconv[metric], axis=0), '-', label=r'DeConv')\n",
    "\n",
    "ax.set_ylabel('test_acc')\n",
    "ax.set_xlabel('% samples masked')\n",
    "ax.set_xlim((-2, 100))\n",
    "ax.yaxis.set_minor_locator(MultipleLocator(0.025))\n",
    "ax.xaxis.set_minor_locator(MultipleLocator(5))\n",
    "ax.set_title('AoT test accuracy')\n",
    "lgd=ax.legend(loc='center left', bbox_to_anchor=(1, 0.5))\n",
    "\n",
    "# Save files in pdf and eps format\n",
    "plt.savefig(PERM_SAVE_PATH + \"/permutation_test.pdf\", dpi=150,  bbox_extra_artists=(lgd,), bbox_inches='tight')\n",
    "plt.savefig(PERM_SAVE_PATH + \"/permutation_test.svg\", dpi=150,  bbox_extra_artists=(lgd,), bbox_inches='tight')\n",
    "# svg backend currently ignores the dpi\n",
    "\n",
    "plt.show()"
   ]
  },
  {
   "cell_type": "code",
   "execution_count": null,
   "metadata": {},
   "outputs": [],
   "source": []
  }
 ],
 "metadata": {
  "kernelspec": {
   "display_name": "Python 3 (ipykernel)",
   "language": "python",
   "name": "python3"
  },
  "language_info": {
   "codemirror_mode": {
    "name": "ipython",
    "version": 3
   },
   "file_extension": ".py",
   "mimetype": "text/x-python",
   "name": "python",
   "nbconvert_exporter": "python",
   "pygments_lexer": "ipython3",
   "version": "3.9.7"
  }
 },
 "nbformat": 4,
 "nbformat_minor": 4
}
